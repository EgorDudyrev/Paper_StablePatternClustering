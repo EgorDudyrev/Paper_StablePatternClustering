{
 "cells": [
  {
   "cell_type": "markdown",
   "metadata": {},
   "source": [
    "Typical DS packages"
   ]
  },
  {
   "cell_type": "code",
   "execution_count": 1380,
   "metadata": {},
   "outputs": [],
   "source": [
    "import warnings \n",
    "warnings.filterwarnings('ignore')"
   ]
  },
  {
   "cell_type": "code",
   "execution_count": 1381,
   "metadata": {
    "ExecuteTime": {
     "end_time": "2024-08-27T11:47:14.971719Z",
     "start_time": "2024-08-27T11:47:10.293247Z"
    }
   },
   "outputs": [],
   "source": [
    "import numpy as np\n",
    "import pandas as pd\n",
    "\n",
    "import matplotlib.pyplot as plt\n",
    "\n",
    "from matplotlib.colors import to_rgba\n",
    "\n",
    "from sklearn import datasets\n",
    "\n",
    "from tqdm import tqdm"
   ]
  },
  {
   "cell_type": "code",
   "execution_count": 1382,
   "metadata": {},
   "outputs": [
    {
     "name": "stdout",
     "output_type": "stream",
     "text": [
      "Collecting caspailleur@ git+https://github.com/EgorDudyrev/caspailleur.git (from -r requirements.txt (line 1))\n",
      "  Cloning https://github.com/EgorDudyrev/caspailleur.git to /private/var/folders/ym/ymvbx_ts67n0ln90hj1qmz8h0000gn/T/pip-install-uvu4hui0/caspailleur_ed969ab1e7714404aa5a223490bb65f0\n",
      "  Running command git clone --filter=blob:none --quiet https://github.com/EgorDudyrev/caspailleur.git /private/var/folders/ym/ymvbx_ts67n0ln90hj1qmz8h0000gn/T/pip-install-uvu4hui0/caspailleur_ed969ab1e7714404aa5a223490bb65f0\n",
      "  Resolved https://github.com/EgorDudyrev/caspailleur.git to commit b65df09edaef0767c8d5a5aa97a9efe809c7d24a\n",
      "  Installing build dependencies ... \u001b[?25ldone\n",
      "\u001b[?25h  Getting requirements to build wheel ... \u001b[?25ldone\n",
      "\u001b[?25h  Preparing metadata (pyproject.toml) ... \u001b[?25ldone\n",
      "\u001b[?25hCollecting paspailleur@ git+https://github.com/EgorDudyrev/paspailleur.git@feature/pattern_keys (from -r requirements.txt (line 2))\n",
      "  Cloning https://github.com/EgorDudyrev/paspailleur.git (to revision feature/pattern_keys) to /private/var/folders/ym/ymvbx_ts67n0ln90hj1qmz8h0000gn/T/pip-install-uvu4hui0/paspailleur_eaeb8594bdc24e2f84eb777a4bd4b7ff\n",
      "  Running command git clone --filter=blob:none --quiet https://github.com/EgorDudyrev/paspailleur.git /private/var/folders/ym/ymvbx_ts67n0ln90hj1qmz8h0000gn/T/pip-install-uvu4hui0/paspailleur_eaeb8594bdc24e2f84eb777a4bd4b7ff\n",
      "  Running command git checkout -b feature/pattern_keys --track origin/feature/pattern_keys\n",
      "  Switched to a new branch 'feature/pattern_keys'\n",
      "  branch 'feature/pattern_keys' set up to track 'origin/feature/pattern_keys'.\n",
      "  Resolved https://github.com/EgorDudyrev/paspailleur.git to commit df983f62ea578dd434d04b7e48939ea98d9719ea\n",
      "  Installing build dependencies ... \u001b[?25ldone\n",
      "\u001b[?25h  Getting requirements to build wheel ... \u001b[?25ldone\n",
      "\u001b[?25h  Preparing metadata (pyproject.toml) ... \u001b[?25ldone\n",
      "\u001b[?25hRequirement already satisfied: matplotlib~=3.7.5 in /opt/homebrew/Cellar/jupyterlab/4.1.0/libexec/lib/python3.12/site-packages (from -r requirements.txt (line 3)) (3.7.5)\n",
      "Requirement already satisfied: numpy>=1.20 in /opt/homebrew/Cellar/jupyterlab/4.1.0/libexec/lib/python3.12/site-packages (from caspailleur@ git+https://github.com/EgorDudyrev/caspailleur.git->-r requirements.txt (line 1)) (1.26.4)\n",
      "Requirement already satisfied: scikit-mine>=1 in /opt/homebrew/Cellar/jupyterlab/4.1.0/libexec/lib/python3.12/site-packages (from caspailleur@ git+https://github.com/EgorDudyrev/caspailleur.git->-r requirements.txt (line 1)) (1.0.0)\n",
      "Requirement already satisfied: bitarray>=2.5.1 in /opt/homebrew/Cellar/jupyterlab/4.1.0/libexec/lib/python3.12/site-packages (from caspailleur@ git+https://github.com/EgorDudyrev/caspailleur.git->-r requirements.txt (line 1)) (2.9.2)\n",
      "Requirement already satisfied: tqdm in /opt/homebrew/Cellar/jupyterlab/4.1.0/libexec/lib/python3.12/site-packages (from caspailleur@ git+https://github.com/EgorDudyrev/caspailleur.git->-r requirements.txt (line 1)) (4.66.2)\n",
      "Requirement already satisfied: deprecation in /opt/homebrew/Cellar/jupyterlab/4.1.0/libexec/lib/python3.12/site-packages (from caspailleur@ git+https://github.com/EgorDudyrev/caspailleur.git->-r requirements.txt (line 1)) (2.1.0)\n",
      "Requirement already satisfied: contourpy>=1.0.1 in /opt/homebrew/Cellar/jupyterlab/4.1.0/libexec/lib/python3.12/site-packages (from matplotlib~=3.7.5->-r requirements.txt (line 3)) (1.2.0)\n",
      "Requirement already satisfied: cycler>=0.10 in /opt/homebrew/Cellar/jupyterlab/4.1.0/libexec/lib/python3.12/site-packages (from matplotlib~=3.7.5->-r requirements.txt (line 3)) (0.12.1)\n",
      "Requirement already satisfied: fonttools>=4.22.0 in /opt/homebrew/Cellar/jupyterlab/4.1.0/libexec/lib/python3.12/site-packages (from matplotlib~=3.7.5->-r requirements.txt (line 3)) (4.49.0)\n",
      "Requirement already satisfied: kiwisolver>=1.0.1 in /opt/homebrew/Cellar/jupyterlab/4.1.0/libexec/lib/python3.12/site-packages (from matplotlib~=3.7.5->-r requirements.txt (line 3)) (1.4.5)\n",
      "Requirement already satisfied: packaging>=20.0 in /opt/homebrew/opt/python-packaging/lib/python3.12/site-packages (from matplotlib~=3.7.5->-r requirements.txt (line 3)) (23.2)\n",
      "Requirement already satisfied: pillow>=6.2.0 in /opt/homebrew/Cellar/jupyterlab/4.1.0/libexec/lib/python3.12/site-packages (from matplotlib~=3.7.5->-r requirements.txt (line 3)) (10.2.0)\n",
      "Requirement already satisfied: pyparsing>=2.3.1 in /opt/homebrew/Cellar/jupyterlab/4.1.0/libexec/lib/python3.12/site-packages (from matplotlib~=3.7.5->-r requirements.txt (line 3)) (3.1.1)\n",
      "Requirement already satisfied: python-dateutil>=2.7 in /opt/homebrew/opt/python-dateutil/lib/python3.12/site-packages (from matplotlib~=3.7.5->-r requirements.txt (line 3)) (2.8.2)\n",
      "Requirement already satisfied: six>=1.5 in /opt/homebrew/opt/six/lib/python3.12/site-packages (from python-dateutil>=2.7->matplotlib~=3.7.5->-r requirements.txt (line 3)) (1.16.0)\n",
      "Requirement already satisfied: scipy>=1.2.1 in /opt/homebrew/Cellar/jupyterlab/4.1.0/libexec/lib/python3.12/site-packages (from scikit-mine>=1->caspailleur@ git+https://github.com/EgorDudyrev/caspailleur.git->-r requirements.txt (line 1)) (1.12.0)\n",
      "Requirement already satisfied: pandas>=1.0.0 in /opt/homebrew/Cellar/jupyterlab/4.1.0/libexec/lib/python3.12/site-packages (from scikit-mine>=1->caspailleur@ git+https://github.com/EgorDudyrev/caspailleur.git->-r requirements.txt (line 1)) (2.2.0)\n",
      "Requirement already satisfied: pyroaring>=0.3.4 in /opt/homebrew/Cellar/jupyterlab/4.1.0/libexec/lib/python3.12/site-packages (from scikit-mine>=1->caspailleur@ git+https://github.com/EgorDudyrev/caspailleur.git->-r requirements.txt (line 1)) (0.4.5)\n",
      "Requirement already satisfied: joblib>=0.11.1 in /opt/homebrew/Cellar/jupyterlab/4.1.0/libexec/lib/python3.12/site-packages (from scikit-mine>=1->caspailleur@ git+https://github.com/EgorDudyrev/caspailleur.git->-r requirements.txt (line 1)) (1.3.2)\n",
      "Requirement already satisfied: sortedcontainers>=2.1.0 in /opt/homebrew/Cellar/jupyterlab/4.1.0/libexec/lib/python3.12/site-packages (from scikit-mine>=1->caspailleur@ git+https://github.com/EgorDudyrev/caspailleur.git->-r requirements.txt (line 1)) (2.4.0)\n",
      "Requirement already satisfied: dataclasses>=0.6 in /opt/homebrew/Cellar/jupyterlab/4.1.0/libexec/lib/python3.12/site-packages (from scikit-mine>=1->caspailleur@ git+https://github.com/EgorDudyrev/caspailleur.git->-r requirements.txt (line 1)) (0.6)\n",
      "Requirement already satisfied: networkx in /opt/homebrew/Cellar/jupyterlab/4.1.0/libexec/lib/python3.12/site-packages (from scikit-mine>=1->caspailleur@ git+https://github.com/EgorDudyrev/caspailleur.git->-r requirements.txt (line 1)) (3.2.1)\n",
      "Requirement already satisfied: wget>=3.2 in /opt/homebrew/Cellar/jupyterlab/4.1.0/libexec/lib/python3.12/site-packages (from scikit-mine>=1->caspailleur@ git+https://github.com/EgorDudyrev/caspailleur.git->-r requirements.txt (line 1)) (3.2)\n",
      "Requirement already satisfied: scikit-learn in /opt/homebrew/Cellar/jupyterlab/4.1.0/libexec/lib/python3.12/site-packages (from scikit-mine>=1->caspailleur@ git+https://github.com/EgorDudyrev/caspailleur.git->-r requirements.txt (line 1)) (1.4.1.post1)\n",
      "Requirement already satisfied: graphviz in /opt/homebrew/Cellar/jupyterlab/4.1.0/libexec/lib/python3.12/site-packages (from scikit-mine>=1->caspailleur@ git+https://github.com/EgorDudyrev/caspailleur.git->-r requirements.txt (line 1)) (0.20.1)\n",
      "Requirement already satisfied: pydot in /opt/homebrew/Cellar/jupyterlab/4.1.0/libexec/lib/python3.12/site-packages (from scikit-mine>=1->caspailleur@ git+https://github.com/EgorDudyrev/caspailleur.git->-r requirements.txt (line 1)) (2.0.0)\n",
      "Requirement already satisfied: pytz>=2020.1 in /opt/homebrew/Cellar/jupyterlab/4.1.0/libexec/lib/python3.12/site-packages (from pandas>=1.0.0->scikit-mine>=1->caspailleur@ git+https://github.com/EgorDudyrev/caspailleur.git->-r requirements.txt (line 1)) (2024.1)\n",
      "Requirement already satisfied: tzdata>=2022.7 in /opt/homebrew/Cellar/jupyterlab/4.1.0/libexec/lib/python3.12/site-packages (from pandas>=1.0.0->scikit-mine>=1->caspailleur@ git+https://github.com/EgorDudyrev/caspailleur.git->-r requirements.txt (line 1)) (2024.1)\n",
      "Requirement already satisfied: threadpoolctl>=2.0.0 in /opt/homebrew/Cellar/jupyterlab/4.1.0/libexec/lib/python3.12/site-packages (from scikit-learn->scikit-mine>=1->caspailleur@ git+https://github.com/EgorDudyrev/caspailleur.git->-r requirements.txt (line 1)) (3.3.0)\n",
      "\n",
      "\u001b[1m[\u001b[0m\u001b[34;49mnotice\u001b[0m\u001b[1;39;49m]\u001b[0m\u001b[39;49m A new release of pip is available: \u001b[0m\u001b[31;49m23.3.1\u001b[0m\u001b[39;49m -> \u001b[0m\u001b[32;49m24.2\u001b[0m\n",
      "\u001b[1m[\u001b[0m\u001b[34;49mnotice\u001b[0m\u001b[1;39;49m]\u001b[0m\u001b[39;49m To update, run: \u001b[0m\u001b[32;49m/opt/homebrew/Cellar/jupyterlab/4.1.0/libexec/bin/python -m pip install --upgrade pip\u001b[0m\n",
      "Note: you may need to restart the kernel to use updated packages.\n"
     ]
    }
   ],
   "source": [
    "pip install -r requirements.txt"
   ]
  },
  {
   "cell_type": "code",
   "execution_count": 1383,
   "metadata": {},
   "outputs": [],
   "source": [
    "# cities = pd.read_csv('worldcities.csv')"
   ]
  },
  {
   "cell_type": "code",
   "execution_count": 1384,
   "metadata": {},
   "outputs": [],
   "source": [
    "#cities"
   ]
  },
  {
   "cell_type": "code",
   "execution_count": 1385,
   "metadata": {},
   "outputs": [],
   "source": [
    "#new_cities = cities.loc[cities[\"country\"] == \"Spain\"]"
   ]
  },
  {
   "cell_type": "code",
   "execution_count": 1386,
   "metadata": {},
   "outputs": [],
   "source": [
    "#new_cities"
   ]
  },
  {
   "cell_type": "code",
   "execution_count": 1387,
   "metadata": {},
   "outputs": [],
   "source": [
    "# new_cities = new_cities.drop(['id','country', 'iso2', 'iso3', 'city_ascii'], axis = 1)\n",
    "# new_cities"
   ]
  },
  {
   "cell_type": "code",
   "execution_count": 1388,
   "metadata": {},
   "outputs": [],
   "source": [
    "# new_cities = new_cities.drop(['capital'], axis = 1)\n",
    "# new_cities"
   ]
  },
  {
   "cell_type": "code",
   "execution_count": 1389,
   "metadata": {},
   "outputs": [],
   "source": [
    "# new_cities['sample_id'] = np.arange(0, new_cities.shape[0], 1).astype(str)\n",
    "# new_cities['id'] = new_cities['sample_id'].apply(lambda x:  'h'+x)\n",
    "# new_cities.drop(columns=['sample_id'], inplace=True)\n",
    "# new_cities=new_cities.set_index('id')\n",
    "# new_cities"
   ]
  },
  {
   "cell_type": "code",
   "execution_count": 1390,
   "metadata": {},
   "outputs": [],
   "source": [
    "# new_cities = new_cities.drop(['population'], axis = 1)\n",
    "# new_cities"
   ]
  },
  {
   "cell_type": "markdown",
   "metadata": {},
   "source": [
    "FCA packages"
   ]
  },
  {
   "cell_type": "code",
   "execution_count": 1391,
   "metadata": {
    "ExecuteTime": {
     "end_time": "2024-08-27T13:33:31.239253Z",
     "start_time": "2024-08-27T13:33:31.231088Z"
    }
   },
   "outputs": [],
   "source": [
    "import caspailleur as csp\n",
    "from paspailleur import pattern_structures as PS"
   ]
  },
  {
   "cell_type": "markdown",
   "metadata": {},
   "source": [
    "Bitarrays that make operations on extent really fast"
   ]
  },
  {
   "cell_type": "markdown",
   "metadata": {},
   "source": [
    "# Clustering Step 1. Get the data"
   ]
  },
  {
   "cell_type": "code",
   "execution_count": 1392,
   "metadata": {},
   "outputs": [],
   "source": [
    "from bitarray.util import subset as ba_subset\n",
    "from bitarray import frozenbitarray"
   ]
  },
  {
   "cell_type": "markdown",
   "metadata": {},
   "source": [
    "Copy-pasting the code from https://scikit-learn.org/stable/modules/clustering.html"
   ]
  },
  {
   "cell_type": "markdown",
   "metadata": {},
   "source": [
    "## noisy circles"
   ]
  },
  {
   "cell_type": "code",
   "execution_count": 1393,
   "metadata": {},
   "outputs": [],
   "source": [
    "# # ============\n",
    "# # Generate datasets. We choose the size big enough to see the scalability\n",
    "# # of the algorithms, but not too big to avoid too long running times\n",
    "# # ============\n",
    "# n_samples = 500\n",
    "# seed = 30\n",
    "# noisy_circles = datasets.make_circles(\n",
    "#     n_samples=n_samples, factor=0.5, noise=0.05, random_state=seed\n",
    "# )\n",
    "# X, y = noisy_circles"
   ]
  },
  {
   "cell_type": "markdown",
   "metadata": {},
   "source": [
    "## noisy moons"
   ]
  },
  {
   "cell_type": "code",
   "execution_count": 1394,
   "metadata": {},
   "outputs": [],
   "source": [
    "# # ============\n",
    "# # Generate datasets. We choose the size big enough to see the scalability\n",
    "# # of the algorithms, but not too big to avoid too long running times\n",
    "# # ============\n",
    "# n_samples = 500\n",
    "# seed = 30\n",
    "# noisy_moons = datasets.make_moons(n_samples=n_samples, noise=0.05, random_state=seed)\n",
    "\n",
    "# X, y = noisy_moons"
   ]
  },
  {
   "cell_type": "markdown",
   "metadata": {},
   "source": [
    "## blobs"
   ]
  },
  {
   "cell_type": "code",
   "execution_count": 1395,
   "metadata": {},
   "outputs": [],
   "source": [
    "# # ============\n",
    "# # Generate datasets. We choose the size big enough to see the scalability\n",
    "# # of the algorithms, but not too big to avoid too long running times\n",
    "# # ============\n",
    "# n_samples = 500\n",
    "# seed = 30\n",
    "# blobs = datasets.make_blobs(n_samples=n_samples, random_state=seed)\n",
    "\n",
    "# X, y = blobs"
   ]
  },
  {
   "cell_type": "markdown",
   "metadata": {},
   "source": [
    "## varied"
   ]
  },
  {
   "cell_type": "code",
   "execution_count": 1396,
   "metadata": {},
   "outputs": [],
   "source": [
    "# # ============\n",
    "# # Generate datasets. We choose the size big enough to see the scalability\n",
    "# # of the algorithms, but not too big to avoid too long running times\n",
    "# # ============\n",
    "# n_samples = 500\n",
    "# seed = 30\n",
    "# random_state = 170\n",
    "# varied = datasets.make_blobs(n_samples=n_samples, cluster_std=[1.0, 2.5, 0.5], random_state=170)\n",
    "\n",
    "# X, y = varied"
   ]
  },
  {
   "cell_type": "markdown",
   "metadata": {},
   "source": [
    "## no_structure"
   ]
  },
  {
   "cell_type": "code",
   "execution_count": 1397,
   "metadata": {},
   "outputs": [],
   "source": [
    "# # ============\n",
    "# # Generate datasets. We choose the size big enough to see the scalability\n",
    "# # of the algorithms, but not too big to avoid too long running times\n",
    "# # ============\n",
    "# n_samples = 500\n",
    "# seed = 30\n",
    "# random_state = 170\n",
    "# rng = np.random.RandomState(seed)\n",
    "# no_structure = rng.rand(n_samples, 2), None\n",
    "\n",
    "# X, y = no_structure"
   ]
  },
  {
   "cell_type": "markdown",
   "metadata": {},
   "source": [
    "## aniso"
   ]
  },
  {
   "cell_type": "code",
   "execution_count": 1398,
   "metadata": {
    "ExecuteTime": {
     "end_time": "2024-08-27T11:55:29.746129Z",
     "start_time": "2024-08-27T11:55:29.743541Z"
    }
   },
   "outputs": [],
   "source": [
    "# ============\n",
    "# Generate datasets. We choose the size big enough to see the scalability\n",
    "# of the algorithms, but not too big to avoid too long running times\n",
    "# ============\n",
    "n_samples = 500\n",
    "seed = 30\n",
    "random_state = 170\n",
    "\n",
    "\n",
    "\n",
    "\n",
    "X, y = datasets.make_blobs(n_samples=n_samples, random_state=random_state)\n",
    "transformation = [[0.6, -0.6], [-0.4, 0.8]]\n",
    "X_aniso = np.dot(X, transformation)\n",
    "aniso = (X_aniso, y)\n",
    "\n",
    "\n",
    "X, y = aniso"
   ]
  },
  {
   "cell_type": "markdown",
   "metadata": {},
   "source": [
    "# Test examples on Blobs data"
   ]
  },
  {
   "cell_type": "code",
   "execution_count": 1399,
   "metadata": {},
   "outputs": [],
   "source": [
    "# # ============\n",
    "# # Generate datasets. We choose the size big enough to see the scalability\n",
    "# # of the algorithms, but not too big to avoid too long running times\n",
    "# # ============\n",
    "# n_samples = 500\n",
    "# seed = 30\n",
    "# blobs = datasets.make_blobs(n_samples=n_samples, random_state=seed)\n",
    "\n",
    "# X, y = blobs"
   ]
  },
  {
   "cell_type": "code",
   "execution_count": 1400,
   "metadata": {
    "ExecuteTime": {
     "end_time": "2024-08-27T12:03:06.714175Z",
     "start_time": "2024-08-27T12:03:06.709478Z"
    }
   },
   "outputs": [],
   "source": [
    "import visual_lib_new as vlib"
   ]
  },
  {
   "cell_type": "code",
   "execution_count": 1401,
   "metadata": {},
   "outputs": [],
   "source": [
    "from itertools import cycle, islice"
   ]
  },
  {
   "cell_type": "code",
   "execution_count": 1402,
   "metadata": {
    "ExecuteTime": {
     "end_time": "2024-08-27T12:51:38.581704Z",
     "start_time": "2024-08-27T12:51:38.543370Z"
    }
   },
   "outputs": [
    {
     "data": {
      "image/png": "[encoded data removed]",
      "text/plain": [
       "<Figure size 800x500 with 1 Axes>"
      ]
     },
     "metadata": {},
     "output_type": "display_data"
    }
   ],
   "source": [
    "fig, ax = plt.subplots(figsize=(8, 5))\n",
    "\n",
    "vlib.init_axis(ax, 'Step 1. Get data', [], [])\n",
    "ax.scatter(X[:,0], X[:,1], s=10)\n",
    "\n",
    "fig.savefig('pipe_step1_blobs_sdata.pdf')\n",
    "plt.show()"
   ]
  },
  {
   "cell_type": "markdown",
   "metadata": {},
   "source": [
    "## Step 2. Setup pattern structures"
   ]
  },
  {
   "cell_type": "markdown",
   "metadata": {},
   "source": [
    "#### For numerical columns, setup the grid of intervals that is not too general and not too precise"
   ]
  },
  {
   "cell_type": "code",
   "execution_count": 1403,
   "metadata": {},
   "outputs": [],
   "source": [
    "linscale_x = np.linspace(X[:,0].min()-0.01, X[:,0].max()+0.01, 11)\n",
    "linscale_y = np.linspace(X[:,1].min()-0.01, X[:,1].max()+0.01, 11)\n",
    "\n",
    "ps = PS.CartesianPS([PS.IntervalPS(values=linscale_x), PS.IntervalPS(values=linscale_y)])\n",
    "data = list(ps.preprocess_data(X))"
   ]
  },
  {
   "cell_type": "markdown",
   "metadata": {},
   "source": [
    "## Step 3. Mine stable concepts"
   ]
  },
  {
   "cell_type": "code",
   "execution_count": 1404,
   "metadata": {},
   "outputs": [],
   "source": [
    "import time"
   ]
  },
  {
   "cell_type": "markdown",
   "metadata": {},
   "source": [
    "#### Stable concepts are individual clusters of similar (but not too much) objects"
   ]
  },
  {
   "cell_type": "code",
   "execution_count": 1405,
   "metadata": {
    "ExecuteTime": {
     "end_time": "2024-08-27T12:00:34.179474Z",
     "start_time": "2024-08-27T12:00:34.173959Z"
    }
   },
   "outputs": [],
   "source": [
    "# MIN_SUPPORT = 0.05\n",
    "# MIN_STABILITY = 0.01\n",
    "# PRECISION = 2"
   ]
  },
  {
   "cell_type": "code",
   "execution_count": 1406,
   "metadata": {},
   "outputs": [],
   "source": [
    "Sn0 = time.time()"
   ]
  },
  {
   "cell_type": "code",
   "execution_count": 1407,
   "metadata": {},
   "outputs": [
    {
     "name": "stdout",
     "output_type": "stream",
     "text": [
      "min_cluster_support/len(data)=0.02, min_delta_stability/len(data)=0.01\n"
     ]
    }
   ],
   "source": [
    "\n",
    "min_cluster_support = 10\n",
    "min_delta_stability = 5\n",
    "print(f\"{min_cluster_support/len(data)=}, {min_delta_stability/len(data)=}\")\n"
   ]
  },
  {
   "cell_type": "code",
   "execution_count": 1408,
   "metadata": {},
   "outputs": [
    {
     "name": "stdout",
     "output_type": "stream",
     "text": [
      "min_added_coverage/len(data)=0.15\n"
     ]
    }
   ],
   "source": [
    "min_added_coverage = 75\n",
    "min_cluster_support = max(min_cluster_support, min_added_coverage)\n",
    "print(f\"{min_added_coverage/len(data)=}\")"
   ]
  },
  {
   "cell_type": "code",
   "execution_count": 1409,
   "metadata": {},
   "outputs": [
    {
     "name": "stdout",
     "output_type": "stream",
     "text": [
      "31\n"
     ]
    }
   ],
   "source": [
    "attributes, attr_extents = zip(*ps.iter_attributes(data, min_support=min_cluster_support))\n",
    "print(len(attributes))"
   ]
  },
  {
   "cell_type": "code",
   "execution_count": 1410,
   "metadata": {},
   "outputs": [
    {
     "name": "stderr",
     "output_type": "stream",
     "text": [
      "100%|█████████████████████████████████████████| 31/31 [00:00<00:00, 1849.00it/s]"
     ]
    },
    {
     "name": "stdout",
     "output_type": "stream",
     "text": [
      "n extents 356\n",
      "CPU times: user 84.1 ms, sys: 31.3 ms, total: 115 ms\n",
      "Wall time: 20.6 ms\n"
     ]
    },
    {
     "name": "stderr",
     "output_type": "stream",
     "text": [
      "\n"
     ]
    }
   ],
   "source": [
    "%%time\n",
    "stable_extents = csp.mine_equivalence_classes.list_stable_extents_via_gsofia(\n",
    "    attr_extents,\n",
    "    n_objects=len(data), min_delta_stability=min_delta_stability, min_supp=min_cluster_support,\n",
    "    use_tqdm=True, n_attributes=len(attributes)\n",
    ")\n",
    "stable_extents = sorted(stable_extents, key=lambda ext: ext.count(), reverse=True)\n",
    "print(f\"n extents\", len(stable_extents))\n"
   ]
  },
  {
   "cell_type": "code",
   "execution_count": 1411,
   "metadata": {},
   "outputs": [],
   "source": [
    "Sn1 = time.time()\n",
    "Sn = Sn1-Sn0"
   ]
  },
  {
   "cell_type": "code",
   "execution_count": 1412,
   "metadata": {},
   "outputs": [],
   "source": [
    "import clustering_newest\n",
    "from clustering_newest import select_sparse_extents"
   ]
  },
  {
   "cell_type": "code",
   "execution_count": 1413,
   "metadata": {},
   "outputs": [],
   "source": [
    "from clustering_newest import mine_clusterings"
   ]
  },
  {
   "cell_type": "code",
   "execution_count": 1414,
   "metadata": {},
   "outputs": [],
   "source": [
    "from clustering_newest import mine_clusters_info"
   ]
  },
  {
   "cell_type": "markdown",
   "metadata": {},
   "source": [
    "## Step 4. Find all minimal covering clusterings"
   ]
  },
  {
   "cell_type": "code",
   "execution_count": 1415,
   "metadata": {},
   "outputs": [],
   "source": [
    "Cn0 = time.time()"
   ]
  },
  {
   "cell_type": "code",
   "execution_count": 1416,
   "metadata": {},
   "outputs": [
    {
     "name": "stdout",
     "output_type": "stream",
     "text": [
      "min_total_coverage/len(data)=0.9\n"
     ]
    }
   ],
   "source": [
    "\n",
    "n_clusters_max = 4\n",
    "jaccard_thold = 1 # 0.9\n",
    "min_total_coverage = 450\n",
    "print(f\"{min_total_coverage/len(data)=}\")\n",
    "\n",
    "#### Filter out too similar clusters to simplify the search space (if having too many concepts)"
   ]
  },
  {
   "cell_type": "code",
   "execution_count": 1417,
   "metadata": {},
   "outputs": [
    {
     "name": "stdout",
     "output_type": "stream",
     "text": [
      "len(stable_extents)=356 len(sparse_extents)=356\n"
     ]
    }
   ],
   "source": [
    "sparse_extents = select_sparse_extents(stable_extents, jaccard_thold)\n",
    "print(f\"{len(stable_extents)=}\", f\"{len(sparse_extents)=}\")"
   ]
  },
  {
   "cell_type": "code",
   "execution_count": 1418,
   "metadata": {},
   "outputs": [
    {
     "name": "stdout",
     "output_type": "stream",
     "text": [
      "n clusterings: 47258\n",
      "max found cluster size 4\n",
      "CPU times: user 6.45 s, sys: 38.4 ms, total: 6.48 s\n",
      "Wall time: 6.52 s\n"
     ]
    }
   ],
   "source": [
    "%%time\n",
    "clusterings = list(mine_clusterings(\n",
    "    sparse_extents,\n",
    "    min_support=min_total_coverage, max_length=n_clusters_max, min_added_coverage=min_added_coverage\n",
    "))\n",
    "print('n clusterings:', len(clusterings))\n",
    "print('max found cluster size', max(map(len, clusterings)))\n",
    "\n",
    "#### Find the a lot of minimal clusterings"
   ]
  },
  {
   "cell_type": "markdown",
   "metadata": {},
   "source": [
    "## Step 5. Choose the \"optimal\" clustering"
   ]
  },
  {
   "cell_type": "code",
   "execution_count": 1419,
   "metadata": {},
   "outputs": [
    {
     "data": {
      "text/html": [
       "<div>\n",
       "<style scoped>\n",
       "    .dataframe tbody tr th:only-of-type {\n",
       "        vertical-align: middle;\n",
       "    }\n",
       "\n",
       "    .dataframe tbody tr th {\n",
       "        vertical-align: top;\n",
       "    }\n",
       "\n",
       "    .dataframe thead th {\n",
       "        text-align: right;\n",
       "    }\n",
       "</style>\n",
       "<table border=\"1\" class=\"dataframe\">\n",
       "  <thead>\n",
       "    <tr style=\"text-align: right;\">\n",
       "      <th></th>\n",
       "      <th>extent</th>\n",
       "      <th>intent</th>\n",
       "      <th>delta_stability</th>\n",
       "      <th>support</th>\n",
       "      <th>frequency</th>\n",
       "      <th>intent_human</th>\n",
       "      <th>level</th>\n",
       "      <th>density</th>\n",
       "    </tr>\n",
       "  </thead>\n",
       "  <tbody>\n",
       "    <tr>\n",
       "      <th>0</th>\n",
       "      <td>[1, 1, 1, 1, 1, 1, 1, 1, 1, 1, 1, 1, 1, 1, 1, ...</td>\n",
       "      <td>((-4.87, 2.73, (BoundStatus.RCLOSED, BoundStat...</td>\n",
       "      <td>8</td>\n",
       "      <td>496</td>\n",
       "      <td>0.992</td>\n",
       "      <td>x0: [-4.87, 2.73], x1: [-3.16, 5.11]</td>\n",
       "      <td>1</td>\n",
       "      <td>7.891555</td>\n",
       "    </tr>\n",
       "    <tr>\n",
       "      <th>1</th>\n",
       "      <td>[1, 1, 1, 1, 1, 1, 1, 1, 1, 1, 1, 1, 1, 1, 1, ...</td>\n",
       "      <td>((-4.87, 2.73, (BoundStatus.RCLOSED, BoundStat...</td>\n",
       "      <td>9</td>\n",
       "      <td>488</td>\n",
       "      <td>0.976</td>\n",
       "      <td>x0: [-4.87, 2.73], x1: [-3.16, 4.28]</td>\n",
       "      <td>2</td>\n",
       "      <td>8.630447</td>\n",
       "    </tr>\n",
       "    <tr>\n",
       "      <th>2</th>\n",
       "      <td>[1, 1, 1, 0, 1, 1, 1, 1, 1, 1, 1, 1, 1, 1, 1, ...</td>\n",
       "      <td>((-4.87, 2.73, (BoundStatus.RCLOSED, BoundStat...</td>\n",
       "      <td>8</td>\n",
       "      <td>487</td>\n",
       "      <td>0.974</td>\n",
       "      <td>x0: [-4.87, 2.73], x1: [-2.33, 5.11]</td>\n",
       "      <td>2</td>\n",
       "      <td>8.612762</td>\n",
       "    </tr>\n",
       "    <tr>\n",
       "      <th>3</th>\n",
       "      <td>[1, 1, 1, 0, 1, 1, 1, 1, 1, 1, 1, 1, 1, 1, 1, ...</td>\n",
       "      <td>((-4.87, 2.73, (BoundStatus.RCLOSED, BoundStat...</td>\n",
       "      <td>8</td>\n",
       "      <td>479</td>\n",
       "      <td>0.958</td>\n",
       "      <td>x0: [-4.87, 2.73], x1: [-2.33, 4.28]</td>\n",
       "      <td>2</td>\n",
       "      <td>9.534995</td>\n",
       "    </tr>\n",
       "    <tr>\n",
       "      <th>4</th>\n",
       "      <td>[1, 1, 1, 0, 1, 1, 1, 1, 1, 1, 1, 1, 1, 1, 1, ...</td>\n",
       "      <td>((-4.87, 1.89, (BoundStatus.RCLOSED, BoundStat...</td>\n",
       "      <td>8</td>\n",
       "      <td>479</td>\n",
       "      <td>0.958</td>\n",
       "      <td>x0: [-4.87, 1.89], x1: [-2.33, 5.11]</td>\n",
       "      <td>2</td>\n",
       "      <td>9.523923</td>\n",
       "    </tr>\n",
       "  </tbody>\n",
       "</table>\n",
       "</div>"
      ],
      "text/plain": [
       "                                              extent  \\\n",
       "0  [1, 1, 1, 1, 1, 1, 1, 1, 1, 1, 1, 1, 1, 1, 1, ...   \n",
       "1  [1, 1, 1, 1, 1, 1, 1, 1, 1, 1, 1, 1, 1, 1, 1, ...   \n",
       "2  [1, 1, 1, 0, 1, 1, 1, 1, 1, 1, 1, 1, 1, 1, 1, ...   \n",
       "3  [1, 1, 1, 0, 1, 1, 1, 1, 1, 1, 1, 1, 1, 1, 1, ...   \n",
       "4  [1, 1, 1, 0, 1, 1, 1, 1, 1, 1, 1, 1, 1, 1, 1, ...   \n",
       "\n",
       "                                              intent  delta_stability  \\\n",
       "0  ((-4.87, 2.73, (BoundStatus.RCLOSED, BoundStat...                8   \n",
       "1  ((-4.87, 2.73, (BoundStatus.RCLOSED, BoundStat...                9   \n",
       "2  ((-4.87, 2.73, (BoundStatus.RCLOSED, BoundStat...                8   \n",
       "3  ((-4.87, 2.73, (BoundStatus.RCLOSED, BoundStat...                8   \n",
       "4  ((-4.87, 1.89, (BoundStatus.RCLOSED, BoundStat...                8   \n",
       "\n",
       "   support  frequency                          intent_human  level   density  \n",
       "0      496      0.992  x0: [-4.87, 2.73], x1: [-3.16, 5.11]      1  7.891555  \n",
       "1      488      0.976  x0: [-4.87, 2.73], x1: [-3.16, 4.28]      2  8.630447  \n",
       "2      487      0.974  x0: [-4.87, 2.73], x1: [-2.33, 5.11]      2  8.612762  \n",
       "3      479      0.958  x0: [-4.87, 2.73], x1: [-2.33, 4.28]      2  9.534995  \n",
       "4      479      0.958  x0: [-4.87, 1.89], x1: [-2.33, 5.11]      2  9.523923  "
      ]
     },
     "execution_count": 1419,
     "metadata": {},
     "output_type": "execute_result"
    }
   ],
   "source": [
    "concepts_dict = mine_clusters_info(sparse_extents, attr_extents, ps, data)\n",
    "concepts_df = pd.DataFrame(concepts_dict)\n",
    "concepts_df.head()"
   ]
  },
  {
   "cell_type": "code",
   "execution_count": 1420,
   "metadata": {},
   "outputs": [],
   "source": [
    "Cn1 = time.time()"
   ]
  },
  {
   "cell_type": "code",
   "execution_count": 1421,
   "metadata": {},
   "outputs": [],
   "source": [
    "Cn = Cn1-Cn0"
   ]
  },
  {
   "cell_type": "code",
   "execution_count": 1422,
   "metadata": {},
   "outputs": [],
   "source": [
    "from clustering_newest import evaluate_clustering_measures"
   ]
  },
  {
   "cell_type": "code",
   "execution_count": 1423,
   "metadata": {},
   "outputs": [],
   "source": [
    "Cstat0 = time.time()"
   ]
  },
  {
   "cell_type": "code",
   "execution_count": 1424,
   "metadata": {},
   "outputs": [
    {
     "data": {
      "text/html": [
       "<div>\n",
       "<style scoped>\n",
       "    .dataframe tbody tr th:only-of-type {\n",
       "        vertical-align: middle;\n",
       "    }\n",
       "\n",
       "    .dataframe tbody tr th {\n",
       "        vertical-align: top;\n",
       "    }\n",
       "\n",
       "    .dataframe thead th {\n",
       "        text-align: right;\n",
       "    }\n",
       "</style>\n",
       "<table border=\"1\" class=\"dataframe\">\n",
       "  <thead>\n",
       "    <tr style=\"text-align: right;\">\n",
       "      <th></th>\n",
       "      <th>coverage</th>\n",
       "      <th>overlap</th>\n",
       "      <th>size</th>\n",
       "      <th>imbalance</th>\n",
       "      <th>stability</th>\n",
       "      <th>complexity</th>\n",
       "      <th>density</th>\n",
       "    </tr>\n",
       "    <tr>\n",
       "      <th>clustering</th>\n",
       "      <th></th>\n",
       "      <th></th>\n",
       "      <th></th>\n",
       "      <th></th>\n",
       "      <th></th>\n",
       "      <th></th>\n",
       "      <th></th>\n",
       "    </tr>\n",
       "  </thead>\n",
       "  <tbody>\n",
       "    <tr>\n",
       "      <th>(0,)</th>\n",
       "      <td>496</td>\n",
       "      <td>0</td>\n",
       "      <td>1</td>\n",
       "      <td>0.0</td>\n",
       "      <td>8.0</td>\n",
       "      <td>1.0</td>\n",
       "      <td>7.891555</td>\n",
       "    </tr>\n",
       "    <tr>\n",
       "      <th>(1,)</th>\n",
       "      <td>488</td>\n",
       "      <td>0</td>\n",
       "      <td>1</td>\n",
       "      <td>0.0</td>\n",
       "      <td>9.0</td>\n",
       "      <td>2.0</td>\n",
       "      <td>8.630447</td>\n",
       "    </tr>\n",
       "    <tr>\n",
       "      <th>(2,)</th>\n",
       "      <td>487</td>\n",
       "      <td>0</td>\n",
       "      <td>1</td>\n",
       "      <td>0.0</td>\n",
       "      <td>8.0</td>\n",
       "      <td>2.0</td>\n",
       "      <td>8.612762</td>\n",
       "    </tr>\n",
       "    <tr>\n",
       "      <th>(3,)</th>\n",
       "      <td>479</td>\n",
       "      <td>0</td>\n",
       "      <td>1</td>\n",
       "      <td>0.0</td>\n",
       "      <td>8.0</td>\n",
       "      <td>2.0</td>\n",
       "      <td>9.534995</td>\n",
       "    </tr>\n",
       "    <tr>\n",
       "      <th>(4,)</th>\n",
       "      <td>479</td>\n",
       "      <td>0</td>\n",
       "      <td>1</td>\n",
       "      <td>0.0</td>\n",
       "      <td>8.0</td>\n",
       "      <td>2.0</td>\n",
       "      <td>9.523923</td>\n",
       "    </tr>\n",
       "  </tbody>\n",
       "</table>\n",
       "</div>"
      ],
      "text/plain": [
       "            coverage  overlap  size  imbalance  stability  complexity  \\\n",
       "clustering                                                              \n",
       "(0,)             496        0     1        0.0        8.0         1.0   \n",
       "(1,)             488        0     1        0.0        9.0         2.0   \n",
       "(2,)             487        0     1        0.0        8.0         2.0   \n",
       "(3,)             479        0     1        0.0        8.0         2.0   \n",
       "(4,)             479        0     1        0.0        8.0         2.0   \n",
       "\n",
       "             density  \n",
       "clustering            \n",
       "(0,)        7.891555  \n",
       "(1,)        8.630447  \n",
       "(2,)        8.612762  \n",
       "(3,)        9.534995  \n",
       "(4,)        9.523923  "
      ]
     },
     "execution_count": 1424,
     "metadata": {},
     "output_type": "execute_result"
    }
   ],
   "source": [
    "clusterings_df = pd.DataFrame([evaluate_clustering_measures(idxs, concepts_dict) for idxs in clusterings],\n",
    "                              index=pd.Series(clusterings, name='clustering'))\n",
    "clusterings_df.head()"
   ]
  },
  {
   "cell_type": "code",
   "execution_count": 1425,
   "metadata": {},
   "outputs": [
    {
     "data": {
      "text/html": [
       "<div>\n",
       "<style scoped>\n",
       "    .dataframe tbody tr th:only-of-type {\n",
       "        vertical-align: middle;\n",
       "    }\n",
       "\n",
       "    .dataframe tbody tr th {\n",
       "        vertical-align: top;\n",
       "    }\n",
       "\n",
       "    .dataframe thead th {\n",
       "        text-align: right;\n",
       "    }\n",
       "</style>\n",
       "<table border=\"1\" class=\"dataframe\">\n",
       "  <thead>\n",
       "    <tr style=\"text-align: right;\">\n",
       "      <th></th>\n",
       "      <th>coverage</th>\n",
       "      <th>overlap</th>\n",
       "      <th>size</th>\n",
       "      <th>imbalance</th>\n",
       "      <th>stability</th>\n",
       "      <th>complexity</th>\n",
       "      <th>density</th>\n",
       "    </tr>\n",
       "  </thead>\n",
       "  <tbody>\n",
       "    <tr>\n",
       "      <th>min</th>\n",
       "      <td>0.0</td>\n",
       "      <td>0.0</td>\n",
       "      <td>0.0</td>\n",
       "      <td>0.0</td>\n",
       "      <td>0.0</td>\n",
       "      <td>0.0</td>\n",
       "      <td>0.0</td>\n",
       "    </tr>\n",
       "    <tr>\n",
       "      <th>max</th>\n",
       "      <td>1.0</td>\n",
       "      <td>1.0</td>\n",
       "      <td>1.0</td>\n",
       "      <td>1.0</td>\n",
       "      <td>1.0</td>\n",
       "      <td>1.0</td>\n",
       "      <td>1.0</td>\n",
       "    </tr>\n",
       "  </tbody>\n",
       "</table>\n",
       "</div>"
      ],
      "text/plain": [
       "     coverage  overlap  size  imbalance  stability  complexity  density\n",
       "min       0.0      0.0   0.0        0.0        0.0         0.0      0.0\n",
       "max       1.0      1.0   1.0        1.0        1.0         1.0      1.0"
      ]
     },
     "execution_count": 1425,
     "metadata": {},
     "output_type": "execute_result"
    }
   ],
   "source": [
    "clusterings_df_norm = (clusterings_df-clusterings_df.min())/(clusterings_df.max()-clusterings_df.min())\n",
    "clusterings_df_norm.describe().loc[['min', 'max']]"
   ]
  },
  {
   "cell_type": "code",
   "execution_count": 1426,
   "metadata": {},
   "outputs": [],
   "source": [
    "weight_params = dict(\n",
    "    overlap_weight=2,\n",
    "    size_weight=0.1, # old \"n_concepts_weight\"\n",
    "    imbalance_weight=2,\n",
    "    stability_weight=1,\n",
    "    complexity_weight=0.1,\n",
    "    density_weight=5\n",
    ")\n",
    "\n",
    "signs = np.array([1 if f in {'coverage', 'stability', 'density'} else -1 for f in clusterings_df_norm])\n",
    "weights = np.array([1 if f == 'coverage' else weight_params[f\"{f}_weight\"] for f in clusterings_df_norm])\n",
    "clusterings_df['reward'] = (clusterings_df_norm*weights*signs).sum(1)"
   ]
  },
  {
   "cell_type": "code",
   "execution_count": 1427,
   "metadata": {},
   "outputs": [
    {
     "data": {
      "text/html": [
       "<div>\n",
       "<style scoped>\n",
       "    .dataframe tbody tr th:only-of-type {\n",
       "        vertical-align: middle;\n",
       "    }\n",
       "\n",
       "    .dataframe tbody tr th {\n",
       "        vertical-align: top;\n",
       "    }\n",
       "\n",
       "    .dataframe thead th {\n",
       "        text-align: right;\n",
       "    }\n",
       "</style>\n",
       "<table border=\"1\" class=\"dataframe\">\n",
       "  <thead>\n",
       "    <tr style=\"text-align: right;\">\n",
       "      <th></th>\n",
       "      <th>coverage</th>\n",
       "      <th>overlap</th>\n",
       "      <th>size</th>\n",
       "      <th>imbalance</th>\n",
       "      <th>stability</th>\n",
       "      <th>complexity</th>\n",
       "      <th>density</th>\n",
       "      <th>reward</th>\n",
       "    </tr>\n",
       "    <tr>\n",
       "      <th>clustering</th>\n",
       "      <th></th>\n",
       "      <th></th>\n",
       "      <th></th>\n",
       "      <th></th>\n",
       "      <th></th>\n",
       "      <th></th>\n",
       "      <th></th>\n",
       "      <th></th>\n",
       "    </tr>\n",
       "  </thead>\n",
       "  <tbody>\n",
       "    <tr>\n",
       "      <th>(285, 288, 289, 327)</th>\n",
       "      <td>453</td>\n",
       "      <td>0</td>\n",
       "      <td>4</td>\n",
       "      <td>15.564382</td>\n",
       "      <td>20.75</td>\n",
       "      <td>1.75</td>\n",
       "      <td>23.847484</td>\n",
       "      <td>5.272200</td>\n",
       "    </tr>\n",
       "    <tr>\n",
       "      <th>(244, 288, 315, 327)</th>\n",
       "      <td>451</td>\n",
       "      <td>0</td>\n",
       "      <td>4</td>\n",
       "      <td>25.104780</td>\n",
       "      <td>24.25</td>\n",
       "      <td>2.00</td>\n",
       "      <td>23.667467</td>\n",
       "      <td>5.190004</td>\n",
       "    </tr>\n",
       "    <tr>\n",
       "      <th>(288, 289, 290, 318)</th>\n",
       "      <td>455</td>\n",
       "      <td>0</td>\n",
       "      <td>4</td>\n",
       "      <td>12.500000</td>\n",
       "      <td>19.00</td>\n",
       "      <td>1.75</td>\n",
       "      <td>22.832833</td>\n",
       "      <td>4.962928</td>\n",
       "    </tr>\n",
       "    <tr>\n",
       "      <th>(212, 288, 289, 318)</th>\n",
       "      <td>461</td>\n",
       "      <td>42</td>\n",
       "      <td>4</td>\n",
       "      <td>30.532769</td>\n",
       "      <td>22.75</td>\n",
       "      <td>1.75</td>\n",
       "      <td>23.267054</td>\n",
       "      <td>4.962822</td>\n",
       "    </tr>\n",
       "    <tr>\n",
       "      <th>(270, 287, 288, 289)</th>\n",
       "      <td>452</td>\n",
       "      <td>42</td>\n",
       "      <td>4</td>\n",
       "      <td>5.744563</td>\n",
       "      <td>26.50</td>\n",
       "      <td>1.75</td>\n",
       "      <td>22.753270</td>\n",
       "      <td>4.962351</td>\n",
       "    </tr>\n",
       "  </tbody>\n",
       "</table>\n",
       "</div>"
      ],
      "text/plain": [
       "                      coverage  overlap  size  imbalance  stability  \\\n",
       "clustering                                                            \n",
       "(285, 288, 289, 327)       453        0     4  15.564382      20.75   \n",
       "(244, 288, 315, 327)       451        0     4  25.104780      24.25   \n",
       "(288, 289, 290, 318)       455        0     4  12.500000      19.00   \n",
       "(212, 288, 289, 318)       461       42     4  30.532769      22.75   \n",
       "(270, 287, 288, 289)       452       42     4   5.744563      26.50   \n",
       "\n",
       "                      complexity    density    reward  \n",
       "clustering                                             \n",
       "(285, 288, 289, 327)        1.75  23.847484  5.272200  \n",
       "(244, 288, 315, 327)        2.00  23.667467  5.190004  \n",
       "(288, 289, 290, 318)        1.75  22.832833  4.962928  \n",
       "(212, 288, 289, 318)        1.75  23.267054  4.962822  \n",
       "(270, 287, 288, 289)        1.75  22.753270  4.962351  "
      ]
     },
     "execution_count": 1427,
     "metadata": {},
     "output_type": "execute_result"
    }
   ],
   "source": [
    "clusterings_df = clusterings_df.sort_values('reward', ascending=False)\n",
    "clusterings_df.head()"
   ]
  },
  {
   "cell_type": "code",
   "execution_count": 1428,
   "metadata": {},
   "outputs": [],
   "source": [
    "Cstatn1 = time.time()"
   ]
  },
  {
   "cell_type": "code",
   "execution_count": 1429,
   "metadata": {},
   "outputs": [],
   "source": [
    "Cstatn =Cstatn1-Cstat0"
   ]
  },
  {
   "cell_type": "code",
   "execution_count": 1430,
   "metadata": {},
   "outputs": [
    {
     "data": {
      "text/plain": [
       "<function matplotlib.pyplot.show(close=None, block=None)>"
      ]
     },
     "execution_count": 1430,
     "metadata": {},
     "output_type": "execute_result"
    },
    {
     "data": {
      "image/png": "[encoded data removed]",
      "text/plain": [
       "<Figure size 1200x900 with 12 Axes>"
      ]
     },
     "metadata": {},
     "output_type": "display_data"
    }
   ],
   "source": [
    "fig, axs = plt.subplots(clusterings_df['size'].max()-1, 4, figsize=(12, 9))\n",
    "\n",
    "for row_idx, n_clusters in enumerate(range(2, clusterings_df['size'].max()+1)):\n",
    "    flg = (clusterings_df['size']==n_clusters)&(clusterings_df['overlap']==0)\n",
    "    best_clusterings = clusterings_df[flg]\n",
    "    \n",
    "    for i, (ax, best_clustering) in enumerate(zip(axs[row_idx], best_clusterings.index)):\n",
    "        vlib.init_axis(ax, f\"Best {n_clusters} clusters #{i+1}\\nclusters={best_clusterings.index[i]}\", \n",
    "                       linscale_x, linscale_y, [], [],#range(len(linscale_x)), range(len(linscale_y)), \n",
    "                       grid_params=dict(zorder=0, linestyle='--'))\n",
    "\n",
    "        ax.scatter(X[:,0], X[:,1], zorder=2, s=10)\n",
    "        vlib.draw_clustering(ax, best_clustering, concepts_df)\n",
    "\n",
    "fig.suptitle(f'Top {len(axs.flatten())} (out of {len(clusterings_df)}) clusterings with no overlap',\n",
    "             size=22, ha='left', x=0.01)\n",
    "fig.tight_layout()\n",
    "fig.subplots_adjust()\n",
    "# ax.legend(loc='lower right')\n",
    "fig.savefig('best_clusters_per_size_aniso.pdf')\n",
    "plt.show"
   ]
  },
  {
   "cell_type": "code",
   "execution_count": 1431,
   "metadata": {},
   "outputs": [
    {
     "data": {
      "text/plain": [
       "8.296338081359863"
      ]
     },
     "execution_count": 1431,
     "metadata": {},
     "output_type": "execute_result"
    }
   ],
   "source": [
    "T_total = Cstatn+Cn+Sn\n",
    "T_total"
   ]
  },
  {
   "cell_type": "code",
   "execution_count": 1432,
   "metadata": {},
   "outputs": [],
   "source": [
    "# circles = dict()\n",
    "# circles['dataset'] = 'noisy circles'\n",
    "# circles['stab_concepts_n'] = len(stable_extents)\n",
    "# circles['stab_concepts_time'] = Sn\n",
    "# circles['clusterings_n'] = len(clusterings)\n",
    "# circles['clusterings_time'] = Cn\n",
    "# circles['statistics_time'] = Cstatn\n",
    "# circles['total_time'] = T_total"
   ]
  },
  {
   "cell_type": "code",
   "execution_count": 1433,
   "metadata": {},
   "outputs": [],
   "source": [
    "# moons = dict()\n",
    "# moons['dataset'] = 'noisy moons'\n",
    "# moons['stab_concepts_n'] = len(stable_extents)\n",
    "# moons['stab_concepts_time'] = Sn\n",
    "# moons['clusterings_n'] = len(clusterings)\n",
    "# moons['clusterings_time'] = Cn\n",
    "# moons['statistics_time'] = Cstatn\n",
    "# moons['total_time'] = T_total"
   ]
  },
  {
   "cell_type": "code",
   "execution_count": 1434,
   "metadata": {},
   "outputs": [],
   "source": [
    "# blobs = dict()\n",
    "# blobs['dataset'] = 'blobs'\n",
    "# blobs['stab_concepts_n'] = len(stable_extents)\n",
    "# blobs['stab_concepts_time'] = Sn\n",
    "# blobs['clusterings_n'] = len(clusterings)\n",
    "# blobs['clusterings_time'] = Cn\n",
    "# blobs['statistics_time'] = Cstatn\n",
    "# blobs['total_time'] = T_total"
   ]
  },
  {
   "cell_type": "code",
   "execution_count": 1435,
   "metadata": {},
   "outputs": [],
   "source": [
    "# varied = dict()\n",
    "# varied['dataset'] = 'varied'\n",
    "# varied['stab_concepts_n'] = len(stable_extents)\n",
    "# varied['stab_concepts_time'] = Sn\n",
    "# varied['clusterings_n'] = len(clusterings)\n",
    "# varied['clusterings_time'] = Cn\n",
    "# varied['statistics_time'] = Cstatn\n",
    "# varied['total_time'] = T_total"
   ]
  },
  {
   "cell_type": "code",
   "execution_count": 1436,
   "metadata": {},
   "outputs": [],
   "source": [
    "# no_structure = dict()\n",
    "# no_structure['dataset'] = 'no structure'\n",
    "# no_structure['stab_concepts_n'] = len(stable_extents)\n",
    "# no_structure['stab_concepts_time'] = Sn\n",
    "# no_structure['clusterings_n'] = len(clusterings)\n",
    "# no_structure['clusterings_time'] = Cn\n",
    "# no_structure['statistics_time'] = Cstatn\n",
    "# no_structure['total_time'] = T_total"
   ]
  },
  {
   "cell_type": "code",
   "execution_count": 1437,
   "metadata": {},
   "outputs": [],
   "source": [
    "aniso = dict()\n",
    "aniso['dataset'] = 'aniso'\n",
    "aniso['stab_concepts_n'] = len(stable_extents)\n",
    "aniso['stab_concepts_time'] = Sn\n",
    "aniso['clusterings_n'] = len(clusterings)\n",
    "aniso['clusterings_time'] = Cn\n",
    "aniso['statistics_time'] = Cstatn\n",
    "aniso['total_time'] = T_total"
   ]
  },
  {
   "cell_type": "markdown",
   "metadata": {},
   "source": [
    "# DATA"
   ]
  },
  {
   "cell_type": "code",
   "execution_count": 1438,
   "metadata": {},
   "outputs": [],
   "source": [
    "# details = pd.DataFrame(columns = ['dataset', 'stab_concepts_n', 'stab_concepts_time','clusterings_n','clusterings_time', 'statistics_time', 'total_time' ])\n"
   ]
  },
  {
   "cell_type": "code",
   "execution_count": 1439,
   "metadata": {},
   "outputs": [],
   "source": [
    "# details = details._append(moons, ignore_index = True)"
   ]
  },
  {
   "cell_type": "code",
   "execution_count": 1440,
   "metadata": {},
   "outputs": [],
   "source": [
    "# details = details._append(moons, ignore_index = True)"
   ]
  },
  {
   "cell_type": "code",
   "execution_count": 1441,
   "metadata": {},
   "outputs": [],
   "source": [
    "# details = details._append(blobs, ignore_index = True)"
   ]
  },
  {
   "cell_type": "code",
   "execution_count": 1442,
   "metadata": {},
   "outputs": [],
   "source": [
    "# details = details._append(varied, ignore_index = True)"
   ]
  },
  {
   "cell_type": "code",
   "execution_count": 1443,
   "metadata": {},
   "outputs": [],
   "source": [
    "# details = details._append(no_structure, ignore_index = True)"
   ]
  },
  {
   "cell_type": "code",
   "execution_count": 1444,
   "metadata": {},
   "outputs": [],
   "source": [
    "details = details._append(aniso, ignore_index = True)"
   ]
  },
  {
   "cell_type": "code",
   "execution_count": 1445,
   "metadata": {},
   "outputs": [
    {
     "data": {
      "text/html": [
       "<div>\n",
       "<style scoped>\n",
       "    .dataframe tbody tr th:only-of-type {\n",
       "        vertical-align: middle;\n",
       "    }\n",
       "\n",
       "    .dataframe tbody tr th {\n",
       "        vertical-align: top;\n",
       "    }\n",
       "\n",
       "    .dataframe thead th {\n",
       "        text-align: right;\n",
       "    }\n",
       "</style>\n",
       "<table border=\"1\" class=\"dataframe\">\n",
       "  <thead>\n",
       "    <tr style=\"text-align: right;\">\n",
       "      <th></th>\n",
       "      <th>dataset</th>\n",
       "      <th>stab_concepts_n</th>\n",
       "      <th>stab_concepts_time</th>\n",
       "      <th>clusterings_n</th>\n",
       "      <th>clusterings_time</th>\n",
       "      <th>statistics_time</th>\n",
       "      <th>total_time</th>\n",
       "    </tr>\n",
       "  </thead>\n",
       "  <tbody>\n",
       "    <tr>\n",
       "      <th>0</th>\n",
       "      <td>noisy circles</td>\n",
       "      <td>1153</td>\n",
       "      <td>0.276691</td>\n",
       "      <td>879702</td>\n",
       "      <td>1043.019053</td>\n",
       "      <td>22.269021</td>\n",
       "      <td>1065.564765</td>\n",
       "    </tr>\n",
       "    <tr>\n",
       "      <th>1</th>\n",
       "      <td>noisy moons</td>\n",
       "      <td>633</td>\n",
       "      <td>0.083258</td>\n",
       "      <td>702953</td>\n",
       "      <td>155.828046</td>\n",
       "      <td>17.742159</td>\n",
       "      <td>173.653463</td>\n",
       "    </tr>\n",
       "    <tr>\n",
       "      <th>2</th>\n",
       "      <td>varied</td>\n",
       "      <td>559</td>\n",
       "      <td>0.072470</td>\n",
       "      <td>100489</td>\n",
       "      <td>35.935040</td>\n",
       "      <td>2.405305</td>\n",
       "      <td>38.412815</td>\n",
       "    </tr>\n",
       "    <tr>\n",
       "      <th>3</th>\n",
       "      <td>no structure</td>\n",
       "      <td>1158</td>\n",
       "      <td>0.096169</td>\n",
       "      <td>100489</td>\n",
       "      <td>907.424395</td>\n",
       "      <td>2.500272</td>\n",
       "      <td>910.020836</td>\n",
       "    </tr>\n",
       "    <tr>\n",
       "      <th>4</th>\n",
       "      <td>aniso</td>\n",
       "      <td>356</td>\n",
       "      <td>0.101331</td>\n",
       "      <td>47258</td>\n",
       "      <td>6.980183</td>\n",
       "      <td>1.214824</td>\n",
       "      <td>8.296338</td>\n",
       "    </tr>\n",
       "  </tbody>\n",
       "</table>\n",
       "</div>"
      ],
      "text/plain": [
       "         dataset stab_concepts_n  stab_concepts_time clusterings_n  \\\n",
       "0  noisy circles            1153            0.276691        879702   \n",
       "1    noisy moons             633            0.083258        702953   \n",
       "2         varied             559            0.072470        100489   \n",
       "3   no structure            1158            0.096169        100489   \n",
       "4          aniso             356            0.101331         47258   \n",
       "\n",
       "   clusterings_time  statistics_time   total_time  \n",
       "0       1043.019053        22.269021  1065.564765  \n",
       "1        155.828046        17.742159   173.653463  \n",
       "2         35.935040         2.405305    38.412815  \n",
       "3        907.424395         2.500272   910.020836  \n",
       "4          6.980183         1.214824     8.296338  "
      ]
     },
     "execution_count": 1445,
     "metadata": {},
     "output_type": "execute_result"
    }
   ],
   "source": [
    "details"
   ]
  },
  {
   "cell_type": "code",
   "execution_count": 1553,
   "metadata": {},
   "outputs": [],
   "source": [
    "details.to_csv('detailes.csv', index = False)"
   ]
  },
  {
   "cell_type": "markdown",
   "metadata": {},
   "source": [
    "# OLD "
   ]
  },
  {
   "cell_type": "code",
   "execution_count": 1447,
   "metadata": {},
   "outputs": [],
   "source": [
    "# linscale = np.linspace(-1.5, 1.5, 11)\n",
    "# ps_cart = PS.CartesianPS([PS.IntervalPS(values=linscale), PS.IntervalPS(values=linscale)])"
   ]
  },
  {
   "cell_type": "code",
   "execution_count": 1448,
   "metadata": {
    "ExecuteTime": {
     "end_time": "2024-08-27T12:05:00.997124Z",
     "start_time": "2024-08-27T12:05:00.993346Z"
    }
   },
   "outputs": [],
   "source": [
    "# borders_per_axis = [np.linspace(X[:,j].min(), X[:,j].max(), 11) for j in range(X.shape[1])]\n",
    "# borders_per_axis"
   ]
  },
  {
   "cell_type": "code",
   "execution_count": 1449,
   "metadata": {
    "ExecuteTime": {
     "end_time": "2024-08-27T12:05:01.391284Z",
     "start_time": "2024-08-27T12:05:01.387818Z"
    }
   },
   "outputs": [],
   "source": [
    "# basic_pss = [PS.IntervalPS(values=borders, ndigits=PRECISION) for borders in borders_per_axis]\n",
    "# ps_cart = PS.CartesianPS(basic_pss)\n",
    "#data = list(ps_cart.preprocess_data(X))"
   ]
  },
  {
   "cell_type": "code",
   "execution_count": 1450,
   "metadata": {},
   "outputs": [],
   "source": [
    "# import clustering_new_version_3"
   ]
  },
  {
   "cell_type": "code",
   "execution_count": 1451,
   "metadata": {},
   "outputs": [],
   "source": [
    "# from clustering_new_version_3 import run_clustering"
   ]
  },
  {
   "cell_type": "code",
   "execution_count": 1452,
   "metadata": {},
   "outputs": [],
   "source": [
    "# import time"
   ]
  },
  {
   "cell_type": "markdown",
   "metadata": {},
   "source": [
    "## Attempt to put everything together (grid)"
   ]
  },
  {
   "cell_type": "code",
   "execution_count": 1453,
   "metadata": {},
   "outputs": [],
   "source": [
    "# for overlap_weight_par in range(1,2):\n",
    "#     for n_concepts_weight_par in range(1, 2):\n",
    "#         for imbalance_weight_par in range(1, 2):\n",
    "#             for stability_weight_par in range(1,2):\n",
    "#                 for complexity_weight_par in range(1, 2):\n",
    "#                     reward_weights = dict(\n",
    "#                         overlap_weight = 0.5*overlap_weight_par, n_concepts_weight = 0.05*n_concepts_weight_par, imbalance_weight = 0.1*imbalance_weight_par,\n",
    "#                         stability_weight=0.05*stability_weight_par, complexity_weight=0.05*complexity_weight_par,\n",
    "\n",
    "#                     )\n",
    "#                     t0 = time.time()\n",
    "#                     concepts_df, best_clustering, clusters_df, best_log, top_log = run_clustering(X, ps_cart, reward_weights = reward_weights, thrift_factor = 2, clustering_params=None)\n",
    "#                     t1 = time.time()\n",
    "#                     if len(top_log['coverage'].index[0]) == 3:\n",
    "#                         extents = {\n",
    "#                         '0': clusters_df['extent'][top_log['coverage'].index[0][0]],\n",
    "#                         '1': clusters_df['extent'][top_log['coverage'].index[0][1]],\n",
    "#                         '2': clusters_df['extent'][top_log['coverage'].index[0][2]],\n",
    "    \n",
    "#                         }\n",
    "\n",
    "#                         object_clusters = {\n",
    "#                         '0': clusters_df['extent'][top_log['coverage'].index[0][0]].search(True),\n",
    "#                         '1': clusters_df['extent'][top_log['coverage'].index[0][1]].search(True),\n",
    "#                         '2': clusters_df['extent'][top_log['coverage'].index[0][2]].search(True)\n",
    "#                         }\n",
    "\n",
    "#                         obj_belongs = np.array([0]*500)\n",
    "#                         for i in range(0, 500): \n",
    "#                             if(i in object_clusters['0']) and (i not in object_clusters['1']) and (i not in object_clusters['2']):\n",
    "#                                 obj_belongs[i] = 0\n",
    "        \n",
    "#                             elif (i in object_clusters['1']) and (i not in object_clusters['0']) and (i not in object_clusters['2']):\n",
    "#                                 obj_belongs[i] = 1        \n",
    "#                             elif (i in object_clusters['2']) and (i not in object_clusters['0']) and (i not in object_clusters['1']):\n",
    "#                                 obj_belongs[i] = 2\n",
    "#                             elif  (i not in object_clusters['2']) and (i not in object_clusters['0']) and (i not in object_clusters['1']):\n",
    "#                                 obj_belongs[i] = -1\n",
    "#                             else:\n",
    "#                                 obj_belongs[i] = 6\n",
    "#                     else:\n",
    "#                         extents = {\n",
    "#                         '0': clusters_df['extent'][top_log['coverage'].index[0][0]],\n",
    "#                         '1': clusters_df['extent'][top_log['coverage'].index[0][1]],\n",
    "    \n",
    "#                         }\n",
    "#                         object_clusters = {\n",
    "#                         '0': clusters_df['extent'][top_log['coverage'].index[0][0]].search(True),\n",
    "#                         '1': clusters_df['extent'][top_log['coverage'].index[0][1]].search(True),\n",
    "#                         }\n",
    "\n",
    "#                         obj_belongs = np.array([0]*500)\n",
    "#                         for i in range(0, 500): \n",
    "#                             if(i in object_clusters['0']) and (i not in object_clusters['1']):\n",
    "#                                 obj_belongs[i] = 0\n",
    "        \n",
    "#                             elif (i in object_clusters['1']) and (i not in object_clusters['0']):\n",
    "#                                 obj_belongs[i] = 1        \n",
    "\n",
    "#                             elif (i in object_clusters['1']) and (i in object_clusters['0']):\n",
    "#                                 obj_belongs[i] = 6  \n",
    "    \n",
    "#                             else:\n",
    "#                                 obj_belongs[i] = -1\n",
    "\n",
    "\n",
    "#                     t0_d = dict()\n",
    "#                     t1_d = dict()\n",
    "#                     obj_belonging  = dict()\n",
    "\n",
    "#                     obj_belonging['circles'] = obj_belongs.copy()\n",
    "#                     t0_d['circles'] = t0\n",
    "#                     t1_d['circles'] = t1\n",
    "#                     t_circ = t1-t0\n",
    "#                     reward_circ, reward_details_circ = clustering_reward2(best_clustering, concepts_df, **reward_weights)\n",
    "\n",
    "\n",
    "\n",
    "\n",
    "#                     fig, ax = plt.subplots(figsize=(8,5))\n",
    "#                     #vlib.init_axis(ax, f\"aniso optimal not-much-overlapping clusters\", borders_per_axis[0], borders_per_axis[1], range(len(borders_per_axis[0])), range(len(borders_per_axis[1])), grid_params=dict(zorder=0, linestyle='--'))\n",
    "#                     vlib.init_axis(ax, f\"Aniso optimal not-much-overlapping clusters\", borders_per_axis[0], borders_per_axis[1], range(len(borders_per_axis[0])), range(len(borders_per_axis[1])), grid_params=dict(zorder=0, linestyle='--'))\n",
    "\n",
    "#                     colors = np.array(\n",
    "#                                 list(\n",
    "#                                     islice(\n",
    "#                                         cycle(\n",
    "#                                             [\n",
    "#                                                 \"#377eb8\",\n",
    "#                                                 \"#ff7f00\",\n",
    "#                                                 \"#4daf4a\",\n",
    "#                                                 \"#f781bf\",\n",
    "#                                                 \"#a65628\",\n",
    "#                                                 \"#984ea3\",\n",
    "#                                                 \"#999999\",\n",
    "#                                                 \"#e41a1c\",\n",
    "#                                                 \"#dede00\",\n",
    "#                                             ]\n",
    "#                                         ),\n",
    "#                                         int(max(obj_belongs) + 1),\n",
    "#                                     )\n",
    "#                                 )\n",
    "#                     )\n",
    "#                     colors = np.append(colors, [\"#000000\"])\n",
    "#                     plt.scatter(X[:, 0], X[:, 1], s=10, color=colors[obj_belongs])\n",
    "\n",
    "#                     # for i, (k, v) in enumerate([('Reward', reward_circ)]+ list(reward_details_circ.items())+ list(reward_weights.items())):\n",
    "#                     #     ax.text(-1, -1.7-i*0.1, f\"{k}: {v:.4f}\")\n",
    "#                     for i, (k, v) in enumerate(list(reward_weights.items())):\n",
    "#                         ax.text(-6, -1.5-0.4*i, f\"{k}: {v:.4f}\")\n",
    "#                     #ax.legend(loc='lower right')\n",
    "\n",
    "#                     #ax.legend(loc='left')\n",
    "\n",
    "\n",
    "#                     plt.text(0.99,0.01, (\"%.2fs\" % (t1 - t0)).lstrip(\"0\"), transform=plt.gca().transAxes, size=15, horizontalalignment=\"right\",)\n",
    "#                     fig.savefig('aniso_best.pdf')\n",
    "#                     plt.show()\n",
    "\n",
    "                    \n",
    "\n",
    "\n",
    "\n",
    "                    \n",
    "\n",
    "\n",
    "\n",
    "\n",
    "                        \n",
    "                        \n",
    "                    \n",
    "                    \n",
    "                    \n",
    "            "
   ]
  },
  {
   "cell_type": "code",
   "execution_count": 1454,
   "metadata": {},
   "outputs": [],
   "source": [
    "# fig, axs = plt.subplots(1, 2, figsize=(10, 5))\n",
    "\n",
    "\n",
    "# ax = axs[0]\n",
    "# vlib.init_axis(ax, f\"Old clustering algo\", linscale, lin\n",
    "# 100%|█████████████████████████████████████████| 34/34 [00:00<00:00, 2424.37it/s]\n",
    "# Compute intents: 100%|██████████████████████| 793/793 [00:00<00:00, 2573.41it/s]\n",
    "# No artists with labels found to put in legend.  Note that artists whose label start with an underscore are ignored when legend() is called with no argument.\n",
    "\n",
    "# 100%|█████████████████████████████████████████| 34/34 [00:00<00:00, 2368.33it/s]\n",
    "# Compute intents: 100%|██████████████████████| 793/793 [00:00<00:00, 2575.94it/s]\n",
    "# scale, range(len(linscale)), range(len(linscale)), grid_params=dict(zorder=0, linestyle='--'))\n",
    "\n",
    "# reward, reward_details = clib.clustering_reward2(best_clustering_old, concepts_df, **reward_weights)\n",
    "# for i, (k, v) in enumerate([('Reward', reward)]+ list(reward_details.items())):\n",
    "#     ax.text(-1, -1.7-i*0.1, f\"{k}: {v:.4f}\")\n",
    "\n",
    "# ax.scatter(X[:,0], X[:,1], zorder=2, s=10)\n",
    "# vlib.draw_clustering(ax, best_clustering_old, concepts_df)\n",
    "# ax.legend(loc='lower right')\n",
    "\n",
    "\n",
    "# ax = axs[1]\n",
    "# vlib.init_axis(ax, f\"New clustering algo\", linscale, linscale, range(len(linscale)), range(len(linscale)), grid_params=dict(zorder=0, linestyle='--'))\n",
    "\n",
    "# ax.scatter(X[:,0], X[:,1], zorder=2, s=10)\n",
    "# vlib.draw_clustering(ax, best_clustering, concepts_df)\n",
    "\n",
    "# reward, reward_details = clib.clustering_reward2(best_clustering, concepts_df, **reward_weights)\n",
    "# for i, (k, v) in enumerate([('Reward', reward)]+ list(reward_details.items())+ list(reward_weights.items())):\n",
    "#     ax.text(-1, -1.7-i*0.1, f\"{k}: {v:.4f}\")\n",
    "\n",
    "\n",
    "# ax.legend(loc='lower right')\n",
    "# #fig.savefig('../figures/pipe_step4_circlesdata.pdf')\n",
    "# plt.show()\n"
   ]
  },
  {
   "cell_type": "markdown",
   "metadata": {},
   "source": [
    "## End of the attempt"
   ]
  },
  {
   "cell_type": "code",
   "execution_count": 1455,
   "metadata": {},
   "outputs": [],
   "source": [
    "# reward_weights = dict(\n",
    "#     overlap_weight=0.01, n_concepts_weight=0.01, imbalance_weight=0.01,\n",
    "#     stability_weight=0.01, complexity_weight=0.01,\n",
    "\n",
    "# )"
   ]
  },
  {
   "cell_type": "code",
   "execution_count": 1456,
   "metadata": {},
   "outputs": [],
   "source": [
    "# t0 = time.time()\n",
    "# concepts_df, best_clustering, clusters_df, best_log, top_log = run_clustering(X, ps_cart, reward_weights = reward_weights, thrift_factor = 2, clustering_params=None)\n",
    "# t1 = time.time()"
   ]
  },
  {
   "cell_type": "code",
   "execution_count": 1457,
   "metadata": {},
   "outputs": [],
   "source": [
    "# clusters_df"
   ]
  },
  {
   "cell_type": "code",
   "execution_count": 1458,
   "metadata": {},
   "outputs": [],
   "source": [
    "# best_log"
   ]
  },
  {
   "cell_type": "code",
   "execution_count": 1459,
   "metadata": {},
   "outputs": [],
   "source": [
    "# top_log"
   ]
  },
  {
   "cell_type": "code",
   "execution_count": 1460,
   "metadata": {},
   "outputs": [],
   "source": [
    "# top_log['coverage'].index[0]"
   ]
  },
  {
   "cell_type": "markdown",
   "metadata": {},
   "source": [
    "## GRAPHS"
   ]
  },
  {
   "cell_type": "markdown",
   "metadata": {},
   "source": [
    "## For 3 concepts"
   ]
  },
  {
   "cell_type": "code",
   "execution_count": 1461,
   "metadata": {},
   "outputs": [],
   "source": [
    "# extents = {\n",
    "# '0': clusters_df['extent'][0],\n",
    "# '1': clusters_df['extent'][1343],\n",
    "# '2': clusters_df['extent'][1685],\n",
    "    \n",
    "# }"
   ]
  },
  {
   "cell_type": "code",
   "execution_count": 1462,
   "metadata": {},
   "outputs": [],
   "source": [
    "# object_clusters = {\n",
    "# '0': clusters_df['extent'][0].search(True),\n",
    "# '1': clusters_df['extent'][1343].search(True),\n",
    "# '2': clusters_df['extent'][1685].search(True)\n",
    "# }"
   ]
  },
  {
   "cell_type": "code",
   "execution_count": 1463,
   "metadata": {},
   "outputs": [],
   "source": [
    "# obj_belongs = np.array([0]*500)\n",
    "# for i in range(0, 500): \n",
    "#     if(i in object_clusters['0']) and (i not in object_clusters['1']) and (i not in object_clusters['2']):\n",
    "#         obj_belongs[i] = 0\n",
    "        \n",
    "#     elif (i in object_clusters['1']) and (i not in object_clusters['0']) and (i not in object_clusters['2']):\n",
    "#         obj_belongs[i] = 1        \n",
    "#     elif (i in object_clusters['2']) and (i not in object_clusters['0']) and (i not in object_clusters['1']):\n",
    "#         obj_belongs[i] = 2\n",
    "#     elif  (i not in object_clusters['2']) and (i not in object_clusters['0']) and (i not in object_clusters['1']):\n",
    "#         obj_belongs[i] = -1\n",
    "#     else:\n",
    "#         obj_belongs[i] = 6"
   ]
  },
  {
   "cell_type": "markdown",
   "metadata": {},
   "source": [
    "## For 2 concepts"
   ]
  },
  {
   "cell_type": "code",
   "execution_count": 1464,
   "metadata": {},
   "outputs": [],
   "source": [
    "# extents = {\n",
    "# '0': clusters_df['extent'][2],\n",
    "# '1': clusters_df['extent'][907],\n",
    "    \n",
    "# }"
   ]
  },
  {
   "cell_type": "code",
   "execution_count": 1465,
   "metadata": {},
   "outputs": [],
   "source": [
    "# object_clusters = {\n",
    "# '0': clusters_df['extent'][2].search(True),\n",
    "# '1': clusters_df['extent'][907].search(True),\n",
    "# }"
   ]
  },
  {
   "cell_type": "code",
   "execution_count": 1466,
   "metadata": {},
   "outputs": [],
   "source": [
    "# obj_belongs = np.array([0]*500)\n",
    "# for i in range(0, 500): \n",
    "#     if(i in object_clusters['0']) and (i not in object_clusters['1']):\n",
    "#         obj_belongs[i] = 0\n",
    "        \n",
    "#     elif (i in object_clusters['1']) and (i not in object_clusters['0']):\n",
    "#         obj_belongs[i] = 1        \n",
    "\n",
    "#     elif (i in object_clusters['1']) and (i in object_clusters['0']):\n",
    "#         obj_belongs[i] = 6  \n",
    "    \n",
    "#     else:\n",
    "#         obj_belongs[i] = -1"
   ]
  },
  {
   "cell_type": "code",
   "execution_count": 1467,
   "metadata": {},
   "outputs": [],
   "source": [
    "# t0_d = dict()\n",
    "# t1_d = dict()\n",
    "# obj_belonging  = dict()"
   ]
  },
  {
   "cell_type": "markdown",
   "metadata": {},
   "source": [
    "## sim_circles"
   ]
  },
  {
   "cell_type": "code",
   "execution_count": 1468,
   "metadata": {},
   "outputs": [],
   "source": [
    "# from clustering_new_version_3 import clustering_reward2"
   ]
  },
  {
   "cell_type": "code",
   "execution_count": 1469,
   "metadata": {},
   "outputs": [],
   "source": [
    "# thrift_factor = 2"
   ]
  },
  {
   "cell_type": "code",
   "execution_count": 1470,
   "metadata": {},
   "outputs": [],
   "source": [
    "# pairs_fca_circles = set()\n",
    "# for i in range(0, 500):\n",
    "#     for j in range(i+1,500):\n",
    "#         if obj_belongs[i] == obj_belongs[j]:\n",
    "#             pairs_fca_circles.add((i,j))"
   ]
  },
  {
   "cell_type": "code",
   "execution_count": 1471,
   "metadata": {},
   "outputs": [],
   "source": [
    "# obj_belonging['circles'] = obj_belongs.copy()\n",
    "# t0_d['circles'] = t0\n",
    "# t1_d['circles'] = t1\n",
    "# t_circ = t1-t0\n",
    "# reward_circ, reward_details_circ = clustering_reward2(best_clustering, concepts_df, **reward_weights)"
   ]
  },
  {
   "cell_type": "markdown",
   "metadata": {},
   "source": [
    "## sim_moons"
   ]
  },
  {
   "cell_type": "code",
   "execution_count": 1472,
   "metadata": {},
   "outputs": [],
   "source": [
    "# pairs_fca_moons = set()\n",
    "# for i in range(0, 500):\n",
    "#     for j in range(i+1,500):\n",
    "#         if obj_belongs[i] == obj_belongs[j]:\n",
    "#             pairs_fca_moons.add((i,j))"
   ]
  },
  {
   "cell_type": "code",
   "execution_count": 1473,
   "metadata": {},
   "outputs": [],
   "source": [
    "# obj_belonging['moons'] = obj_belongs.copy()\n",
    "# t0_d['moons'] = t0\n",
    "# t1_d['moons'] = t1\n",
    "# t_moons = t1-t0\n",
    "# reward_moons, reward_details_moons = clustering_reward2(best_clustering, concepts_df, **reward_weights)"
   ]
  },
  {
   "cell_type": "markdown",
   "metadata": {},
   "source": [
    "## sim_blobs"
   ]
  },
  {
   "cell_type": "code",
   "execution_count": 1474,
   "metadata": {},
   "outputs": [],
   "source": [
    "# pairs_fca_blobs = set()\n",
    "# for i in range(0, 500):\n",
    "#     for j in range(i+1,500):\n",
    "#         if obj_belongs[i] == obj_belongs[j]:\n",
    "#             pairs_fca_blobs.add((i,j))"
   ]
  },
  {
   "cell_type": "code",
   "execution_count": 1475,
   "metadata": {},
   "outputs": [],
   "source": [
    "# obj_belonging['blobs'] = obj_belongs.copy()\n",
    "# t0_d['blobs'] = t0\n",
    "# t1_d['blobs'] = t1\n",
    "# t_blobs = t1-t0\n",
    "# reward_blobs, reward_details_blobs = clustering_reward2(best_clustering, concepts_df, **reward_weights)"
   ]
  },
  {
   "cell_type": "markdown",
   "metadata": {},
   "source": [
    "## sim_var"
   ]
  },
  {
   "cell_type": "code",
   "execution_count": 1476,
   "metadata": {},
   "outputs": [],
   "source": [
    "# pairs_fca_var = set()\n",
    "# for i in range(0, 500):\n",
    "#     for j in range(i+1,500):\n",
    "#         if obj_belongs[i] == obj_belongs[j]:\n",
    "#             pairs_fca_var.add((i,j))"
   ]
  },
  {
   "cell_type": "code",
   "execution_count": 1477,
   "metadata": {},
   "outputs": [],
   "source": [
    "# obj_belonging['varied'] = obj_belongs.copy()\n",
    "# t0_d['varied'] = t0\n",
    "# t1_d['varied'] = t1\n",
    "# t_var = t1-t0\n",
    "# reward_var, reward_details_var = clustering_reward2(best_clustering, concepts_df, **reward_weights)"
   ]
  },
  {
   "cell_type": "markdown",
   "metadata": {},
   "source": [
    "## sim_no_str"
   ]
  },
  {
   "cell_type": "code",
   "execution_count": 1478,
   "metadata": {},
   "outputs": [],
   "source": [
    "# pairs_fca_no_str = set()\n",
    "# for i in range(0, 500):\n",
    "#     for j in range(i+1,500):\n",
    "#         if obj_belongs[i] == obj_belongs[j]:\n",
    "#             pairs_fca_no_str.add((i,j))"
   ]
  },
  {
   "cell_type": "code",
   "execution_count": 1479,
   "metadata": {},
   "outputs": [],
   "source": [
    "# obj_belonging['no_structure'] = obj_belongs.copy()\n",
    "# t0_d['no_structure'] = t0\n",
    "# t1_d['no_structure'] = t1\n",
    "# t_nos = t1-t0\n",
    "# reward_nos, reward_details_nos = clustering_reward2(best_clustering, concepts_df, **reward_weights)"
   ]
  },
  {
   "cell_type": "markdown",
   "metadata": {},
   "source": [
    "## sim_aniso"
   ]
  },
  {
   "cell_type": "code",
   "execution_count": 1480,
   "metadata": {},
   "outputs": [],
   "source": [
    "# pairs_fca_aniso = set()\n",
    "# for i in range(0, 500):\n",
    "#     for j in range(i+1,500):\n",
    "#         if obj_belongs[i] == obj_belongs[j]:\n",
    "#             pairs_fca_aniso.add((i,j))"
   ]
  },
  {
   "cell_type": "code",
   "execution_count": 1481,
   "metadata": {},
   "outputs": [],
   "source": [
    "# obj_belonging['aniso'] = obj_belongs.copy()\n",
    "# t0_d['aniso'] = t0\n",
    "# t1_d['aniso'] = t1\n",
    "# t_aniso = t1-t0\n",
    "# reward_aniso, reward_details_circ_aniso = clustering_reward2(best_clustering, concepts_df, **reward_weights)"
   ]
  },
  {
   "cell_type": "markdown",
   "metadata": {},
   "source": [
    "## Draw"
   ]
  },
  {
   "cell_type": "code",
   "execution_count": 1482,
   "metadata": {},
   "outputs": [],
   "source": [
    "# from itertools import cycle, islice"
   ]
  },
  {
   "cell_type": "markdown",
   "metadata": {},
   "source": [
    "## Noisy Circles"
   ]
  },
  {
   "cell_type": "code",
   "execution_count": 1483,
   "metadata": {},
   "outputs": [],
   "source": [
    "# fig, ax = plt.subplots(figsize=(8, 5))\n",
    "# vlib.init_axis(ax, f\"NOISY_CIRCLES optimal not-much-overlapping clusters\", borders_per_axis[0], borders_per_axis[1], range(len(borders_per_axis[0])), range(len(borders_per_axis[1])), grid_params=dict(zorder=0, linestyle='--'))\n",
    "\n",
    "# colors = np.array(\n",
    "#             list(\n",
    "#                 islice(\n",
    "#                     cycle(\n",
    "#                         [\n",
    "#                             \"#377eb8\",\n",
    "#                             \"#ff7f00\",\n",
    "#                             \"#4daf4a\",\n",
    "#                             \"#f781bf\",\n",
    "#                             \"#a65628\",\n",
    "#                             \"#984ea3\",\n",
    "#                             \"#999999\",\n",
    "#                             \"#e41a1c\",\n",
    "#                             \"#dede00\",\n",
    "#                         ]\n",
    "#                     ),\n",
    "#                     int(max(obj_belongs) + 1),\n",
    "#                 )\n",
    "#             )\n",
    "# )\n",
    "# colors = np.append(colors, [\"#000000\"])\n",
    "# plt.scatter(X[:, 0], X[:, 1], s=10, color=colors[obj_belongs])\n",
    "\n",
    "# plt.text(0.99,0.01, (\"%.2fs\" % (t1 - t0)).lstrip(\"0\"), transform=plt.gca().transAxes, size=15, horizontalalignment=\"right\",)\n",
    "# fig.savefig('noisy_circles.pdf')\n",
    "# plt.show()"
   ]
  },
  {
   "cell_type": "markdown",
   "metadata": {},
   "source": [
    "### percent pairs"
   ]
  },
  {
   "cell_type": "markdown",
   "metadata": {},
   "source": [
    "## Noisy Moons"
   ]
  },
  {
   "cell_type": "code",
   "execution_count": 1484,
   "metadata": {
    "scrolled": true
   },
   "outputs": [],
   "source": [
    "# fig, ax = plt.subplots(figsize=(8, 5))\n",
    "# vlib.init_axis(ax, f\"NOISY_MOONS\", borders_per_axis[0], borders_per_axis[1], range(len(borders_per_axis[0])), range(len(borders_per_axis[1])), grid_params=dict(zorder=0, linestyle='--'))\n",
    "\n",
    "# colors = np.array(\n",
    "#             list(\n",
    "#                 islice(\n",
    "#                     cycle(\n",
    "#                         [\n",
    "#                             \"#377eb8\",\n",
    "#                             \"#ff7f00\",\n",
    "#                             \"#4daf4a\",\n",
    "#                             \"#f781bf\",\n",
    "#                             \"#a65628\",\n",
    "#                             \"#984ea3\",\n",
    "#                             \"#999999\",\n",
    "#                             \"#e41a1c\",\n",
    "#                             \"#dede00\",\n",
    "#                         ]\n",
    "#                     ),\n",
    "#                     int(max(obj_belongs) + 1),\n",
    "#                 )\n",
    "#             )\n",
    "# )\n",
    "# colors = np.append(colors, [\"#000000\"])\n",
    "# plt.scatter(X[:, 0], X[:, 1], s=10, color=colors[obj_belongs])\n",
    "\n",
    "# plt.text(0.99,0.01, (\"%.2fs\" % (t1 - t0)).lstrip(\"0\"), transform=plt.gca().transAxes, size=15, horizontalalignment=\"right\",)\n",
    "# fig.savefig('noisy_moons.pdf')\n",
    "# plt.show()"
   ]
  },
  {
   "cell_type": "markdown",
   "metadata": {},
   "source": [
    "### percent"
   ]
  },
  {
   "cell_type": "markdown",
   "metadata": {},
   "source": [
    "## blobs"
   ]
  },
  {
   "cell_type": "code",
   "execution_count": 1485,
   "metadata": {},
   "outputs": [],
   "source": [
    "# fig, ax = plt.subplots(figsize=(8, 5))\n",
    "# vlib.init_axis(ax, f\"BLOBS optimal not-much-overlapping clusters\", borders_per_axis[0], borders_per_axis[1], range(len(borders_per_axis[0])), range(len(borders_per_axis[1])), grid_params=dict(zorder=0, linestyle='--'))\n",
    "\n",
    "# colors = np.array(\n",
    "#             list(\n",
    "#                 islice(\n",
    "#                     cycle(\n",
    "#                         [\n",
    "#                             \"#377eb8\",\n",
    "#                             \"#ff7f00\",\n",
    "#                             \"#4daf4a\",\n",
    "#                             \"#f781bf\",\n",
    "#                             \"#a65628\",\n",
    "#                             \"#984ea3\",\n",
    "#                             \"#999999\",\n",
    "#                             \"#e41a1c\",\n",
    "#                             \"#dede00\",\n",
    "#                         ]\n",
    "#                     ),\n",
    "#                     int(max(obj_belongs) + 1),\n",
    "#                 )\n",
    "#             )\n",
    "# )\n",
    "# colors = np.append(colors, [\"#000000\"])\n",
    "# plt.scatter(X[:, 0], X[:, 1], s=10, color=colors[obj_belongs])\n",
    "\n",
    "# plt.text(0.99,0.01, (\"%.2fs\" % (t1 - t0)).lstrip(\"0\"), transform=plt.gca().transAxes, size=15, horizontalalignment=\"right\",)\n",
    "# fig.savefig('blobs.pdf')\n",
    "# plt.show()"
   ]
  },
  {
   "cell_type": "markdown",
   "metadata": {},
   "source": [
    "### percent"
   ]
  },
  {
   "cell_type": "markdown",
   "metadata": {},
   "source": [
    "## varied"
   ]
  },
  {
   "cell_type": "code",
   "execution_count": 1486,
   "metadata": {},
   "outputs": [],
   "source": [
    "# fig, ax = plt.subplots(figsize=(8, 5))\n",
    "# vlib.init_axis(ax, f\"VARIED optimal not-much-overlapping clusters\", borders_per_axis[0], borders_per_axis[1], range(len(borders_per_axis[0])), range(len(borders_per_axis[1])), grid_params=dict(zorder=0, linestyle='--'))\n",
    "\n",
    "# colors = np.array(\n",
    "#             list(\n",
    "#                 islice(\n",
    "#                     cycle(\n",
    "#                         [\n",
    "#                             \"#377eb8\",\n",
    "#                             \"#ff7f00\",\n",
    "#                             \"#4daf4a\",\n",
    "#                             \"#f781bf\",\n",
    "#                             \"#a65628\",\n",
    "#                             \"#984ea3\",\n",
    "#                             \"#999999\",\n",
    "#                             \"#e41a1c\",\n",
    "#                             \"#dede00\",\n",
    "#                         ]\n",
    "#                     ),\n",
    "#                     int(max(obj_belongs) + 1),\n",
    "#                 )\n",
    "#             )\n",
    "# )\n",
    "# colors = np.append(colors, [\"#000000\"])\n",
    "# plt.scatter(X[:, 0], X[:, 1], s=10, color=colors[obj_belongs])\n",
    "\n",
    "# plt.text(0.99,0.01, (\"%.2fs\" % (t1 - t0)).lstrip(\"0\"), transform=plt.gca().transAxes, size=15, horizontalalignment=\"right\",)\n",
    "# fig.savefig('varied.pdf')\n",
    "# plt.show()"
   ]
  },
  {
   "cell_type": "markdown",
   "metadata": {},
   "source": [
    "### percent"
   ]
  },
  {
   "cell_type": "markdown",
   "metadata": {},
   "source": [
    "## no_structure"
   ]
  },
  {
   "cell_type": "code",
   "execution_count": 1487,
   "metadata": {},
   "outputs": [],
   "source": [
    "# fig, ax = plt.subplots(figsize=(8, 5))\n",
    "# vlib.init_axis(ax, f\"Step 4. NO_STRUCTURE optimal not-much-overlapping clusters\", borders_per_axis[0], borders_per_axis[1], range(len(borders_per_axis[0])), range(len(borders_per_axis[1])), grid_params=dict(zorder=0, linestyle='--'))\n",
    "\n",
    "# colors = np.array(\n",
    "#             list(\n",
    "#                 islice(\n",
    "#                     cycle(\n",
    "#                         [\n",
    "#                             \"#377eb8\",\n",
    "#                             \"#ff7f00\",\n",
    "#                             \"#4daf4a\",\n",
    "#                             \"#f781bf\",\n",
    "#                             \"#a65628\",\n",
    "#                             \"#984ea3\",\n",
    "#                             \"#999999\",\n",
    "#                             \"#e41a1c\",\n",
    "#                             \"#dede00\",\n",
    "#                         ]\n",
    "#                     ),\n",
    "#                     int(max(obj_belongs) + 1),\n",
    "#                 )\n",
    "#             )\n",
    "# )\n",
    "# colors = np.append(colors, [\"#000000\"])\n",
    "# plt.scatter(X[:, 0], X[:, 1], s=10, color=colors[obj_belongs])\n",
    "\n",
    "# plt.text(0.99,0.01, (\"%.2fs\" % (t1 - t0)).lstrip(\"0\"), transform=plt.gca().transAxes, size=15, horizontalalignment=\"right\",)\n",
    "# fig.savefig('no_structure.pdf')\n",
    "# plt.show()"
   ]
  },
  {
   "cell_type": "markdown",
   "metadata": {},
   "source": [
    "### percent"
   ]
  },
  {
   "cell_type": "markdown",
   "metadata": {},
   "source": [
    "## aniso"
   ]
  },
  {
   "cell_type": "code",
   "execution_count": 1488,
   "metadata": {},
   "outputs": [],
   "source": [
    "# fig, ax = plt.subplots(figsize=(8, 5))\n",
    "# vlib.init_axis(ax, f\"ANISO optimal not-much-overlapping clusters\", borders_per_axis[0], borders_per_axis[1], range(len(borders_per_axis[0])), range(len(borders_per_axis[1])), grid_params=dict(zorder=0, linestyle='--'))\n",
    "\n",
    "# colors = np.array(\n",
    "#             list(\n",
    "#                 islice(\n",
    "#                     cycle(\n",
    "#                         [\n",
    "#                             \"#377eb8\",\n",
    "#                             \"#ff7f00\",\n",
    "#                             \"#4daf4a\",\n",
    "#                             \"#f781bf\",\n",
    "#                             \"#a65628\",\n",
    "#                             \"#984ea3\",\n",
    "#                             \"#999999\",\n",
    "#                             \"#e41a1c\",\n",
    "#                             \"#dede00\",\n",
    "#                         ]\n",
    "#                     ),\n",
    "#                     int(max(obj_belongs) + 1),\n",
    "#                 )\n",
    "#             )\n",
    "# )\n",
    "# colors = np.append(colors, [\"#000000\"])\n",
    "# plt.scatter(X[:, 0], X[:, 1], s=10, color=colors[obj_belongs])\n",
    "\n",
    "# plt.text(0.99,0.01, (\"%.2fs\" % (t1 - t0)).lstrip(\"0\"), transform=plt.gca().transAxes, size=15, horizontalalignment=\"right\",)\n",
    "# fig.savefig('aniso.pdf')\n",
    "# plt.show()"
   ]
  },
  {
   "cell_type": "markdown",
   "metadata": {},
   "source": [
    "### percent"
   ]
  },
  {
   "cell_type": "markdown",
   "metadata": {},
   "source": [
    "## End of smart_version"
   ]
  },
  {
   "cell_type": "code",
   "execution_count": 1489,
   "metadata": {},
   "outputs": [],
   "source": [
    "# import time\n",
    "# import warnings\n",
    "# from itertools import cycle, islice\n",
    "\n",
    "# import matplotlib.pyplot as plt\n",
    "# import numpy as np\n",
    "\n",
    "# from sklearn import cluster, datasets, mixture\n",
    "# from sklearn.neighbors import kneighbors_graph\n",
    "# from sklearn.preprocessing import StandardScaler\n",
    "\n",
    "# # ============\n",
    "# # Generate datasets. We choose the size big enough to see the scalability\n",
    "# # of the algorithms, but not too big to avoid too long running times\n",
    "# # ============\n",
    "# n_samples = 500\n",
    "# seed = 30\n",
    "# noisy_circles = datasets.make_circles(\n",
    "#     n_samples=n_samples, factor=0.5, noise=0.05, random_state=seed\n",
    "# )\n",
    "# noisy_moons = datasets.make_moons(n_samples=n_samples, noise=0.05, random_state=seed)\n",
    "# blobs = datasets.make_blobs(n_samples=n_samples, random_state=seed)\n",
    "# rng = np.random.RandomState(seed)\n",
    "# no_structure = rng.rand(n_samples, 2), None\n",
    "\n",
    "# # Anisotropicly distributed data\n",
    "# random_state = 170\n",
    "# X, y = datasets.make_blobs(n_samples=n_samples, random_state=random_state)\n",
    "# transformation = [[0.6, -0.6], [-0.4, 0.8]]\n",
    "# X_aniso = np.dot(X, transformation)\n",
    "# aniso = (X_aniso, y)\n",
    "\n",
    "# # blobs with varied variances\n",
    "# varied = datasets.make_blobs(\n",
    "#     n_samples=n_samples, cluster_std=[1.0, 2.5, 0.5], random_state=random_state\n",
    "# )\n",
    "\n",
    "# # ============\n",
    "# # Set up cluster parameters\n",
    "# # ============\n",
    "# plt.figure(figsize=(2 * 3 + 3, 13))\n",
    "# plt.box(False)\n",
    "# plt.subplots_adjust(\n",
    "#     left=0.0, right=1, bottom=0, top=1, wspace=0, hspace=0\n",
    "# )\n",
    "# #plt.subplots_adjust(bottom=bottom_pos, top=top_pos, left=left_pos, right=right_pos)\n",
    "\n",
    "# plot_num = 1\n",
    "\n",
    "# default_base = {\n",
    "#     \"quantile\": 0.3,\n",
    "#     \"eps\": 0.3,\n",
    "#     \"damping\": 0.9,\n",
    "#     \"preference\": -200,\n",
    "#     \"n_neighbors\": 3,\n",
    "#     \"n_clusters\": 3,\n",
    "#     \"min_samples\": 7,\n",
    "#     \"xi\": 0.05,\n",
    "#     \"min_cluster_size\": 0.1,\n",
    "#     \"allow_single_cluster\": True,\n",
    "#     \"hdbscan_min_cluster_size\": 15,\n",
    "#     \"hdbscan_min_samples\": 3,\n",
    "#     \"random_state\": 42,\n",
    "# }\n",
    "# ds = ['circles', 'moons',  'varied', 'aniso', 'blobs', 'no_structure' ]\n",
    "# datasets = [\n",
    "#     (\n",
    "#         noisy_circles,\n",
    "#         {\n",
    "#             \"damping\": 0.77,\n",
    "#             \"preference\": -240,\n",
    "#             \"quantile\": 0.2,\n",
    "#             \"n_clusters\": 2,\n",
    "#             \"min_samples\": 7,\n",
    "#             \"xi\": 0.08,\n",
    "#         },\n",
    "#     ),\n",
    "#     (\n",
    "#         noisy_moons,\n",
    "#         {\n",
    "#             \"damping\": 0.75,\n",
    "#             \"preference\": -220,\n",
    "#             \"n_clusters\": 2,\n",
    "#             \"min_samples\": 7,\n",
    "#             \"xi\": 0.1,\n",
    "#         },\n",
    "#     ),\n",
    "#     (\n",
    "#         varied,\n",
    "#         {\n",
    "#             \"eps\": 0.18,\n",
    "#             \"n_neighbors\": 2,\n",
    "#             \"min_samples\": 7,\n",
    "#             \"xi\": 0.01,\n",
    "#             \"min_cluster_size\": 0.2,\n",
    "#         },\n",
    "#     ),\n",
    "#     (\n",
    "#         aniso,\n",
    "#         {\n",
    "#             \"eps\": 0.15,\n",
    "#             \"n_neighbors\": 2,\n",
    "#             \"min_samples\": 7,\n",
    "#             \"xi\": 0.1,\n",
    "#             \"min_cluster_size\": 0.2,\n",
    "#         },\n",
    "#     ),\n",
    "#     (blobs, {\"min_samples\": 7, \"xi\": 0.1, \"min_cluster_size\": 0.2}),\n",
    "#     (no_structure, {}),\n",
    "# ]\n",
    "# k_enumerator = -1\n",
    "# for i_dataset, (dataset, algo_params) in enumerate(datasets):\n",
    "#     k_enumerator += 1\n",
    "    \n",
    "#     # update parameters with dataset-specific values\n",
    "#     params = default_base.copy()\n",
    "#     params.update(algo_params)\n",
    "\n",
    "#     X, y = dataset\n",
    "\n",
    "#     # normalize dataset for easier parameter selection\n",
    "#     X = StandardScaler().fit_transform(X)\n",
    "\n",
    "#     # estimate bandwidth for mean shift\n",
    "#     bandwidth = cluster.estimate_bandwidth(X, quantile=params[\"quantile\"])\n",
    "\n",
    "#     # connectivity matrix for structured Ward\n",
    "#     connectivity = kneighbors_graph(\n",
    "#         X, n_neighbors=params[\"n_neighbors\"], include_self=False\n",
    "#     )\n",
    "#     # make connectivity symmetric\n",
    "#     connectivity = 0.5 * (connectivity + connectivity.T)\n",
    "\n",
    "#     # ============\n",
    "#     # Create cluster objects\n",
    "#     # ============\n",
    "\n",
    "    \n",
    "#     #ms = cluster.MeanShift(bandwidth=bandwidth, bin_seeding=True)\n",
    "#     k_means = cluster.KMeans(\n",
    "#         n_clusters=params[\"n_clusters\"],\n",
    "#         random_state=params[\"random_state\"],\n",
    "#     )\n",
    "#     fca_based = obj_belonging.copy()\n",
    "    \n",
    "\n",
    "#     dbscan = cluster.DBSCAN(eps=params[\"eps\"])\n",
    "    \n",
    "#     optics = cluster.OPTICS(\n",
    "#     min_samples=params[\"min_samples\"],\n",
    "#     xi=params[\"xi\"],\n",
    "#     min_cluster_size=params[\"min_cluster_size\"],\n",
    "#     )\n",
    "\n",
    "   \n",
    "\n",
    "#     clustering_algorithms = (\n",
    "#         (\"KMeans\", k_means),\n",
    "\n",
    "#         (\"DBSCAN\", dbscan),\n",
    "#         (\"OPTICS\", optics),\n",
    "#         (\"FCA-based\", fca_based),\n",
    "#     )\n",
    "\n",
    "#     for name, algorithm in clustering_algorithms:\n",
    "#         if name != \"FCA-based\": \n",
    "            \n",
    "#             t0 = time.time()\n",
    "\n",
    "#             # catch warnings related to kneighbors_graph\n",
    "#             with warnings.catch_warnings():\n",
    "#                 warnings.filterwarnings(\n",
    "#                     \"ignore\",\n",
    "#                     message=\"the number of connected components of the \"\n",
    "#                     + \"connectivity matrix is [0-9]{1,2}\"\n",
    "#                     + \" > 1. Completing it to avoid stopping the tree early.\",\n",
    "#                     category=UserWarning,\n",
    "#                 )\n",
    "#                 warnings.filterwarnings(\n",
    "#                     \"ignore\",\n",
    "#                     message=\"Graph is not fully connected, spectral embedding\"\n",
    "#                     + \" may not work as expected.\",\n",
    "#                     category=UserWarning,\n",
    "#                 )\n",
    "#                 algorithm.fit(X)\n",
    "\n",
    "#             t1 = time.time()\n",
    "#             if hasattr(algorithm, \"labels_\"):\n",
    "#                 y_pred = algorithm.labels_.astype(int)\n",
    "#             else:\n",
    "#                 y_pred = algorithm.predict(X)\n",
    "#         else:\n",
    "#             t0 = t0_d[ds[k_enumerator]]\n",
    "#             t1 = t1_d[ds[k_enumerator]]\n",
    "#             y_pred  = obj_belonging[ds[k_enumerator]].copy()\n",
    "\n",
    "#         plt.subplot(len(datasets), len(clustering_algorithms), plot_num)\n",
    "#         #plt.box(False)\n",
    "#         if i_dataset == 0:\n",
    "#             plt.title(name, size=18)\n",
    "\n",
    "#         colors = np.array(\n",
    "#             list(\n",
    "#                 islice(\n",
    "#                     cycle(\n",
    "#                         [\n",
    "#                             \"#377eb8\",\n",
    "#                             \"#ff7f00\",\n",
    "#                             \"#4daf4a\",\n",
    "#                             \"#f781bf\",\n",
    "#                             \"#a65628\",\n",
    "#                             \"#984ea3\",\n",
    "#                             \"#999999\",\n",
    "#                             \"#e41a1c\",\n",
    "#                             \"#dede00\",\n",
    "#                         ]\n",
    "#                     ),\n",
    "#                     int(max(y_pred) + 1),\n",
    "#                 )\n",
    "#             )\n",
    "#         )\n",
    "#         # add black color for outliers (if any)\n",
    "#         colors = np.append(colors, [\"#000000\"])\n",
    "#         fig.patch.set_visible(False)\n",
    "#         ax.axis('off')\n",
    "#         plt.scatter(X[:, 0], X[:, 1], s=10, color=colors[y_pred])\n",
    "\n",
    "#         plt.xlim(-2.5, 2.5)\n",
    "#         plt.ylim(-2.5, 2.5)\n",
    "#         plt.xticks(())\n",
    "#         plt.yticks(())\n",
    "#         plt.text(\n",
    "#             0.99,\n",
    "#             0.01,\n",
    "#             (\"%.2fs\" % (t1 - t0)).lstrip(\"0\"),\n",
    "#             transform=plt.gca().transAxes,\n",
    "#             size=15,\n",
    "#             horizontalalignment=\"right\",\n",
    "#         )\n",
    "#         plot_num += 1\n",
    "# plt.tight_layout()\n",
    "# plt.savefig('all_algo_comparison_test_new_version_thf4.pdf', bbox_inches='tight', pad_inches = 0.05)\n",
    "# plt.show()\n"
   ]
  },
  {
   "cell_type": "code",
   "execution_count": 1490,
   "metadata": {},
   "outputs": [],
   "source": [
    "# import time\n",
    "# import warnings\n",
    "# from itertools import cycle, islice\n",
    "\n",
    "# import matplotlib.pyplot as plt\n",
    "# import numpy as np\n",
    "\n",
    "# from sklearn import cluster, datasets, mixture\n",
    "# from sklearn.neighbors import kneighbors_graph\n",
    "# from sklearn.preprocessing import StandardScaler\n",
    "\n",
    "# # ============\n",
    "# # Generate datasets. We choose the size big enough to see the scalability\n",
    "# # of the algorithms, but not too big to avoid too long running times\n",
    "# # ============\n",
    "# n_samples = 500\n",
    "# seed = 30\n",
    "# noisy_circles = datasets.make_circles(\n",
    "#     n_samples=n_samples, factor=0.5, noise=0.05, random_state=seed\n",
    "# )\n",
    "# noisy_moons = datasets.make_moons(n_samples=n_samples, noise=0.05, random_state=seed)\n",
    "# blobs = datasets.make_blobs(n_samples=n_samples, random_state=seed)\n",
    "# rng = np.random.RandomState(seed)\n",
    "# no_structure = rng.rand(n_samples, 2), None\n",
    "\n",
    "# # Anisotropicly distributed data\n",
    "# random_state = 170\n",
    "# X, y = datasets.make_blobs(n_samples=n_samples, random_state=random_state)\n",
    "# transformation = [[0.6, -0.6], [-0.4, 0.8]]\n",
    "# X_aniso = np.dot(X, transformation)\n",
    "# aniso = (X_aniso, y)\n",
    "\n",
    "# # blobs with varied variances\n",
    "# varied = datasets.make_blobs(\n",
    "#     n_samples=n_samples, cluster_std=[1.0, 2.5, 0.5], random_state=random_state\n",
    "# )\n",
    "\n",
    "# # ============\n",
    "# # Set up cluster parameters\n",
    "# # ============\n",
    "# plt.figure(figsize=(2, 2))\n",
    "# # plt.subplots_adjust(\n",
    "# #     left=0.02, right=0.98, bottom=0.001, top=0.95, wspace=0.05, hspace=0.01\n",
    "# # )\n",
    "\n",
    "# #plot_num = 1\n",
    "\n",
    "# default_base = {\n",
    "#     \"quantile\": 0.3,\n",
    "#     \"eps\": 0.3,\n",
    "#     \"damping\": 0.9,\n",
    "#     \"preference\": -200,\n",
    "#     \"n_neighbors\": 3,\n",
    "#     \"n_clusters\": 3,\n",
    "#     \"min_samples\": 7,\n",
    "#     \"xi\": 0.05,\n",
    "#     \"min_cluster_size\": 0.1,\n",
    "#     \"allow_single_cluster\": True,\n",
    "#     \"hdbscan_min_cluster_size\": 15,\n",
    "#     \"hdbscan_min_samples\": 3,\n",
    "#     \"random_state\": 42,\n",
    "# }\n",
    "# ds = ['circles', 'moons',  'varied', 'aniso', 'blobs', 'no_structure' ]\n",
    "# datasets = [\n",
    "#     (\n",
    "#         noisy_circles,\n",
    "#         {\n",
    "#             \"damping\": 0.77,\n",
    "#             \"preference\": -240,\n",
    "#             \"quantile\": 0.2,\n",
    "#             \"n_clusters\": 2,\n",
    "#             \"min_samples\": 7,\n",
    "#             \"xi\": 0.08,\n",
    "#         },\n",
    "#     ),\n",
    "#     (\n",
    "#         noisy_moons,\n",
    "#         {\n",
    "#             \"damping\": 0.75,\n",
    "#             \"preference\": -220,\n",
    "#             \"n_clusters\": 2,\n",
    "#             \"min_samples\": 7,\n",
    "#             \"xi\": 0.1,\n",
    "#         },\n",
    "#     ),\n",
    "#     (\n",
    "#         varied,\n",
    "#         {\n",
    "#             \"eps\": 0.18,\n",
    "#             \"n_neighbors\": 2,\n",
    "#             \"min_samples\": 7,\n",
    "#             \"xi\": 0.01,\n",
    "#             \"min_cluster_size\": 0.2,\n",
    "#         },\n",
    "#     ),\n",
    "#     (\n",
    "#         aniso,\n",
    "#         {\n",
    "#             \"eps\": 0.15,\n",
    "#             \"n_neighbors\": 2,\n",
    "#             \"min_samples\": 7,\n",
    "#             \"xi\": 0.1,\n",
    "#             \"min_cluster_size\": 0.2,\n",
    "#         },\n",
    "#     ),\n",
    "#     (blobs, {\"min_samples\": 7, \"xi\": 0.1, \"min_cluster_size\": 0.2}),\n",
    "#     (no_structure, {}),\n",
    "# ]\n",
    "# compar = []\n",
    "# k_enumerator = -1\n",
    "# for i_dataset, (dataset, algo_params) in enumerate(datasets):\n",
    "#     k_enumerator += 1\n",
    "    \n",
    "#     # update parameters with dataset-specific values\n",
    "#     params = default_base.copy()\n",
    "#     params.update(algo_params)\n",
    "\n",
    "#     X, y = dataset\n",
    "\n",
    "#     # normalize dataset for easier parameter selection\n",
    "#     X = StandardScaler().fit_transform(X)\n",
    "\n",
    "#     # estimate bandwidth for mean shift\n",
    "#     bandwidth = cluster.estimate_bandwidth(X, quantile=params[\"quantile\"])\n",
    "\n",
    "#     # connectivity matrix for structured Ward\n",
    "#     connectivity = kneighbors_graph(\n",
    "#         X, n_neighbors=params[\"n_neighbors\"], include_self=False\n",
    "#     )\n",
    "#     # make connectivity symmetric\n",
    "#     connectivity = 0.5 * (connectivity + connectivity.T)\n",
    "\n",
    "#     # ============\n",
    "#     # Create cluster objects\n",
    "#     # ============\n",
    "#     # ds = ['circles', 'moons',  'varied', 'aniso', 'blobs', 'no_structure' ]\n",
    "#     # algo = ['k_means', 'dbscan', 'optis', 'fca_based' ]\n",
    "#     # cir      0           1         3         4\n",
    "#     # moons    5           6         7         8\n",
    "#     # varied   9           10        11         12\n",
    "#     # aniso    13         14         15        16\n",
    "#     # blobs    17         18         19        20\n",
    "#     # no str   21         22          23       24\n",
    "#    # compar = []\n",
    "\n",
    "    \n",
    "#     #ms = cluster.MeanShift(bandwidth=bandwidth, bin_seeding=True)\n",
    "#     k_means = cluster.KMeans(\n",
    "#         n_clusters=params[\"n_clusters\"],\n",
    "#         random_state=params[\"random_state\"],\n",
    "#     )\n",
    "#     fca_based = obj_belonging.copy()\n",
    "    \n",
    "\n",
    "#     dbscan = cluster.DBSCAN(eps=params[\"eps\"])\n",
    "    \n",
    "#     optics = cluster.OPTICS(\n",
    "#     min_samples=params[\"min_samples\"],\n",
    "#     xi=params[\"xi\"],\n",
    "#     min_cluster_size=params[\"min_cluster_size\"],\n",
    "#     )\n",
    "\n",
    "   \n",
    "\n",
    "#     clustering_algorithms = (\n",
    "#         (\"KMeans\", k_means),\n",
    "\n",
    "#         (\"DBSCAN\", dbscan),\n",
    "#         (\"OPTICS\", optics),\n",
    "#         (\"FCA-based\", fca_based),\n",
    "#     )\n",
    "\n",
    "#     for name, algorithm in clustering_algorithms:\n",
    "        \n",
    "#         plt.figure(figsize=(2, 2))\n",
    "#        # plt.box(False)\n",
    "#         if name != \"FCA-based\": \n",
    "            \n",
    "#             t0 = time.time()\n",
    "\n",
    "#             # catch warnings related to kneighbors_graph\n",
    "#             with warnings.catch_warnings():\n",
    "#                 warnings.filterwarnings(\n",
    "#                     \"ignore\",\n",
    "#                     message=\"the number of connected components of the \"\n",
    "#                     + \"connectivity matrix is [0-9]{1,2}\"\n",
    "#                     + \" > 1. Completing it to avoid stopping the tree early.\",\n",
    "#                     category=UserWarning,\n",
    "#                 )\n",
    "#                 warnings.filterwarnings(\n",
    "#                     \"ignore\",\n",
    "#                     message=\"Graph is not fully connected, spectral embedding\"\n",
    "#                     + \" may not work as expected.\",\n",
    "#                     category=UserWarning,\n",
    "#                 )\n",
    "#                 algorithm.fit(X)\n",
    "\n",
    "#             t1 = time.time()\n",
    "#             if hasattr(algorithm, \"labels_\"):\n",
    "#                 y_pred = algorithm.labels_.astype(int)\n",
    "#                 compar.append(y_pred)\n",
    "#             else:\n",
    "#                 y_pred = algorithm.predict(X)\n",
    "#                 compar.append(y_pred)\n",
    "#         else:\n",
    "#             t0 = t0_d[ds[k_enumerator]]\n",
    "#             t1 = t1_d[ds[k_enumerator]]\n",
    "#             y_pred  = obj_belonging[ds[k_enumerator]].copy()\n",
    "#             compar.append(y_pred)\n",
    "\n",
    "#         #plt.subplot(len(datasets), len(clustering_algorithms), plot_num)\n",
    "#         #if i_dataset == 0:\n",
    "#         #plt.title(name, size=18)\n",
    "\n",
    "#         colors = np.array(\n",
    "#             list(\n",
    "#                 islice(\n",
    "#                     cycle(\n",
    "#                         [\n",
    "#                             \"#377eb8\",\n",
    "#                             \"#ff7f00\",\n",
    "#                             \"#4daf4a\",\n",
    "#                             \"#f781bf\",\n",
    "#                             \"#a65628\",\n",
    "#                             \"#984ea3\",\n",
    "#                             \"#999999\",\n",
    "#                             \"#e41a1c\",\n",
    "#                             \"#dede00\",\n",
    "#                         ]\n",
    "#                     ),\n",
    "#                     int(max(y_pred) + 1),\n",
    "#                 )\n",
    "#             )\n",
    "#         )\n",
    "#         # add black color for outliers (if any)\n",
    "#         colors = np.append(colors, [\"#000000\"])\n",
    "#         fig.patch.set_visible(False)\n",
    "#         ax.axis('off')\n",
    "#         plt.tight_layout()\n",
    "#         plt.scatter(X[:, 0], X[:, 1], s=10, color=colors[y_pred])\n",
    "\n",
    "#         plt.xlim(-2.5, 2.5)\n",
    "#         plt.ylim(-2.5, 2.5)\n",
    "#         plt.xticks(())\n",
    "#         plt.yticks(())\n",
    "#         plt.text(\n",
    "#             0.99,\n",
    "#             0.01,\n",
    "#             (\"%.2fs\" % (t1 - t0)).lstrip(\"0\"),\n",
    "#             transform=plt.gca().transAxes,\n",
    "#             size=15,\n",
    "#             horizontalalignment=\"right\",\n",
    "#         )\n",
    "\n",
    "#         # Save just the portion _inside_ the second axis's boundaries\n",
    "#         #extent = f.get_window_extent().transformed(f.dpi_scale_trans.inverted())\n",
    "#         #fig.savefig('ax'+str(name)+str(i_dataset)+'_figure.png', bbox_inches=extent)\n",
    "        \n",
    "#         plot_num += 1\n",
    "#        # plt.tight_layout()\n",
    "#         #ax.set_frame_on(False)\n",
    "#         plt.savefig(str(name)+str(i_dataset)+'_figure_tf4.pdf', bbox_inches= 'tight', pad_inches = 0)\n",
    "#         plt.show()\n"
   ]
  },
  {
   "cell_type": "markdown",
   "metadata": {},
   "source": [
    "## for comparison "
   ]
  },
  {
   "cell_type": "markdown",
   "metadata": {},
   "source": [
    "## K_means"
   ]
  },
  {
   "cell_type": "markdown",
   "metadata": {},
   "source": [
    "### noisy_circles"
   ]
  },
  {
   "cell_type": "code",
   "execution_count": 1491,
   "metadata": {},
   "outputs": [],
   "source": [
    "# pairs_k_means_circles = set()\n",
    "# for i in range(0, len(compar[0])):\n",
    "#     for j in range(i+1,len(compar[0])):\n",
    "#         if compar[0][i] == compar[0][j]:\n",
    "#             pairs_k_means_circles.add((i,j))"
   ]
  },
  {
   "cell_type": "markdown",
   "metadata": {},
   "source": [
    "### noisy_moons"
   ]
  },
  {
   "cell_type": "code",
   "execution_count": 1492,
   "metadata": {},
   "outputs": [],
   "source": [
    "# pairs_k_means_noisy_moons = set()\n",
    "# for i in range(0, len(compar[5])):\n",
    "#     for j in range(i+1,len(compar[5])):\n",
    "#         if compar[5][i] == compar[5][j]:\n",
    "#             pairs_k_means_noisy_moons.add((i,j))"
   ]
  },
  {
   "cell_type": "markdown",
   "metadata": {},
   "source": [
    "### blobs"
   ]
  },
  {
   "cell_type": "code",
   "execution_count": 1493,
   "metadata": {},
   "outputs": [],
   "source": [
    "# pairs_k_means_blobs = set()\n",
    "# for i in range(0, len(compar[17])):\n",
    "#     for j in range(i+1,len(compar[17])):\n",
    "#         if compar[17][i] == compar[17][j]:\n",
    "#             pairs_k_means_blobs.add((i,j))"
   ]
  },
  {
   "cell_type": "markdown",
   "metadata": {},
   "source": [
    "### varied"
   ]
  },
  {
   "cell_type": "code",
   "execution_count": 1494,
   "metadata": {},
   "outputs": [],
   "source": [
    "# pairs_k_means_varied = set()\n",
    "# for i in range(0, len(compar[9])):\n",
    "#     for j in range(i+1,len(compar[9])):\n",
    "#         if compar[9][i] == compar[9][j]:\n",
    "#             pairs_k_means_varied.add((i,j))"
   ]
  },
  {
   "cell_type": "markdown",
   "metadata": {},
   "source": [
    "### no_structure"
   ]
  },
  {
   "cell_type": "code",
   "execution_count": 1495,
   "metadata": {},
   "outputs": [],
   "source": [
    "# pairs_k_means_no_structure = set()\n",
    "# for i in range(0, len(compar[21])):\n",
    "#     for j in range(i+1,len(compar[21])):\n",
    "#         if compar[21][i] == compar[21][j]:\n",
    "#             pairs_k_means_no_structure.add((i,j))"
   ]
  },
  {
   "cell_type": "markdown",
   "metadata": {},
   "source": [
    "### aniso"
   ]
  },
  {
   "cell_type": "code",
   "execution_count": 1496,
   "metadata": {},
   "outputs": [],
   "source": [
    "# pairs_k_means_aniso = set()\n",
    "# for i in range(0, len(compar[13])):\n",
    "#     for j in range(i+1,len(compar[13])):\n",
    "#         if compar[13][i] == compar[13][j]:\n",
    "#             pairs_k_means_aniso.add((i,j))"
   ]
  },
  {
   "cell_type": "markdown",
   "metadata": {},
   "source": [
    "## DBSCAN"
   ]
  },
  {
   "cell_type": "markdown",
   "metadata": {},
   "source": [
    "### noisy_circles"
   ]
  },
  {
   "cell_type": "code",
   "execution_count": 1497,
   "metadata": {},
   "outputs": [],
   "source": [
    "# pairs_db_circles = set()\n",
    "# for i in range(0, len(compar[1])):\n",
    "#     for j in range(i+1,len(compar[1])):\n",
    "#         if compar[1][i] == compar[1][j]:\n",
    "#             pairs_db_circles.add((i,j))"
   ]
  },
  {
   "cell_type": "markdown",
   "metadata": {},
   "source": [
    "### noisy_moons"
   ]
  },
  {
   "cell_type": "code",
   "execution_count": 1498,
   "metadata": {},
   "outputs": [],
   "source": [
    "# pairs_db_noisy_moons = set()\n",
    "# for i in range(0, len(compar[6])):\n",
    "#     for j in range(i+1,len(compar[6])):\n",
    "#         if compar[6][i] == compar[6][j]:\n",
    "#             pairs_db_noisy_moons.add((i,j))"
   ]
  },
  {
   "cell_type": "markdown",
   "metadata": {},
   "source": [
    "### blobs"
   ]
  },
  {
   "cell_type": "code",
   "execution_count": 1499,
   "metadata": {},
   "outputs": [],
   "source": [
    "# pairs_db_blobs = set()\n",
    "# for i in range(0, len(compar[18])):\n",
    "#     for j in range(i+1,len(compar[18])):\n",
    "#         if compar[18][i] == compar[18][j]:\n",
    "#             pairs_db_blobs.add((i,j))"
   ]
  },
  {
   "cell_type": "markdown",
   "metadata": {},
   "source": [
    "### varied"
   ]
  },
  {
   "cell_type": "code",
   "execution_count": 1500,
   "metadata": {},
   "outputs": [],
   "source": [
    "# pairs_db_varied = set()\n",
    "# for i in range(0, len(compar[10])):\n",
    "#     for j in range(i+1,len(compar[10])):\n",
    "#         if compar[10][i] == compar[10][j]:\n",
    "#             pairs_db_varied.add((i,j))"
   ]
  },
  {
   "cell_type": "markdown",
   "metadata": {},
   "source": [
    "### no_structure"
   ]
  },
  {
   "cell_type": "code",
   "execution_count": 1501,
   "metadata": {},
   "outputs": [],
   "source": [
    "# pairs_db_no_structure = set()\n",
    "# for i in range(0, len(compar[22])):\n",
    "#     for j in range(i+1,len(compar[22])):\n",
    "#         if compar[22][i] == compar[22][j]:\n",
    "#             pairs_db_no_structure.add((i,j))"
   ]
  },
  {
   "cell_type": "markdown",
   "metadata": {},
   "source": [
    "### aniso"
   ]
  },
  {
   "cell_type": "code",
   "execution_count": 1502,
   "metadata": {},
   "outputs": [],
   "source": [
    "# pairs_db_aniso = set()\n",
    "# for i in range(0, len(compar[14])):\n",
    "#     for j in range(i+1,len(compar[14])):\n",
    "#         if compar[14][i] == compar[14][j]:\n",
    "#             pairs_db_aniso.add((i,j))"
   ]
  },
  {
   "cell_type": "markdown",
   "metadata": {},
   "source": [
    "# OPTICS"
   ]
  },
  {
   "cell_type": "markdown",
   "metadata": {},
   "source": [
    "### noisy_circles"
   ]
  },
  {
   "cell_type": "code",
   "execution_count": 1503,
   "metadata": {},
   "outputs": [],
   "source": [
    "# pairs_db_varied = set()\n",
    "# for i in range(0, len(compar[3])):\n",
    "#     for j in range(i+1,len(compar[3])):\n",
    "#         if compar[3][i] == compar[3][j]:\n",
    "#             pairs_db_varied.add((i,j))"
   ]
  },
  {
   "cell_type": "markdown",
   "metadata": {},
   "source": [
    "### noisy_moons"
   ]
  },
  {
   "cell_type": "code",
   "execution_count": 1504,
   "metadata": {},
   "outputs": [],
   "source": [
    "# pairs_db_varied = set()\n",
    "# for i in range(0, len(compar[7])):\n",
    "#     for j in range(i+1,len(compar[7])):\n",
    "#         if compar[7][i] == compar[7][j]:\n",
    "#             pairs_db_varied.add((i,j))"
   ]
  },
  {
   "cell_type": "markdown",
   "metadata": {},
   "source": [
    "### blobs"
   ]
  },
  {
   "cell_type": "code",
   "execution_count": 1505,
   "metadata": {},
   "outputs": [],
   "source": [
    "# pairs_db_varied = set()\n",
    "# for i in range(0, len(compar[19])):\n",
    "#     for j in range(i+1,len(compar[19])):\n",
    "#         if compar[19][i] == compar[19][j]:\n",
    "#             pairs_db_varied.add((i,j))"
   ]
  },
  {
   "cell_type": "markdown",
   "metadata": {},
   "source": [
    "### varied"
   ]
  },
  {
   "cell_type": "code",
   "execution_count": 1506,
   "metadata": {},
   "outputs": [],
   "source": [
    "# pairs_db_varied = set()\n",
    "# for i in range(0, len(compar[11])):\n",
    "#     for j in range(i+1,len(compar[11])):\n",
    "#         if compar[11][i] == compar[11][j]:\n",
    "#             pairs_db_varied.add((i,j))"
   ]
  },
  {
   "cell_type": "markdown",
   "metadata": {},
   "source": [
    "### no_structure"
   ]
  },
  {
   "cell_type": "code",
   "execution_count": 1507,
   "metadata": {},
   "outputs": [],
   "source": [
    "# pairs_db_varied = set()\n",
    "# for i in range(0, len(compar[23])):\n",
    "#     for j in range(i+1,len(compar[23])):\n",
    "#         if compar[23][i] == compar[23][j]:\n",
    "#             pairs_db_varied.add((i,j))"
   ]
  },
  {
   "cell_type": "markdown",
   "metadata": {},
   "source": [
    "### aniso"
   ]
  },
  {
   "cell_type": "code",
   "execution_count": 1508,
   "metadata": {},
   "outputs": [],
   "source": [
    "# pairs_db_varied = set()\n",
    "# for i in range(0, len(compar[15])):\n",
    "#     for j in range(i+1,len(compar[15])):\n",
    "#         if compar[15][i] == compar[15][j]:\n",
    "#             pairs_db_varied.add((i,j))"
   ]
  },
  {
   "cell_type": "markdown",
   "metadata": {},
   "source": [
    "# Similarity "
   ]
  },
  {
   "cell_type": "code",
   "execution_count": 1509,
   "metadata": {},
   "outputs": [],
   "source": [
    "#pairs_fca_circles"
   ]
  },
  {
   "cell_type": "code",
   "execution_count": 1510,
   "metadata": {},
   "outputs": [],
   "source": [
    "#pairs_k_means_circles"
   ]
  },
  {
   "cell_type": "code",
   "execution_count": 1511,
   "metadata": {},
   "outputs": [],
   "source": [
    "#pairs_db_circles"
   ]
  },
  {
   "cell_type": "code",
   "execution_count": 1512,
   "metadata": {},
   "outputs": [],
   "source": [
    "#pairs_fca_moons"
   ]
  },
  {
   "cell_type": "code",
   "execution_count": 1513,
   "metadata": {},
   "outputs": [],
   "source": [
    "#pairs_k_means_noisy_moons"
   ]
  },
  {
   "cell_type": "code",
   "execution_count": 1514,
   "metadata": {},
   "outputs": [],
   "source": [
    "#pairs_db_noisy_moons"
   ]
  },
  {
   "cell_type": "code",
   "execution_count": 1515,
   "metadata": {},
   "outputs": [],
   "source": [
    "#pairs_fca_blobs"
   ]
  },
  {
   "cell_type": "code",
   "execution_count": 1516,
   "metadata": {},
   "outputs": [],
   "source": [
    "#pairs_k_means_blobs"
   ]
  },
  {
   "cell_type": "code",
   "execution_count": 1517,
   "metadata": {},
   "outputs": [],
   "source": [
    "#pairs_db_blobs"
   ]
  },
  {
   "cell_type": "code",
   "execution_count": 1518,
   "metadata": {},
   "outputs": [],
   "source": [
    "#pairs_fca_var"
   ]
  },
  {
   "cell_type": "code",
   "execution_count": 1519,
   "metadata": {},
   "outputs": [],
   "source": [
    "#pairs_k_means_varied"
   ]
  },
  {
   "cell_type": "code",
   "execution_count": 1520,
   "metadata": {},
   "outputs": [],
   "source": [
    "#pairs_db_varied"
   ]
  },
  {
   "cell_type": "code",
   "execution_count": 1521,
   "metadata": {},
   "outputs": [],
   "source": [
    "#pairs_fca_no_str"
   ]
  },
  {
   "cell_type": "code",
   "execution_count": 1522,
   "metadata": {},
   "outputs": [],
   "source": [
    "#pairs_k_means_no_structure"
   ]
  },
  {
   "cell_type": "code",
   "execution_count": 1523,
   "metadata": {},
   "outputs": [],
   "source": [
    "#pairs_db_no_structure"
   ]
  },
  {
   "cell_type": "code",
   "execution_count": 1524,
   "metadata": {},
   "outputs": [],
   "source": [
    "#pairs_fca_aniso"
   ]
  },
  {
   "cell_type": "code",
   "execution_count": 1525,
   "metadata": {},
   "outputs": [],
   "source": [
    "#pairs_k_means_aniso"
   ]
  },
  {
   "cell_type": "code",
   "execution_count": 1526,
   "metadata": {},
   "outputs": [],
   "source": [
    "#pairs_db_aniso"
   ]
  },
  {
   "cell_type": "markdown",
   "metadata": {},
   "source": [
    "## noisy_circles"
   ]
  },
  {
   "cell_type": "markdown",
   "metadata": {},
   "source": [
    "### k-means"
   ]
  },
  {
   "cell_type": "code",
   "execution_count": 1527,
   "metadata": {},
   "outputs": [],
   "source": [
    "# k_means_circle = len(pairs_fca_circles & pairs_k_means_circles)/(500*500)*2\n",
    "# k_means_circle"
   ]
  },
  {
   "cell_type": "markdown",
   "metadata": {},
   "source": [
    "### dbscan"
   ]
  },
  {
   "cell_type": "code",
   "execution_count": 1528,
   "metadata": {},
   "outputs": [],
   "source": [
    "# k_db_circle = len(pairs_fca_circles & pairs_db_circles)/(500*500)*2\n",
    "# k_db_circle "
   ]
  },
  {
   "cell_type": "markdown",
   "metadata": {},
   "source": [
    "## noisy_moons"
   ]
  },
  {
   "cell_type": "markdown",
   "metadata": {},
   "source": [
    "### k-means"
   ]
  },
  {
   "cell_type": "code",
   "execution_count": 1529,
   "metadata": {},
   "outputs": [],
   "source": [
    "# k_means_moons = len(pairs_fca_moons & pairs_k_means_noisy_moons )/(500*500)*2\n",
    "# k_means_moons"
   ]
  },
  {
   "cell_type": "markdown",
   "metadata": {},
   "source": [
    "### dbscan"
   ]
  },
  {
   "cell_type": "code",
   "execution_count": 1530,
   "metadata": {},
   "outputs": [],
   "source": [
    "# db_moons = len(pairs_fca_moons & pairs_db_noisy_moons )/(500*500)*2\n",
    "# db_moons "
   ]
  },
  {
   "cell_type": "markdown",
   "metadata": {},
   "source": [
    "## blobs"
   ]
  },
  {
   "cell_type": "markdown",
   "metadata": {},
   "source": [
    "### k-means"
   ]
  },
  {
   "cell_type": "code",
   "execution_count": 1531,
   "metadata": {},
   "outputs": [],
   "source": [
    "# k_means_blobs = len(pairs_fca_blobs & pairs_k_means_blobs )/(500*500)*2\n",
    "# k_means_blobs "
   ]
  },
  {
   "cell_type": "markdown",
   "metadata": {},
   "source": [
    "### dbscan"
   ]
  },
  {
   "cell_type": "code",
   "execution_count": 1532,
   "metadata": {},
   "outputs": [],
   "source": [
    "# db_blobs = len(pairs_fca_blobs & pairs_db_blobs)/(500*500)*2\n",
    "# db_blobs"
   ]
  },
  {
   "cell_type": "markdown",
   "metadata": {},
   "source": [
    "## varied"
   ]
  },
  {
   "cell_type": "markdown",
   "metadata": {},
   "source": [
    "### k-means"
   ]
  },
  {
   "cell_type": "code",
   "execution_count": 1533,
   "metadata": {},
   "outputs": [],
   "source": [
    "# k_means_var = len(pairs_fca_var & pairs_k_means_varied)/(500*500)*2\n",
    "# k_means_var "
   ]
  },
  {
   "cell_type": "markdown",
   "metadata": {},
   "source": [
    "### dbscan"
   ]
  },
  {
   "cell_type": "code",
   "execution_count": 1534,
   "metadata": {},
   "outputs": [],
   "source": [
    "# db_var = len(pairs_fca_var & pairs_db_varied)/(500*500)*2\n",
    "# db_var"
   ]
  },
  {
   "cell_type": "markdown",
   "metadata": {},
   "source": [
    "## no_structure"
   ]
  },
  {
   "cell_type": "markdown",
   "metadata": {},
   "source": [
    "### k-means"
   ]
  },
  {
   "cell_type": "code",
   "execution_count": 1535,
   "metadata": {},
   "outputs": [],
   "source": [
    "# k_means_no_str = len(pairs_fca_no_str &pairs_k_means_no_structure)/(500*500)*2\n",
    "# k_means_no_str"
   ]
  },
  {
   "cell_type": "markdown",
   "metadata": {},
   "source": [
    "### dbscan"
   ]
  },
  {
   "cell_type": "code",
   "execution_count": 1536,
   "metadata": {},
   "outputs": [],
   "source": [
    "# db_no_str = len(pairs_fca_no_str & pairs_db_no_structure)/(500*500)*2\n",
    "# db_no_str "
   ]
  },
  {
   "cell_type": "markdown",
   "metadata": {},
   "source": [
    "## aniso"
   ]
  },
  {
   "cell_type": "markdown",
   "metadata": {},
   "source": [
    "### k-means"
   ]
  },
  {
   "cell_type": "code",
   "execution_count": 1537,
   "metadata": {},
   "outputs": [],
   "source": [
    "# k_means_aniso = len(pairs_fca_aniso & pairs_k_means_aniso)/(500*500)*2\n",
    "# k_means_aniso"
   ]
  },
  {
   "cell_type": "markdown",
   "metadata": {},
   "source": [
    "### dbscan"
   ]
  },
  {
   "cell_type": "code",
   "execution_count": 1538,
   "metadata": {},
   "outputs": [],
   "source": [
    "# db_aniso = len(pairs_fca_aniso & pairs_db_aniso)/(500*500)*2\n",
    "# db_aniso"
   ]
  },
  {
   "cell_type": "code",
   "execution_count": 1539,
   "metadata": {},
   "outputs": [],
   "source": [
    "# circles2 = {'dataset': 'noisy_circles', 'thrift_factor': thrift_factor, 't_av': t_circ, 'reward': k_db_circle}\n",
    "# moons2 = {'dataset': 'noisy_moons',  'thrift_factor':thrift_factor, 't_av':t_moons, 'reward':db_moons }\n",
    "# blobs2 = {'dataset': 'blobs',  'thrift_factor':thrift_factor, 't_av':t_blobs , 'reward':db_blobs}\n",
    "# varied2 = {'dataset': 'varied',  'thrift_factor':thrift_factor, 't_av' :t_var , 'reward':db_var}\n",
    "# no_structure2 = {'dataset': 'no_structure',  'thrift_factor':thrift_factor, 't_av': t_nos, 'reward':db_no_str }\n",
    "# aniso2 = {'dataset': 'aniso',  'thrift_factor': thrift_factor, 't_av':t_aniso, 'reward':db_aniso}"
   ]
  },
  {
   "cell_type": "code",
   "execution_count": 1540,
   "metadata": {},
   "outputs": [],
   "source": [
    "# df_2 = pd.DataFrame(columns = ['dataset','thrift_factor','t_av', 'reward'])\n",
    "# df_2"
   ]
  },
  {
   "cell_type": "code",
   "execution_count": 1541,
   "metadata": {},
   "outputs": [],
   "source": [
    "# df_2 = df_2._append(circles2, ignore_index = True)\n",
    "# df_2 = df_2._append(moons2, ignore_index = True)\n",
    "# df_2 = df_2._append(blobs2, ignore_index = True)\n",
    "# df_2 = df_2._append(varied2, ignore_index = True)\n",
    "# df_2 = df_2._append(no_structure2, ignore_index = True)\n",
    "# df_2 = df_2._append(aniso2, ignore_index = True)\n",
    "# df_2 "
   ]
  },
  {
   "cell_type": "code",
   "execution_count": 1542,
   "metadata": {},
   "outputs": [],
   "source": [
    "# df = pd.DataFrame(columns = ['dataset', 'thrift_factor', 'K_means', 'DBSCAN'])\n",
    "# df"
   ]
  },
  {
   "cell_type": "code",
   "execution_count": 1543,
   "metadata": {},
   "outputs": [],
   "source": [
    "# circles = {'dataset': 'noisy_circles', 'thrift_factor':thrift_factor, 'K_means': k_means_circle, 'DBSCAN': k_db_circle}\n",
    "# moons = {'dataset': 'noisy_moons', 'thrift_factor':thrift_factor,  'K_means':k_means_moons, 'DBSCAN':db_moons }\n",
    "# blobs = {'dataset': 'blobs', 'thrift_factor':thrift_factor,  'K_means':k_means_blobs , 'DBSCAN':db_blobs}\n",
    "# varied = {'dataset': 'varied', 'thrift_factor':thrift_factor,  'K_means' :k_means_var , 'DBSCAN':db_var}\n",
    "# no_structure = {'dataset': 'no_structure','thrift_factor':thrift_factor,   'K_means': k_means_no_str, 'DBSCAN':db_no_str }\n",
    "# aniso = {'dataset': 'aniso', 'thrift_factor':thrift_factor,  'K_means':k_means_aniso, 'DBSCAN':db_aniso}\n"
   ]
  },
  {
   "cell_type": "code",
   "execution_count": 1544,
   "metadata": {},
   "outputs": [],
   "source": [
    "# df = df._append(circles, ignore_index = True)\n",
    "# df = df._append(moons, ignore_index = True)\n",
    "# df = df._append(blobs, ignore_index = True)\n",
    "# df = df._append(varied, ignore_index = True)\n",
    "# df = df._append(no_structure, ignore_index = True)\n",
    "# df = df._append(aniso, ignore_index = True)"
   ]
  },
  {
   "cell_type": "code",
   "execution_count": 1545,
   "metadata": {},
   "outputs": [],
   "source": [
    "# df"
   ]
  },
  {
   "cell_type": "code",
   "execution_count": 1546,
   "metadata": {},
   "outputs": [],
   "source": [
    "# df.to_csv('similarity.csv', index = False)"
   ]
  },
  {
   "cell_type": "code",
   "execution_count": 1547,
   "metadata": {},
   "outputs": [],
   "source": [
    "# df_2.to_csv('thrift_factor.csv', index = False)"
   ]
  },
  {
   "cell_type": "markdown",
   "metadata": {},
   "source": [
    "Добрый день. \n",
    "У меня для каждого кластера указан extent, оформленный в формате bitarray (или возможно frozenbitarray что почти то же самое). Bitarray - это список битов, где i-тый бит соответствует i-тому объекту. То есть например если мы определим extent = clusters_df['extent'][k] то extent[i] == True будет означать что i-тый объект находится в кластере k-том кластере. Список всех индексов объектов находящихся в кластере можно получить через extent.search(True).\n",
    "Так что можно создать numpy.array в котором указать номер кластера для каждого объекта в зависимости от того, в каком из экстентов кластеров этот объект находится. Если объект можно найти в нескольких экстентах (т.е. в пересечении кластеров), можно пометить его как None или -1 (не помню что используется в sklearn в качестве некластеризованного объекта). И потом можно вставить этот numpy.array в код рисования графиков, который можно найти на sklearn"
   ]
  },
  {
   "cell_type": "code",
   "execution_count": 1548,
   "metadata": {},
   "outputs": [],
   "source": [
    "# np.save('fca_obj_belonging.npy',obj_belonging)\n",
    "# np.save('fca_times0.npy',t0_d)\n",
    "# np.save('fca_times1.npy',t1_d)\n",
    "# np.save('fca_ds.npy', ds)"
   ]
  },
  {
   "cell_type": "code",
   "execution_count": 1549,
   "metadata": {},
   "outputs": [],
   "source": [
    "# f_ob_belong = np.load('fca_obj_belonging.npy', allow_pickle = True)\n",
    "# f_ob_belong"
   ]
  },
  {
   "cell_type": "code",
   "execution_count": 1550,
   "metadata": {},
   "outputs": [],
   "source": [
    "# f_fca_t0 = np.load('fca_times0.npy', allow_pickle = True)\n",
    "# f_fca_t0"
   ]
  },
  {
   "cell_type": "code",
   "execution_count": 1551,
   "metadata": {},
   "outputs": [],
   "source": [
    "# f_fca_t1 = np.load('fca_times1.npy', allow_pickle = True)\n",
    "# f_fca_t1"
   ]
  },
  {
   "cell_type": "code",
   "execution_count": 1552,
   "metadata": {},
   "outputs": [],
   "source": [
    "# f_fca_ds = np.load('fca_ds.npy', allow_pickle = True)\n",
    "# f_fca_ds"
   ]
  },
  {
   "cell_type": "code",
   "execution_count": null,
   "metadata": {},
   "outputs": [],
   "source": []
  }
 ],
 "metadata": {
  "kernelspec": {
   "display_name": "Python 3 (ipykernel)",
   "language": "python",
   "name": "python3"
  },
  "language_info": {
   "codemirror_mode": {
    "name": "ipython",
    "version": 3
   },
   "file_extension": ".py",
   "mimetype": "text/x-python",
   "name": "python",
   "nbconvert_exporter": "python",
   "pygments_lexer": "ipython3",
   "version": "3.12.1"
  }
 },
 "nbformat": 4,
 "nbformat_minor": 4
}
