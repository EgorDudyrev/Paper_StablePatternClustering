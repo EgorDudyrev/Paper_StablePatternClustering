{
 "cells": [
  {
   "cell_type": "code",
   "execution_count": 1,
   "metadata": {},
   "outputs": [
    {
     "name": "stdout",
     "output_type": "stream",
     "text": [
      "Requirement already satisfied: spmf in /Library/Frameworks/Python.framework/Versions/3.11/lib/python3.11/site-packages (1.4)\r\n"
     ]
    }
   ],
   "source": [
    "!pip install spmf"
   ]
  },
  {
   "cell_type": "code",
   "execution_count": 2,
   "metadata": {},
   "outputs": [],
   "source": [
    "!pip install --quiet git+https://github.com/EgorDudyrev/paspailleur.git\n",
    "import caspailleur as csp\n",
    "from paspailleur import pattern_structures as PS"
   ]
  },
  {
   "cell_type": "code",
   "execution_count": 3,
   "metadata": {},
   "outputs": [],
   "source": [
    "from importlib import reload"
   ]
  },
  {
   "cell_type": "code",
   "execution_count": 4,
   "metadata": {},
   "outputs": [],
   "source": [
    "from script import clustering as clib, visual_lib as vlib\n",
    "import numpy as np\n",
    "import matplotlib.pyplot as plt"
   ]
  },
  {
   "cell_type": "code",
   "execution_count": 5,
   "metadata": {},
   "outputs": [],
   "source": [
    "from functools import reduce\n",
    "from bitarray import frozenbitarray"
   ]
  },
  {
   "cell_type": "markdown",
   "metadata": {},
   "source": [
    "# Test example of AprioriRare via SPMF"
   ]
  },
  {
   "cell_type": "markdown",
   "metadata": {},
   "source": [
    "rare_itemsets_input.txt is taken from https://www.philippe-fournier-viger.com/spmf/AprioriInverse.php example"
   ]
  },
  {
   "cell_type": "code",
   "execution_count": 6,
   "metadata": {},
   "outputs": [
    {
     "name": "stdout",
     "output_type": "stream",
     "text": [
      ">/Users/egordudyrev/Documents/1. Projects/StablePatternClustering project/Paper_StablePatternClustering/script/spmf.jar\n",
      "=============  APRIORI-RARE - STATS =============\n",
      " Candidates count : 14\n",
      " The algorithm stopped at size 4, because there is no candidate\n",
      " Minimal rare itemsets count : 3\n",
      " Maximum memory usage : 10.457344055175781 mb\n",
      " Total time ~ 6 ms\n",
      "===================================================\n"
     ]
    }
   ],
   "source": [
    "!java -jar ../script/spmf.jar run AprioriRare rare_itemsets_input.basenum rare_output.txt 50%"
   ]
  },
  {
   "cell_type": "code",
   "execution_count": 7,
   "metadata": {},
   "outputs": [
    {
     "name": "stdout",
     "output_type": "stream",
     "text": [
      "rm: rare_output.pkl: No such file or directory\n",
      "rm: rare_output.csv: No such file or directory\n",
      ">/Users/egordudyrev/Documents/1. Projects/StablePatternClustering project/Paper_StablePatternClustering/script/spmf.jar\n",
      "=============  APRIORI-RARE - STATS =============\n",
      " Candidates count : 14\n",
      " The algorithm stopped at size 4, because there is no candidate\n",
      " Minimal rare itemsets count : 3\n",
      " Maximum memory usage : 10.457344055175781 mb\n",
      " Total time ~ 7 ms\n",
      "===================================================\n",
      "\n"
     ]
    }
   ],
   "source": [
    "!rm rare_output.txt rare_output.pkl rare_output.csv\n",
    "from spmf import Spmf\n",
    "\n",
    "spmf = Spmf(\n",
    "    \"AprioriRare\", input_filename=\"rare_itemsets_input.basenum\",\n",
    "    output_filename=\"rare_output.txt\", arguments=['50%'],\n",
    "    spmf_bin_location_dir='../script/'\n",
    ")\n",
    "spmf.run()\n",
    "\n",
    "#print(spmf.to_pandas_dataframe(pickle=True))\n",
    "#spmf.to_csv(\"rare_output.csv\")"
   ]
  },
  {
   "cell_type": "code",
   "execution_count": 8,
   "metadata": {},
   "outputs": [
    {
     "name": "stdout",
     "output_type": "stream",
     "text": [
      "4 #SUP: 1\r\n",
      "1 2 3  #SUP: 2\r\n",
      "1 3 5  #SUP: 2\r\n"
     ]
    }
   ],
   "source": [
    "!cat rare_output.txt"
   ]
  },
  {
   "cell_type": "code",
   "execution_count": 9,
   "metadata": {},
   "outputs": [],
   "source": [
    "with open('rare_itemsets_input.basenum', 'r') as file:\n",
    "    itemsets = [set(map(int,line.strip().split(' '))) for line in file.readlines()]\n",
    "attr_extents = csp.io.transpose_context(csp.to_bitarrays(itemsets)[0])"
   ]
  },
  {
   "cell_type": "code",
   "execution_count": 10,
   "metadata": {},
   "outputs": [
    {
     "name": "stdout",
     "output_type": "stream",
     "text": [
      "[(3,)]\n"
     ]
    }
   ],
   "source": [
    "clib = reload(clib)\n",
    "\n",
    "print(list(clib.mine_rare_itemsets(attr_extents, int(len(itemsets)/2))))"
   ]
  },
  {
   "cell_type": "code",
   "execution_count": 11,
   "metadata": {},
   "outputs": [
    {
     "name": "stdout",
     "output_type": "stream",
     "text": [
      "21.2 µs ± 53.9 ns per loop (mean ± std. dev. of 7 runs, 10,000 loops each)\n"
     ]
    }
   ],
   "source": [
    "%timeit list(clib.mine_rare_itemsets(attr_extents, 2))"
   ]
  },
  {
   "cell_type": "markdown",
   "metadata": {},
   "source": [
    "# Test examples on Circles data"
   ]
  },
  {
   "cell_type": "code",
   "execution_count": 12,
   "metadata": {},
   "outputs": [],
   "source": [
    "from sklearn import datasets\n",
    "\n",
    "n_samples = 500\n",
    "seed = 30\n",
    "noisy_circles = datasets.make_circles(\n",
    "    n_samples=n_samples, factor=0.5, noise=0.05, random_state=seed\n",
    ")\n",
    "X, y = noisy_circles"
   ]
  },
  {
   "cell_type": "code",
   "execution_count": 13,
   "metadata": {},
   "outputs": [],
   "source": [
    "linscale_x = np.linspace(X[:,0].min(), X[:,0].max(), 11)\n",
    "linscale_y = np.linspace(X[:,1].min(), X[:,1].max(), 11)\n",
    "ps = PS.CartesianPS([PS.IntervalPS(values=linscale_x), PS.IntervalPS(values=linscale_y)])"
   ]
  },
  {
   "cell_type": "code",
   "execution_count": 14,
   "metadata": {},
   "outputs": [],
   "source": [
    "min_support = 0.01\n",
    "max_support = 0.8\n",
    "min_delta_stability = 0.01"
   ]
  },
  {
   "cell_type": "code",
   "execution_count": 15,
   "metadata": {},
   "outputs": [
    {
     "name": "stdout",
     "output_type": "stream",
     "text": [
      "38\n"
     ]
    }
   ],
   "source": [
    "data = list(ps.preprocess_data(X))\n",
    "attributes, attr_extents = zip(*ps.iter_attributes(data, min_support=min_support))\n",
    "print(len(attributes))"
   ]
  },
  {
   "cell_type": "code",
   "execution_count": 16,
   "metadata": {},
   "outputs": [
    {
     "data": {
      "application/vnd.jupyter.widget-view+json": {
       "model_id": "e8a0e3960f0a484680ad4d279f5878dc",
       "version_major": 2,
       "version_minor": 0
      },
      "text/plain": [
       "  0%|          | 0/38 [00:00<?, ?it/s]"
      ]
     },
     "metadata": {},
     "output_type": "display_data"
    },
    {
     "name": "stdout",
     "output_type": "stream",
     "text": [
      "n extents 1729\n",
      "CPU times: user 38.9 ms, sys: 7.7 ms, total: 46.6 ms\n",
      "Wall time: 46 ms\n"
     ]
    }
   ],
   "source": [
    "%%time\n",
    "stable_extents = csp.mine_equivalence_classes.list_stable_extents_via_gsofia(\n",
    "    attr_extents,\n",
    "    n_objects=len(data), min_delta_stability=min_delta_stability, min_supp=min_support,\n",
    "    use_tqdm=True, n_attributes=len(attributes)\n",
    ")\n",
    "stable_extents = sorted(stable_extents, key=lambda ext: ext.count(), reverse=True)\n",
    "print(f\"n extents\", len(stable_extents))"
   ]
  },
  {
   "cell_type": "code",
   "execution_count": 17,
   "metadata": {},
   "outputs": [
    {
     "name": "stdout",
     "output_type": "stream",
     "text": [
      "1729 15\n"
     ]
    }
   ],
   "source": [
    "from bitarray.util import count_and, count_or\n",
    "\n",
    "jaccard_thold = 0.1\n",
    "sparse_extents = []\n",
    "for i, extent in enumerate(stable_extents):\n",
    "    not_like_others = all(count_and(extent, other)/count_or(extent, other) <= jaccard_thold\n",
    "                          for other in sparse_extents)\n",
    "    if not_like_others:\n",
    "        sparse_extents.append(extent)\n",
    "print(len(stable_extents), len(sparse_extents))"
   ]
  },
  {
   "cell_type": "code",
   "execution_count": 18,
   "metadata": {},
   "outputs": [],
   "source": [
    "anticoncepts_bas = [~ba for ba in csp.io.transpose_context(sparse_extents)]\n",
    "anticoncepts_itemsets = [{i+1 for i in iset} for iset in csp.to_itemsets(anticoncepts_bas)[0]]"
   ]
  },
  {
   "cell_type": "code",
   "execution_count": 19,
   "metadata": {},
   "outputs": [],
   "source": [
    "with open('anticoncepts_circles.basenum', 'w') as file:\n",
    "    txt = '\\n'.join([\n",
    "        ' '.join(map(str, itemset)) if itemset else ''\n",
    "        for itemset in anticoncepts_itemsets\n",
    "    ])\n",
    "    file.write(txt)"
   ]
  },
  {
   "cell_type": "code",
   "execution_count": 20,
   "metadata": {},
   "outputs": [
    {
     "name": "stdout",
     "output_type": "stream",
     "text": [
      ">/Users/egordudyrev/Documents/1. Projects/StablePatternClustering project/Paper_StablePatternClustering/script/spmf.jar\n",
      "=============  APRIORI-RARE - STATS =============\n",
      " Candidates count : 590\n",
      " The algorithm stopped at size 6, because there is no candidate\n",
      " Minimal rare itemsets count : 274\n",
      " Maximum memory usage : 10.937416076660156 mb\n",
      " Total time ~ 26 ms\n",
      "===================================================\n",
      "\n",
      "CPU times: user 789 µs, sys: 5.26 ms, total: 6.05 ms\n",
      "Wall time: 151 ms\n"
     ]
    }
   ],
   "source": [
    "%%time\n",
    "from spmf import Spmf\n",
    "\n",
    "spmf = Spmf(\n",
    "    \"AprioriRare\", input_filename=\"anticoncepts_circles.basenum\",\n",
    "    output_filename=\"clusterings_circles.txt\", arguments=['80%'],\n",
    "    spmf_bin_location_dir='../script/'\n",
    ")\n",
    "spmf.run()\n",
    "\n",
    "#print(spmf.to_pandas_dataframe(pickle=True))\n",
    "#spmf.to_csv(\"clusterings_circles.csv\")"
   ]
  },
  {
   "cell_type": "code",
   "execution_count": 21,
   "metadata": {},
   "outputs": [
    {
     "name": "stdout",
     "output_type": "stream",
     "text": [
      "274 274\n"
     ]
    }
   ],
   "source": [
    "with open('clusterings_circles.txt', 'r') as file:\n",
    "    lines = list(map(str.strip, file.readlines()))\n",
    "    clusterings, supports = zip(*map(lambda x: str.split(x, '#SUP:'), lines))\n",
    "    #clusterings = [frozenset(map(int, line.strip().split(' '))) for line in clusterings]\n",
    "    clusterings = [frozenset([int(x)-1 for x in line.strip().split(' ')]) for line in clusterings]\n",
    "    supports = [int(line.strip()) for line in supports]\n",
    "print(len(clusterings), len(supports))"
   ]
  },
  {
   "cell_type": "code",
   "execution_count": 22,
   "metadata": {},
   "outputs": [
    {
     "name": "stdout",
     "output_type": "stream",
     "text": [
      "15\n"
     ]
    }
   ],
   "source": [
    "anticoncepts_extents = [~ext for ext in sparse_extents]\n",
    "print(len(anticoncepts_extents))"
   ]
  },
  {
   "cell_type": "code",
   "execution_count": 23,
   "metadata": {},
   "outputs": [],
   "source": [
    "clib = reload(clib)"
   ]
  },
  {
   "cell_type": "code",
   "execution_count": 24,
   "metadata": {},
   "outputs": [
    {
     "name": "stdout",
     "output_type": "stream",
     "text": [
      "CPU times: user 724 µs, sys: 13 µs, total: 737 µs\n",
      "Wall time: 743 µs\n"
     ]
    }
   ],
   "source": [
    "%%time\n",
    "rare_itemsets_mine = list(map(frozenset, clib.mine_rare_itemsets(anticoncepts_extents, 400, max_length=10)))"
   ]
  },
  {
   "cell_type": "code",
   "execution_count": 25,
   "metadata": {},
   "outputs": [
    {
     "name": "stdout",
     "output_type": "stream",
     "text": [
      "669 µs ± 3.95 µs per loop (mean ± std. dev. of 7 runs, 1,000 loops each)\n"
     ]
    }
   ],
   "source": [
    "%timeit list(map(frozenset, clib.mine_rare_itemsets(anticoncepts_extents, 400, max_length=10)))"
   ]
  },
  {
   "cell_type": "code",
   "execution_count": 26,
   "metadata": {},
   "outputs": [
    {
     "name": "stdout",
     "output_type": "stream",
     "text": [
      "# Database file name:              /Users/egordudyrev/Documents/1. Projects/StablePatternClustering project/Paper_StablePatternClustering/coron-0.8/../notebooks/anticoncepts_circles.basenum\r\n",
      "# Database file size:              18,775 bytes\r\n",
      "# Number of lines:                 500\r\n",
      "# Total number of attributes:      17\r\n",
      "# Number of non empty attributes:  16\r\n",
      "# Number of attributes in average: 14.92\r\n",
      "# Density:                         87.76%\r\n",
      "# min_supp:                        400, i.e. 80%\r\n",
      "# Chosen algorithm:                Carpathia-G-Rare [mRGs (=mRIs)]\r\n",
      "\r\n",
      "{2, 3, 4} (361) [key: +]\r\n",
      "{2, 3, 5} (354) [key: +]\r\n",
      "{2, 3, 6} (354) [key: +]\r\n",
      "{2, 3, 7} (355) [key: +]\r\n",
      "{2, 3, 8} (363) [key: +]\r\n",
      "{2, 3, 9} (356) [key: +]\r\n",
      "{2, 3, 10} (358) [key: +]\r\n",
      "{2, 3, 11} (376) [key: +]\r\n",
      "{2, 3, 12} (383) [key: +]\r\n",
      "{2, 3, 13} (384) [key: +]\r\n",
      "{2, 3, 14} (397) [key: +]\r\n",
      "{2, 3, 17} (399) [key: +]\r\n",
      "{2, 4, 5} (350) [key: +]\r\n",
      "{2, 4, 6} (350) [key: +]\r\n",
      "{2, 4, 7} (351) [key: +]\r\n",
      "{2, 4, 8} (359) [key: +]\r\n",
      "{2, 4, 9} (352) [key: +]\r\n",
      "{2, 4, 10} (354) [key: +]\r\n",
      "{2, 4, 11} (372) [key: +]\r\n",
      "{2, 4, 12} (379) [key: +]\r\n",
      "{2, 4, 13} (380) [key: +]\r\n",
      "{2, 4, 14} (393) [key: +]\r\n",
      "{2, 4, 15} (395) [key: +]\r\n",
      "{2, 4, 16} (395) [key: +]\r\n",
      "{2, 4, 17} (395) [key: +]\r\n",
      "{2, 5, 6} (355) [key: +]\r\n",
      "{2, 5, 7} (351) [key: +]\r\n",
      "{2, 5, 8} (359) [key: +]\r\n",
      "{2, 5, 9} (353) [key: +]\r\n",
      "{2, 5, 10} (354) [key: +]\r\n",
      "{2, 5, 11} (372) [key: +]\r\n",
      "{2, 5, 12} (379) [key: +]\r\n",
      "{2, 5, 13} (380) [key: +]\r\n",
      "{2, 5, 14} (393) [key: +]\r\n",
      "{2, 5, 15} (395) [key: +]\r\n",
      "{2, 5, 16} (395) [key: +]\r\n",
      "{2, 6, 7} (351) [key: +]\r\n",
      "{2, 6, 8} (359) [key: +]\r\n",
      "{2, 6, 9} (352) [key: +]\r\n",
      "{2, 6, 10} (354) [key: +]\r\n",
      "{2, 6, 11} (372) [key: +]\r\n",
      "{2, 6, 12} (379) [key: +]\r\n",
      "{2, 6, 13} (380) [key: +]\r\n",
      "{2, 6, 14} (393) [key: +]\r\n",
      "{2, 6, 15} (395) [key: +]\r\n",
      "{2, 6, 16} (395) [key: +]\r\n",
      "{2, 7, 8} (360) [key: +]\r\n",
      "{2, 7, 9} (353) [key: +]\r\n",
      "{2, 7, 10} (355) [key: +]\r\n",
      "{2, 7, 11} (373) [key: +]\r\n",
      "{2, 7, 12} (380) [key: +]\r\n",
      "{2, 7, 13} (381) [key: +]\r\n",
      "{2, 7, 14} (394) [key: +]\r\n",
      "{2, 7, 15} (396) [key: +]\r\n",
      "{2, 7, 16} (396) [key: +]\r\n",
      "{2, 7, 17} (396) [key: +]\r\n",
      "{2, 8, 9} (361) [key: +]\r\n",
      "{2, 8, 10} (363) [key: +]\r\n",
      "{2, 8, 11} (381) [key: +]\r\n",
      "{2, 8, 12} (388) [key: +]\r\n",
      "{2, 8, 13} (389) [key: +]\r\n",
      "{2, 9, 10} (359) [key: +]\r\n",
      "{2, 9, 11} (374) [key: +]\r\n",
      "{2, 9, 12} (381) [key: +]\r\n",
      "{2, 9, 13} (382) [key: +]\r\n",
      "{2, 9, 14} (395) [key: +]\r\n",
      "{2, 9, 15} (397) [key: +]\r\n",
      "{2, 9, 16} (397) [key: +]\r\n",
      "{2, 9, 17} (397) [key: +]\r\n",
      "{2, 10, 11} (376) [key: +]\r\n",
      "{2, 10, 12} (389) [key: +]\r\n",
      "{2, 10, 13} (384) [key: +]\r\n",
      "{2, 10, 14} (397) [key: +]\r\n",
      "{2, 10, 15} (399) [key: +]\r\n",
      "{2, 10, 16} (399) [key: +]\r\n",
      "{2, 10, 17} (399) [key: +]\r\n",
      "{3, 4, 5} (357) [key: +]\r\n",
      "{3, 4, 6} (357) [key: +]\r\n",
      "{3, 4, 7} (358) [key: +]\r\n",
      "{3, 4, 8} (358) [key: +]\r\n",
      "{3, 4, 9} (359) [key: +]\r\n",
      "{3, 4, 10} (361) [key: +]\r\n",
      "{3, 4, 11} (372) [key: +]\r\n",
      "{3, 4, 12} (386) [key: +]\r\n",
      "{3, 4, 13} (387) [key: +]\r\n",
      "{3, 5, 6} (355) [key: +]\r\n",
      "{3, 5, 7} (351) [key: +]\r\n",
      "{3, 5, 8} (351) [key: +]\r\n",
      "{3, 5, 9} (353) [key: +]\r\n",
      "{3, 5, 10} (354) [key: +]\r\n",
      "{3, 5, 11} (365) [key: +]\r\n",
      "{3, 5, 12} (379) [key: +]\r\n",
      "{3, 5, 13} (380) [key: +]\r\n",
      "{3, 5, 14} (393) [key: +]\r\n",
      "{3, 6, 7} (351) [key: +]\r\n",
      "{3, 6, 8} (351) [key: +]\r\n",
      "{3, 6, 9} (352) [key: +]\r\n",
      "{3, 6, 10} (354) [key: +]\r\n",
      "{3, 6, 11} (365) [key: +]\r\n",
      "{3, 6, 12} (379) [key: +]\r\n",
      "{3, 6, 13} (380) [key: +]\r\n",
      "{3, 6, 14} (393) [key: +]\r\n",
      "{3, 7, 8} (352) [key: +]\r\n",
      "{3, 7, 9} (353) [key: +]\r\n",
      "{3, 7, 10} (355) [key: +]\r\n",
      "{3, 7, 11} (366) [key: +]\r\n",
      "{3, 7, 12} (380) [key: +]\r\n",
      "{3, 7, 13} (381) [key: +]\r\n",
      "{3, 7, 14} (394) [key: +]\r\n",
      "{3, 7, 17} (396) [key: +]\r\n",
      "{3, 8, 9} (353) [key: +]\r\n",
      "{3, 8, 10} (355) [key: +]\r\n",
      "{3, 8, 11} (366) [key: +]\r\n",
      "{3, 8, 12} (380) [key: +]\r\n",
      "{3, 8, 13} (381) [key: +]\r\n",
      "{3, 8, 14} (394) [key: +]\r\n",
      "{3, 8, 17} (396) [key: +]\r\n",
      "{3, 9, 10} (359) [key: +]\r\n",
      "{3, 9, 11} (367) [key: +]\r\n",
      "{3, 9, 12} (381) [key: +]\r\n",
      "{3, 9, 13} (382) [key: +]\r\n",
      "{3, 9, 14} (395) [key: +]\r\n",
      "{3, 9, 17} (397) [key: +]\r\n",
      "{3, 10, 11} (369) [key: +]\r\n",
      "{3, 10, 12} (389) [key: +]\r\n",
      "{3, 10, 13} (384) [key: +]\r\n",
      "{3, 10, 14} (397) [key: +]\r\n",
      "{3, 10, 17} (399) [key: +]\r\n",
      "{3, 11, 12} (394) [key: +]\r\n",
      "{3, 11, 13} (395) [key: +]\r\n",
      "{4, 5, 6} (355) [key: +]\r\n",
      "{4, 5, 7} (351) [key: +]\r\n",
      "{4, 5, 8} (351) [key: +]\r\n",
      "{4, 5, 9} (353) [key: +]\r\n",
      "{4, 5, 10} (354) [key: +]\r\n",
      "{4, 5, 11} (365) [key: +]\r\n",
      "{4, 5, 12} (379) [key: +]\r\n",
      "{4, 5, 13} (380) [key: +]\r\n",
      "{4, 5, 14} (393) [key: +]\r\n",
      "{4, 5, 15} (395) [key: +]\r\n",
      "{4, 5, 16} (395) [key: +]\r\n",
      "{4, 6, 7} (351) [key: +]\r\n",
      "{4, 6, 8} (351) [key: +]\r\n",
      "{4, 6, 9} (352) [key: +]\r\n",
      "{4, 6, 10} (354) [key: +]\r\n",
      "{4, 6, 11} (365) [key: +]\r\n",
      "{4, 6, 12} (379) [key: +]\r\n",
      "{4, 6, 13} (380) [key: +]\r\n",
      "{4, 6, 14} (393) [key: +]\r\n",
      "{4, 6, 15} (395) [key: +]\r\n",
      "{4, 6, 16} (395) [key: +]\r\n",
      "{4, 7, 8} (352) [key: +]\r\n",
      "{4, 7, 9} (353) [key: +]\r\n",
      "{4, 7, 10} (355) [key: +]\r\n",
      "{4, 7, 11} (366) [key: +]\r\n",
      "{4, 7, 12} (380) [key: +]\r\n",
      "{4, 7, 13} (381) [key: +]\r\n",
      "{4, 7, 14} (394) [key: +]\r\n",
      "{4, 7, 15} (396) [key: +]\r\n",
      "{4, 7, 16} (396) [key: +]\r\n",
      "{4, 7, 17} (396) [key: +]\r\n",
      "{4, 8, 9} (353) [key: +]\r\n",
      "{4, 8, 10} (355) [key: +]\r\n",
      "{4, 8, 11} (366) [key: +]\r\n",
      "{4, 8, 12} (380) [key: +]\r\n",
      "{4, 8, 13} (381) [key: +]\r\n",
      "{4, 8, 14} (394) [key: +]\r\n",
      "{4, 8, 15} (396) [key: +]\r\n",
      "{4, 8, 16} (396) [key: +]\r\n",
      "{4, 8, 17} (396) [key: +]\r\n",
      "{4, 9, 10} (359) [key: +]\r\n",
      "{4, 9, 11} (367) [key: +]\r\n",
      "{4, 9, 12} (381) [key: +]\r\n",
      "{4, 9, 13} (382) [key: +]\r\n",
      "{4, 9, 14} (395) [key: +]\r\n",
      "{4, 9, 15} (397) [key: +]\r\n",
      "{4, 9, 16} (397) [key: +]\r\n",
      "{4, 9, 17} (397) [key: +]\r\n",
      "{4, 10, 11} (369) [key: +]\r\n",
      "{4, 10, 12} (389) [key: +]\r\n",
      "{4, 10, 13} (384) [key: +]\r\n",
      "{4, 10, 14} (397) [key: +]\r\n",
      "{4, 10, 15} (399) [key: +]\r\n",
      "{4, 10, 16} (399) [key: +]\r\n",
      "{4, 10, 17} (399) [key: +]\r\n",
      "{4, 11, 12} (394) [key: +]\r\n",
      "{4, 11, 13} (395) [key: +]\r\n",
      "{5, 6, 7} (356) [key: +]\r\n",
      "{5, 6, 8} (356) [key: +]\r\n",
      "{5, 6, 9} (358) [key: +]\r\n",
      "{5, 6, 10} (359) [key: +]\r\n",
      "{5, 6, 11} (370) [key: +]\r\n",
      "{5, 6, 12} (384) [key: +]\r\n",
      "{5, 6, 13} (385) [key: +]\r\n",
      "{5, 6, 14} (398) [key: +]\r\n",
      "{5, 7, 8} (352) [key: +]\r\n",
      "{5, 7, 9} (354) [key: +]\r\n",
      "{5, 7, 10} (355) [key: +]\r\n",
      "{5, 7, 11} (366) [key: +]\r\n",
      "{5, 7, 12} (380) [key: +]\r\n",
      "{5, 7, 13} (381) [key: +]\r\n",
      "{5, 7, 14} (394) [key: +]\r\n",
      "{5, 7, 15} (396) [key: +]\r\n",
      "{5, 7, 16} (396) [key: +]\r\n",
      "{5, 8, 9} (354) [key: +]\r\n",
      "{5, 8, 10} (355) [key: +]\r\n",
      "{5, 8, 11} (366) [key: +]\r\n",
      "{5, 8, 12} (380) [key: +]\r\n",
      "{5, 8, 13} (381) [key: +]\r\n",
      "{5, 8, 14} (394) [key: +]\r\n",
      "{5, 8, 15} (396) [key: +]\r\n",
      "{5, 8, 16} (396) [key: +]\r\n",
      "{5, 9, 10} (360) [key: +]\r\n",
      "{5, 9, 11} (368) [key: +]\r\n",
      "{5, 9, 12} (382) [key: +]\r\n",
      "{5, 9, 13} (383) [key: +]\r\n",
      "{5, 9, 14} (396) [key: +]\r\n",
      "{5, 9, 15} (398) [key: +]\r\n",
      "{5, 9, 16} (398) [key: +]\r\n",
      "{5, 10, 11} (369) [key: +]\r\n",
      "{5, 10, 12} (389) [key: +]\r\n",
      "{5, 10, 13} (384) [key: +]\r\n",
      "{5, 10, 14} (397) [key: +]\r\n",
      "{5, 10, 15} (399) [key: +]\r\n",
      "{5, 10, 16} (399) [key: +]\r\n",
      "{5, 11, 12} (394) [key: +]\r\n",
      "{5, 11, 13} (395) [key: +]\r\n",
      "{6, 7, 8} (352) [key: +]\r\n",
      "{6, 7, 9} (353) [key: +]\r\n",
      "{6, 7, 10} (355) [key: +]\r\n",
      "{6, 7, 11} (366) [key: +]\r\n",
      "{6, 7, 12} (380) [key: +]\r\n",
      "{6, 7, 13} (381) [key: +]\r\n",
      "{6, 7, 14} (394) [key: +]\r\n",
      "{6, 7, 15} (396) [key: +]\r\n",
      "{6, 7, 16} (396) [key: +]\r\n",
      "{6, 8, 9} (353) [key: +]\r\n",
      "{6, 8, 10} (355) [key: +]\r\n",
      "{6, 8, 11} (366) [key: +]\r\n",
      "{6, 8, 12} (380) [key: +]\r\n",
      "{6, 8, 13} (381) [key: +]\r\n",
      "{6, 8, 14} (394) [key: +]\r",
      "\r\n",
      "{6, 8, 15} (396) [key: +]\r\n",
      "{6, 8, 16} (396) [key: +]\r\n",
      "{6, 9, 10} (359) [key: +]\r\n",
      "{6, 9, 11} (367) [key: +]\r\n",
      "{6, 9, 12} (381) [key: +]\r\n",
      "{6, 9, 13} (382) [key: +]\r\n",
      "{6, 9, 14} (395) [key: +]\r\n",
      "{6, 9, 15} (397) [key: +]\r\n",
      "{6, 9, 16} (397) [key: +]\r\n",
      "{6, 10, 11} (369) [key: +]\r\n",
      "{6, 10, 12} (389) [key: +]\r\n",
      "{6, 10, 13} (384) [key: +]\r\n",
      "{6, 10, 14} (397) [key: +]\r\n",
      "{6, 10, 15} (399) [key: +]\r\n",
      "{6, 10, 16} (399) [key: +]\r\n",
      "{6, 11, 12} (394) [key: +]\r\n",
      "{6, 11, 13} (395) [key: +]\r\n",
      "{7, 8, 9} (354) [key: +]\r\n",
      "{7, 8, 10} (356) [key: +]\r\n",
      "{7, 8, 11} (367) [key: +]\r\n",
      "{7, 8, 12} (381) [key: +]\r\n",
      "{7, 8, 13} (382) [key: +]\r\n",
      "{7, 8, 14} (395) [key: +]\r\n",
      "{7, 8, 15} (397) [key: +]\r\n",
      "{7, 8, 16} (397) [key: +]\r\n",
      "{7, 8, 17} (397) [key: +]\r\n",
      "{7, 9, 10} (360) [key: +]\r\n",
      "{7, 9, 11} (368) [key: +]\r\n",
      "{7, 9, 12} (382) [key: +]\r\n",
      "{7, 9, 13} (383) [key: +]\r\n",
      "{7, 9, 14} (396) [key: +]\r\n",
      "{7, 9, 15} (398) [key: +]\r\n",
      "{7, 9, 16} (398) [key: +]\r\n",
      "{7, 9, 17} (398) [key: +]\r\n",
      "{7, 10, 11} (370) [key: +]\r\n",
      "{7, 10, 12} (390) [key: +]\r\n",
      "{7, 10, 13} (385) [key: +]\r\n",
      "{7, 10, 14} (398) [key: +]\r\n",
      "{7, 11, 12} (395) [key: +]\r\n",
      "{7, 11, 13} (396) [key: +]\r\n",
      "{8, 9, 10} (360) [key: +]\r\n",
      "{8, 9, 11} (368) [key: +]\r\n",
      "{8, 9, 12} (382) [key: +]\r\n",
      "{8, 9, 13} (383) [key: +]\r\n",
      "{8, 9, 14} (396) [key: +]\r\n",
      "{8, 9, 15} (398) [key: +]\r\n",
      "{8, 9, 16} (398) [key: +]\r\n",
      "{8, 9, 17} (398) [key: +]\r\n",
      "{8, 10, 11} (370) [key: +]\r\n",
      "{8, 10, 12} (390) [key: +]\r\n",
      "{8, 10, 13} (385) [key: +]\r\n",
      "{8, 10, 14} (398) [key: +]\r\n",
      "{8, 11, 12} (395) [key: +]\r\n",
      "{8, 11, 13} (396) [key: +]\r\n",
      "{9, 10, 11} (374) [key: +]\r\n",
      "{9, 10, 12} (394) [key: +]\r\n",
      "{9, 10, 13} (389) [key: +]\r\n",
      "{9, 11, 12} (396) [key: +]\r\n",
      "{9, 11, 13} (397) [key: +]\r\n",
      "{10, 11, 13} (399) [key: +]\r\n",
      "\r\n",
      "{2, 8, 14, 15} (397) [key: +]\r\n",
      "{2, 8, 14, 16} (397) [key: +]\r\n",
      "{2, 8, 14, 17} (397) [key: +]\r\n",
      "{2, 8, 15, 16} (399) [key: +]\r\n",
      "{2, 8, 15, 17} (399) [key: +]\r\n",
      "{2, 8, 16, 17} (399) [key: +]\r\n",
      "{2, 11, 12, 13} (381) [key: +]\r\n",
      "{2, 11, 12, 14} (394) [key: +]\r\n",
      "{2, 11, 12, 15} (396) [key: +]\r\n",
      "{2, 11, 12, 16} (396) [key: +]\r\n",
      "{2, 11, 12, 17} (396) [key: +]\r\n",
      "{2, 11, 13, 14} (395) [key: +]\r\n",
      "{2, 11, 13, 15} (397) [key: +]\r\n",
      "{2, 11, 13, 16} (397) [key: +]\r\n",
      "{2, 11, 13, 17} (397) [key: +]\r\n",
      "{3, 4, 14, 17} (395) [key: +]\r\n",
      "{5, 6, 15, 16} (395) [key: +]\r\n",
      "{7, 10, 15, 16} (395) [key: +]\r\n",
      "{7, 10, 15, 17} (395) [key: +]\r\n",
      "{7, 10, 16, 17} (395) [key: +]\r\n",
      "{8, 10, 15, 16} (395) [key: +]\r\n",
      "{8, 10, 15, 17} (395) [key: +]\r\n",
      "{8, 10, 16, 17} (395) [key: +]\r\n",
      "{9, 10, 14, 15} (397) [key: +]\r\n",
      "{9, 10, 14, 16} (397) [key: +]\r\n",
      "{9, 10, 14, 17} (397) [key: +]\r\n",
      "{9, 10, 15, 16} (399) [key: +]\r\n",
      "{9, 10, 15, 17} (399) [key: +]\r\n",
      "{9, 10, 16, 17} (399) [key: +]\r\n",
      "{10, 11, 12, 14} (397) [key: +]\r\n",
      "{10, 11, 12, 15} (399) [key: +]\r\n",
      "{10, 11, 12, 16} (399) [key: +]\r\n",
      "{10, 11, 12, 17} (399) [key: +]\r\n",
      "\r\n",
      "{2, 12, 13, 14, 15} (397) [key: +]\r\n",
      "{2, 12, 13, 14, 16} (397) [key: +]\r\n",
      "{2, 12, 13, 14, 17} (397) [key: +]\r\n",
      "{2, 12, 13, 15, 16} (399) [key: +]\r\n",
      "{2, 12, 13, 15, 17} (399) [key: +]\r\n",
      "{2, 12, 13, 16, 17} (399) [key: +]\r\n",
      "{3, 12, 13, 14, 17} (397) [key: +]\r\n",
      "{4, 11, 14, 15, 16} (398) [key: +]\r\n",
      "{4, 11, 14, 15, 17} (398) [key: +]\r\n",
      "{4, 11, 14, 16, 17} (398) [key: +]\r\n",
      "{4, 12, 13, 14, 15} (397) [key: +]\r\n",
      "{4, 12, 13, 14, 16} (397) [key: +]\r\n",
      "{4, 12, 13, 14, 17} (397) [key: +]\r\n",
      "{4, 12, 13, 15, 16} (399) [key: +]\r\n",
      "{4, 12, 13, 15, 17} (399) [key: +]\r\n",
      "{4, 12, 13, 16, 17} (399) [key: +]\r\n",
      "{5, 11, 14, 15, 16} (398) [key: +]\r\n",
      "{5, 12, 13, 14, 15} (397) [key: +]\r\n",
      "{5, 12, 13, 14, 16} (397) [key: +]\r\n",
      "{5, 12, 13, 15, 16} (399) [key: +]\r\n",
      "{6, 11, 14, 15, 16} (398) [key: +]\r\n",
      "{6, 12, 13, 14, 15} (397) [key: +]\r\n",
      "{6, 12, 13, 14, 16} (397) [key: +]\r\n",
      "{6, 12, 13, 15, 16} (399) [key: +]\r\n",
      "{7, 11, 14, 15, 16} (399) [key: +]\r\n",
      "{7, 11, 14, 15, 17} (399) [key: +]\r\n",
      "{7, 11, 14, 16, 17} (399) [key: +]\r\n",
      "{7, 12, 13, 14, 15} (398) [key: +]\r\n",
      "{7, 12, 13, 14, 16} (398) [key: +]\r\n",
      "{7, 12, 13, 14, 17} (398) [key: +]\r\n",
      "{8, 11, 14, 15, 16} (399) [key: +]\r\n",
      "{8, 11, 14, 15, 17} (399) [key: +]\r\n",
      "{8, 11, 14, 16, 17} (399) [key: +]\r\n",
      "{8, 12, 13, 14, 15} (398) [key: +]\r\n",
      "{8, 12, 13, 14, 16} (398) [key: +]\r\n",
      "{8, 12, 13, 14, 17} (398) [key: +]\r\n",
      "{9, 12, 13, 14, 15} (399) [key: +]\r\n",
      "{9, 12, 13, 14, 16} (399) [key: +]\r\n",
      "{9, 12, 13, 14, 17} (399) [key: +]\r\n",
      "\r\n",
      "{7, 12, 13, 15, 16, 17} (395) [key: +]\r\n",
      "{8, 12, 13, 15, 16, 17} (395) [key: +]\r\n",
      "{9, 11, 14, 15, 16, 17} (395) [key: +]\r\n",
      "{9, 12, 13, 15, 16, 17} (396) [key: +]\r\n",
      "{10, 11, 14, 15, 16, 17} (397) [key: +]\r\n",
      "\r\n",
      "{10, 12, 13, 14, 15, 16, 17} (397) [key: +]\r\n",
      "\r\n",
      "# Minimal rare generators (zero generators TOO): 380\r\n",
      "# Frequent generators: 692\r\n",
      "# There is NO full column in the input dataset.\r\n"
     ]
    }
   ],
   "source": [
    "!cat coronout.txt"
   ]
  },
  {
   "cell_type": "code",
   "execution_count": 27,
   "metadata": {},
   "outputs": [
    {
     "data": {
      "text/plain": [
       "[0]"
      ]
     },
     "execution_count": 27,
     "metadata": {},
     "output_type": "execute_result"
    }
   ],
   "source": [
    "idxs = sorted(set(rare_itemsets_mine)-set(clusterings))[0]\n",
    "[reduce(frozenbitarray.__and__, map(anticoncepts_extents.__getitem__, idxs)).count()\n",
    " for idxs in set(rare_itemsets_mine)-set(clusterings)]"
   ]
  },
  {
   "cell_type": "code",
   "execution_count": 28,
   "metadata": {},
   "outputs": [
    {
     "data": {
      "text/plain": [
       "0.9963636363636363"
      ]
     },
     "execution_count": 28,
     "metadata": {},
     "output_type": "execute_result"
    }
   ],
   "source": [
    "len(set(rare_itemsets_mine)&set(clusterings))/len(set(rare_itemsets_mine)|set(clusterings))"
   ]
  },
  {
   "cell_type": "code",
   "execution_count": 29,
   "metadata": {},
   "outputs": [
    {
     "data": {
      "text/plain": [
       "{frozenset({0})}"
      ]
     },
     "execution_count": 29,
     "metadata": {},
     "output_type": "execute_result"
    }
   ],
   "source": [
    "set(rare_itemsets_mine)-set(clusterings)"
   ]
  },
  {
   "cell_type": "code",
   "execution_count": null,
   "metadata": {},
   "outputs": [],
   "source": []
  },
  {
   "cell_type": "code",
   "execution_count": 30,
   "metadata": {},
   "outputs": [],
   "source": [
    "clusters_extents = [\n",
    "    reduce(frozenbitarray.__or__, map(sparse_extents.__getitem__, idxs))\n",
    "    for idxs in clusterings\n",
    "]\n",
    "assert ((np.array([x.count() for x in clusters_extents])+np.array(supports))==len(data)).all()"
   ]
  },
  {
   "cell_type": "code",
   "execution_count": 31,
   "metadata": {},
   "outputs": [],
   "source": [
    "import pandas as pd"
   ]
  },
  {
   "cell_type": "code",
   "execution_count": 32,
   "metadata": {},
   "outputs": [
    {
     "name": "stdout",
     "output_type": "stream",
     "text": [
      "CPU times: user 15.4 ms, sys: 403 µs, total: 15.8 ms\n",
      "Wall time: 15.6 ms\n"
     ]
    },
    {
     "data": {
      "text/plain": [
       "15"
      ]
     },
     "execution_count": 32,
     "metadata": {},
     "output_type": "execute_result"
    }
   ],
   "source": [
    "%%time\n",
    "concepts_dict = clib.mine_clusters_info(sparse_extents, attr_extents, ps, data, min_support=0, max_support=2)\n",
    "len(concepts_dict['extent'])"
   ]
  },
  {
   "cell_type": "code",
   "execution_count": 33,
   "metadata": {},
   "outputs": [],
   "source": [
    "weight_params = dict(\n",
    "    overlap_weight=0.2,\n",
    "    n_concepts_weight=0.1,\n",
    "    imbalance_weight=0.1,\n",
    "    stability_weight=0.2,\n",
    "    complexity_weight=0.1,\n",
    "    n_concepts_max=10,\n",
    ")\n",
    "clusterings_dict = {\n",
    "    idxs: clib.clustering_reward2(idxs, concepts_info=concepts_dict, **weight_params)[1]\n",
    "    for idxs in clusterings\n",
    "}\n",
    "clusterings_df = pd.DataFrame(clusterings_dict).T"
   ]
  },
  {
   "cell_type": "code",
   "execution_count": 34,
   "metadata": {},
   "outputs": [],
   "source": [
    "signs = np.array([1 if f in {'coverage', 'stability'} else -1 for f in clusterings_df])\n",
    "weights = np.array([1 if f == 'coverage' else weight_params[f\"{f}_weight\"] for f in clusterings_df])"
   ]
  },
  {
   "cell_type": "code",
   "execution_count": 35,
   "metadata": {},
   "outputs": [],
   "source": [
    "clusterings_df['reward'] = (clusterings_df*weights*signs).sum(1)"
   ]
  },
  {
   "cell_type": "code",
   "execution_count": 36,
   "metadata": {},
   "outputs": [],
   "source": [
    "clusterings_df = clusterings_df.sort_values('reward', ascending=False)"
   ]
  },
  {
   "cell_type": "code",
   "execution_count": 37,
   "metadata": {},
   "outputs": [
    {
     "data": {
      "text/html": [
       "<div>\n",
       "<style scoped>\n",
       "    .dataframe tbody tr th:only-of-type {\n",
       "        vertical-align: middle;\n",
       "    }\n",
       "\n",
       "    .dataframe tbody tr th {\n",
       "        vertical-align: top;\n",
       "    }\n",
       "\n",
       "    .dataframe thead th {\n",
       "        text-align: right;\n",
       "    }\n",
       "</style>\n",
       "<table border=\"1\" class=\"dataframe\">\n",
       "  <thead>\n",
       "    <tr style=\"text-align: right;\">\n",
       "      <th></th>\n",
       "      <th>coverage</th>\n",
       "      <th>overlap</th>\n",
       "      <th>n_concepts</th>\n",
       "      <th>imbalance</th>\n",
       "      <th>stability</th>\n",
       "      <th>complexity</th>\n",
       "      <th>reward</th>\n",
       "    </tr>\n",
       "  </thead>\n",
       "  <tbody>\n",
       "    <tr>\n",
       "      <th>(8, 2, 3)</th>\n",
       "      <td>0.296</td>\n",
       "      <td>0.000</td>\n",
       "      <td>0.3</td>\n",
       "      <td>0.002309</td>\n",
       "      <td>0.560000</td>\n",
       "      <td>1.0</td>\n",
       "      <td>0.277769</td>\n",
       "    </tr>\n",
       "    <tr>\n",
       "      <th>(2, 3, 6)</th>\n",
       "      <td>0.298</td>\n",
       "      <td>0.000</td>\n",
       "      <td>0.3</td>\n",
       "      <td>0.001155</td>\n",
       "      <td>0.546667</td>\n",
       "      <td>1.0</td>\n",
       "      <td>0.277218</td>\n",
       "    </tr>\n",
       "    <tr>\n",
       "      <th>(8, 2, 6)</th>\n",
       "      <td>0.294</td>\n",
       "      <td>0.000</td>\n",
       "      <td>0.3</td>\n",
       "      <td>0.002000</td>\n",
       "      <td>0.560000</td>\n",
       "      <td>1.0</td>\n",
       "      <td>0.275800</td>\n",
       "    </tr>\n",
       "    <tr>\n",
       "      <th>(8, 2, 5)</th>\n",
       "      <td>0.294</td>\n",
       "      <td>0.000</td>\n",
       "      <td>0.3</td>\n",
       "      <td>0.002000</td>\n",
       "      <td>0.546667</td>\n",
       "      <td>1.0</td>\n",
       "      <td>0.273133</td>\n",
       "    </tr>\n",
       "    <tr>\n",
       "      <th>(2, 5, 6)</th>\n",
       "      <td>0.296</td>\n",
       "      <td>0.000</td>\n",
       "      <td>0.3</td>\n",
       "      <td>0.001155</td>\n",
       "      <td>0.533333</td>\n",
       "      <td>1.0</td>\n",
       "      <td>0.272551</td>\n",
       "    </tr>\n",
       "    <tr>\n",
       "      <th>...</th>\n",
       "      <td>...</td>\n",
       "      <td>...</td>\n",
       "      <td>...</td>\n",
       "      <td>...</td>\n",
       "      <td>...</td>\n",
       "      <td>...</td>\n",
       "      <td>...</td>\n",
       "    </tr>\n",
       "    <tr>\n",
       "      <th>(9, 10, 12, 13, 14)</th>\n",
       "      <td>0.208</td>\n",
       "      <td>0.000</td>\n",
       "      <td>0.5</td>\n",
       "      <td>0.033508</td>\n",
       "      <td>0.320000</td>\n",
       "      <td>1.0</td>\n",
       "      <td>0.118649</td>\n",
       "    </tr>\n",
       "    <tr>\n",
       "      <th>(8, 10, 11, 13, 14)</th>\n",
       "      <td>0.210</td>\n",
       "      <td>0.006</td>\n",
       "      <td>0.5</td>\n",
       "      <td>0.036348</td>\n",
       "      <td>0.304000</td>\n",
       "      <td>1.0</td>\n",
       "      <td>0.115965</td>\n",
       "    </tr>\n",
       "    <tr>\n",
       "      <th>(9, 10, 11, 13, 14)</th>\n",
       "      <td>0.208</td>\n",
       "      <td>0.000</td>\n",
       "      <td>0.5</td>\n",
       "      <td>0.033508</td>\n",
       "      <td>0.304000</td>\n",
       "      <td>1.0</td>\n",
       "      <td>0.115449</td>\n",
       "    </tr>\n",
       "    <tr>\n",
       "      <th>(6, 10, 12, 13, 14)</th>\n",
       "      <td>0.206</td>\n",
       "      <td>0.012</td>\n",
       "      <td>0.5</td>\n",
       "      <td>0.037078</td>\n",
       "      <td>0.312000</td>\n",
       "      <td>1.0</td>\n",
       "      <td>0.112292</td>\n",
       "    </tr>\n",
       "    <tr>\n",
       "      <th>(6, 10, 11, 13, 14)</th>\n",
       "      <td>0.206</td>\n",
       "      <td>0.012</td>\n",
       "      <td>0.5</td>\n",
       "      <td>0.037078</td>\n",
       "      <td>0.296000</td>\n",
       "      <td>1.0</td>\n",
       "      <td>0.109092</td>\n",
       "    </tr>\n",
       "  </tbody>\n",
       "</table>\n",
       "<p>274 rows × 7 columns</p>\n",
       "</div>"
      ],
      "text/plain": [
       "                     coverage  overlap  n_concepts  imbalance  stability  \\\n",
       "(8, 2, 3)               0.296    0.000         0.3   0.002309   0.560000   \n",
       "(2, 3, 6)               0.298    0.000         0.3   0.001155   0.546667   \n",
       "(8, 2, 6)               0.294    0.000         0.3   0.002000   0.560000   \n",
       "(8, 2, 5)               0.294    0.000         0.3   0.002000   0.546667   \n",
       "(2, 5, 6)               0.296    0.000         0.3   0.001155   0.533333   \n",
       "...                       ...      ...         ...        ...        ...   \n",
       "(9, 10, 12, 13, 14)     0.208    0.000         0.5   0.033508   0.320000   \n",
       "(8, 10, 11, 13, 14)     0.210    0.006         0.5   0.036348   0.304000   \n",
       "(9, 10, 11, 13, 14)     0.208    0.000         0.5   0.033508   0.304000   \n",
       "(6, 10, 12, 13, 14)     0.206    0.012         0.5   0.037078   0.312000   \n",
       "(6, 10, 11, 13, 14)     0.206    0.012         0.5   0.037078   0.296000   \n",
       "\n",
       "                     complexity    reward  \n",
       "(8, 2, 3)                   1.0  0.277769  \n",
       "(2, 3, 6)                   1.0  0.277218  \n",
       "(8, 2, 6)                   1.0  0.275800  \n",
       "(8, 2, 5)                   1.0  0.273133  \n",
       "(2, 5, 6)                   1.0  0.272551  \n",
       "...                         ...       ...  \n",
       "(9, 10, 12, 13, 14)         1.0  0.118649  \n",
       "(8, 10, 11, 13, 14)         1.0  0.115965  \n",
       "(9, 10, 11, 13, 14)         1.0  0.115449  \n",
       "(6, 10, 12, 13, 14)         1.0  0.112292  \n",
       "(6, 10, 11, 13, 14)         1.0  0.109092  \n",
       "\n",
       "[274 rows x 7 columns]"
      ]
     },
     "execution_count": 37,
     "metadata": {},
     "output_type": "execute_result"
    }
   ],
   "source": [
    "clusterings_df"
   ]
  },
  {
   "cell_type": "code",
   "execution_count": 38,
   "metadata": {},
   "outputs": [],
   "source": [
    "#best_clustering = clusterings_df.index[0]\n",
    "best_clustering = clusterings_df.sort_values('overlap').index[0]\n",
    "best_clustering = clusterings_df.sort_values('n_concepts').index[0]\n",
    "concepts_df = pd.DataFrame(concepts_dict)"
   ]
  },
  {
   "cell_type": "code",
   "execution_count": 39,
   "metadata": {},
   "outputs": [
    {
     "data": {
      "image/png": "[encoded data removed]",
      "text/plain": [
       "<Figure size 500x500 with 1 Axes>"
      ]
     },
     "metadata": {},
     "output_type": "display_data"
    }
   ],
   "source": [
    "fig, ax = plt.subplots(figsize=(5, 5))\n",
    "\n",
    "vlib.init_axis(ax, f\"New clustering algo\", linscale_x, linscale_y, range(len(linscale_x)), range(len(linscale_y)), grid_params=dict(zorder=0, linestyle='--'))\n",
    "\n",
    "ax.scatter(X[:,0], X[:,1], zorder=2, s=10)\n",
    "vlib.draw_clustering(ax, best_clustering, concepts_df)\n",
    "\n",
    "reward, reward_details = clib.clustering_reward2(best_clustering, concepts_df, **weight_params)\n",
    "for i, (k, v) in enumerate([('Reward', reward)]+ list(reward_details.items())):\n",
    "    ax.text(-1, linscale_y[0]-(i+2)*(linscale_y[1]-linscale_y[0]), f\"{k}: {v:.4f}\")\n",
    "\n",
    "\n",
    "# ax.legend(loc='lower right')\n",
    "#fig.savefig('../figures/pipe_step4_circlesdata.pdf')\n",
    "plt.show()"
   ]
  },
  {
   "cell_type": "code",
   "execution_count": 40,
   "metadata": {},
   "outputs": [
    {
     "data": {
      "image/png": "[encoded data removed]",
      "text/plain": [
       "<Figure size 500x500 with 1 Axes>"
      ]
     },
     "metadata": {},
     "output_type": "display_data"
    }
   ],
   "source": [
    "fig, ax = plt.subplots(figsize=(5, 5))\n",
    "\n",
    "vlib.init_axis(ax, f\"New clustering algo\", linscale_x, linscale_y, range(len(linscale_x)), range(len(linscale_y)), grid_params=dict(zorder=0, linestyle='--'))\n",
    "\n",
    "ax.scatter(X[:,0], X[:,1], zorder=2, s=10)\n",
    "vlib.draw_clustering(ax, [1,3,6,7,13], concepts_df)\n",
    "\n",
    "\n",
    "# ax.legend(loc='lower right')\n",
    "#fig.savefig('../figures/pipe_step4_circlesdata.pdf')\n",
    "plt.show()"
   ]
  }
 ],
 "metadata": {
  "kernelspec": {
   "display_name": "Python 3 (ipykernel)",
   "language": "python",
   "name": "python3"
  },
  "language_info": {
   "codemirror_mode": {
    "name": "ipython",
    "version": 3
   },
   "file_extension": ".py",
   "mimetype": "text/x-python",
   "name": "python",
   "nbconvert_exporter": "python",
   "pygments_lexer": "ipython3",
   "version": "3.11.3"
  }
 },
 "nbformat": 4,
 "nbformat_minor": 1
}
