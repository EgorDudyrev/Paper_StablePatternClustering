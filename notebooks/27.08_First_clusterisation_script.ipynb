{
 "cells": [
  {
   "cell_type": "code",
   "execution_count": 1,
   "metadata": {
    "collapsed": true,
    "ExecuteTime": {
     "end_time": "2024-08-27T11:47:14.971719Z",
     "start_time": "2024-08-27T11:47:10.293247Z"
    }
   },
   "outputs": [],
   "source": [
    "import caspailleur as csp\n",
    "from paspailleur import pattern_structures as PS"
   ]
  },
  {
   "cell_type": "code",
   "execution_count": 14,
   "outputs": [],
   "source": [
    "import matplotlib.pyplot as plt\n",
    "import numpy as np\n",
    "from tqdm.notebook import tqdm"
   ],
   "metadata": {
    "collapsed": false,
    "ExecuteTime": {
     "end_time": "2024-08-27T11:49:20.767184Z",
     "start_time": "2024-08-27T11:49:20.760979Z"
    }
   }
  },
  {
   "cell_type": "code",
   "execution_count": 3,
   "outputs": [],
   "source": [
    "from sklearn import cluster, datasets, mixture\n",
    "from sklearn.neighbors import kneighbors_graph\n",
    "from sklearn.preprocessing import StandardScaler"
   ],
   "metadata": {
    "collapsed": false,
    "ExecuteTime": {
     "end_time": "2024-08-27T11:47:32.757891Z",
     "start_time": "2024-08-27T11:47:32.376108Z"
    }
   }
  },
  {
   "cell_type": "code",
   "execution_count": 4,
   "outputs": [],
   "source": [
    "# ============\n",
    "# Generate datasets. We choose the size big enough to see the scalability\n",
    "# of the algorithms, but not too big to avoid too long running times\n",
    "# ============\n",
    "n_samples = 500\n",
    "seed = 30\n",
    "noisy_circles = datasets.make_circles(\n",
    "    n_samples=n_samples, factor=0.5, noise=0.05, random_state=seed\n",
    ")"
   ],
   "metadata": {
    "collapsed": false,
    "ExecuteTime": {
     "end_time": "2024-08-27T11:47:40.883018Z",
     "start_time": "2024-08-27T11:47:40.878041Z"
    }
   }
  },
  {
   "cell_type": "code",
   "execution_count": 5,
   "outputs": [
    {
     "data": {
      "text/plain": "(array([-1.069165, -1.154058]), array([1.06957 , 1.103701]))"
     },
     "execution_count": 5,
     "metadata": {},
     "output_type": "execute_result"
    }
   ],
   "source": [
    "X, y = noisy_circles\n",
    "\n",
    "X = X.round(6)\n",
    "\n",
    "X.min(0), X.max(0)"
   ],
   "metadata": {
    "collapsed": false,
    "ExecuteTime": {
     "end_time": "2024-08-27T11:47:45.973108Z",
     "start_time": "2024-08-27T11:47:45.952158Z"
    }
   }
  },
  {
   "cell_type": "code",
   "execution_count": 6,
   "outputs": [
    {
     "data": {
      "text/plain": "[array([-1.069165e+00, -8.552915e-01, -6.414180e-01, -4.275445e-01,\n        -2.136710e-01,  2.025000e-04,  2.140760e-01,  4.279495e-01,\n         6.418230e-01,  8.556965e-01,  1.069570e+00]),\n array([-1.154058 , -0.9282821, -0.7025062, -0.4767303, -0.2509544,\n        -0.0251785,  0.2005974,  0.4263733,  0.6521492,  0.8779251,\n         1.103701 ])]"
     },
     "execution_count": 6,
     "metadata": {},
     "output_type": "execute_result"
    }
   ],
   "source": [
    "borders_per_axis = [np.linspace(X[:,j].min(), X[:,j].max(), 11)\n",
    "                      for j in range(X.shape[1])]\n",
    "borders_per_axis"
   ],
   "metadata": {
    "collapsed": false,
    "ExecuteTime": {
     "end_time": "2024-08-27T11:47:50.208374Z",
     "start_time": "2024-08-27T11:47:50.207218Z"
    }
   }
  },
  {
   "cell_type": "code",
   "execution_count": 7,
   "outputs": [],
   "source": [
    "basic_pss = [PS.IntervalPS(values=borders, ndigits=6) for borders in borders_per_axis]\n",
    "ps_cart = PS.CartesianPS(basic_pss)\n",
    "data = list(ps_cart.preprocess_data(X))"
   ],
   "metadata": {
    "collapsed": false,
    "ExecuteTime": {
     "end_time": "2024-08-27T11:47:58.756403Z",
     "start_time": "2024-08-27T11:47:58.752852Z"
    }
   }
  },
  {
   "cell_type": "code",
   "execution_count": 8,
   "outputs": [],
   "source": [
    "assert len(list(ps_cart.extent(data, ps_cart.intent(data)))) == len(data)"
   ],
   "metadata": {
    "collapsed": false,
    "ExecuteTime": {
     "end_time": "2024-08-27T11:48:03.825338Z",
     "start_time": "2024-08-27T11:48:03.821527Z"
    }
   }
  },
  {
   "cell_type": "code",
   "execution_count": 10,
   "outputs": [
    {
     "name": "stdout",
     "output_type": "stream",
     "text": [
      "34\n"
     ]
    }
   ],
   "source": [
    "attr_extents = [ext for _, ext in ps_cart.iter_attributes(data, min_support=0.1)]\n",
    "print(len(attr_extents))"
   ],
   "metadata": {
    "collapsed": false,
    "ExecuteTime": {
     "end_time": "2024-08-27T11:48:20.547164Z",
     "start_time": "2024-08-27T11:48:20.545014Z"
    }
   }
  },
  {
   "cell_type": "code",
   "execution_count": 13,
   "outputs": [
    {
     "data": {
      "text/plain": "  0%|          | 0/34 [00:00<?, ?it/s]",
      "application/vnd.jupyter.widget-view+json": {
       "version_major": 2,
       "version_minor": 0,
       "model_id": "8a70ff104f094a70996d4b3d2750063f"
      }
     },
     "metadata": {},
     "output_type": "display_data"
    },
    {
     "name": "stdout",
     "output_type": "stream",
     "text": [
      "1397\n",
      "CPU times: user 79.3 ms, sys: 77.3 ms, total: 157 ms\n",
      "Wall time: 216 ms\n"
     ]
    }
   ],
   "source": [
    "%%time\n",
    "stable_extents = csp.mine_equivalence_classes.list_stable_extents_via_gsofia(\n",
    "    attr_extents, n_objects=len(data), min_delta_stability=0.01, min_supp=0.1, use_tqdm=True, n_attributes=len(attr_extents)\n",
    ")\n",
    "stable_extents = sorted(stable_extents, key=lambda ext: ext.count(), reverse=True)\n",
    "print(len(stable_extents))"
   ],
   "metadata": {
    "collapsed": false,
    "ExecuteTime": {
     "end_time": "2024-08-27T11:48:53.777489Z",
     "start_time": "2024-08-27T11:48:53.556085Z"
    }
   }
  },
  {
   "cell_type": "code",
   "execution_count": 15,
   "outputs": [
    {
     "data": {
      "text/plain": "  0%|          | 0/1397 [00:00<?, ?it/s]",
      "application/vnd.jupyter.widget-view+json": {
       "version_major": 2,
       "version_minor": 0,
       "model_id": "6b7d11752b624611918271140f66b97a"
      }
     },
     "metadata": {},
     "output_type": "display_data"
    },
    {
     "name": "stdout",
     "output_type": "stream",
     "text": [
      "CPU times: user 653 ms, sys: 19.6 ms, total: 673 ms\n",
      "Wall time: 675 ms\n"
     ]
    }
   ],
   "source": [
    "%%time\n",
    "stable_intents = [ps_cart.intent(data, ext.search(True)) for ext in tqdm(stable_extents)]"
   ],
   "metadata": {
    "collapsed": false,
    "ExecuteTime": {
     "end_time": "2024-08-27T11:49:25.846608Z",
     "start_time": "2024-08-27T11:49:25.172953Z"
    }
   }
  },
  {
   "cell_type": "code",
   "execution_count": 16,
   "outputs": [
    {
     "data": {
      "text/plain": "'0: [-1.07, 0.86], 1: [-1.15, 1.10]'"
     },
     "execution_count": 16,
     "metadata": {},
     "output_type": "execute_result"
    }
   ],
   "source": [
    "ps_cart.verbalize(stable_intents[3])"
   ],
   "metadata": {
    "collapsed": false,
    "ExecuteTime": {
     "end_time": "2024-08-27T11:49:38.165068Z",
     "start_time": "2024-08-27T11:49:38.160578Z"
    }
   }
  }
 ],
 "metadata": {
  "kernelspec": {
   "display_name": "Python 3",
   "language": "python",
   "name": "python3"
  },
  "language_info": {
   "codemirror_mode": {
    "name": "ipython",
    "version": 2
   },
   "file_extension": ".py",
   "mimetype": "text/x-python",
   "name": "python",
   "nbconvert_exporter": "python",
   "pygments_lexer": "ipython2",
   "version": "2.7.6"
  }
 },
 "nbformat": 4,
 "nbformat_minor": 0
}
